{
 "cells": [
  {
   "cell_type": "code",
   "execution_count": null,
   "id": "04bd8132",
   "metadata": {},
   "outputs": [],
   "source": [
    "# Instalação das dependências necessárias\n",
    "!pip install \"tensorflow[and-cuda]\" tensorflow-hub\n",
    "!pip install -q tensorflow tensorflow_hub\n",
    "!pip install -q scikit-learn pandas numpy tqdm\n",
    "\n",
    "# Para usar o BGE-M3\n",
    "!pip install sentence-transformers\n",
    "\n",
    "!pip install spacy\n",
    "!python -m spacy download pt_core_news_lg"
   ]
  },
  {
   "cell_type": "code",
   "execution_count": null,
   "id": "caea2c60",
   "metadata": {},
   "outputs": [],
   "source": [
    "# Verificação da instalação do TensorFlow com suporte a GPU\n",
    "import tensorflow as tf, pprint\n",
    "print(\"TF:\", tf.__version__)\n",
    "print(\"GPUs:\", tf.config.list_physical_devices(\"GPU\"))\n",
    "pprint.pprint(tf.sysconfig.get_build_info())  # mostra cuda_version e cudnn_version"
   ]
  },
  {
   "cell_type": "code",
   "execution_count": 1,
   "id": "c204a117",
   "metadata": {},
   "outputs": [
    {
     "name": "stderr",
     "output_type": "stream",
     "text": [
      "2025-09-07 20:53:13.326985: I tensorflow/core/platform/cpu_feature_guard.cc:210] This TensorFlow binary is optimized to use available CPU instructions in performance-critical operations.\n",
      "To enable the following instructions: AVX2 FMA, in other operations, rebuild TensorFlow with the appropriate compiler flags.\n",
      "/home/ricardo/Mestrado/TAIA/NLP-Embedding/.venv/lib/python3.10/site-packages/tensorflow_hub/__init__.py:61: UserWarning: pkg_resources is deprecated as an API. See https://setuptools.pypa.io/en/latest/pkg_resources.html. The pkg_resources package is slated for removal as early as 2025-11-30. Refrain from using this package or pin to Setuptools<81.\n",
      "  from pkg_resources import parse_version\n",
      "/home/ricardo/Mestrado/TAIA/NLP-Embedding/.venv/lib/python3.10/site-packages/tqdm/auto.py:21: TqdmWarning: IProgress not found. Please update jupyter and ipywidgets. See https://ipywidgets.readthedocs.io/en/stable/user_install.html\n",
      "  from .autonotebook import tqdm as notebook_tqdm\n"
     ]
    }
   ],
   "source": [
    "# Importando as bibliotecas necessárias\n",
    "import pandas as pd\n",
    "import numpy as np\n",
    "import tensorflow as tf\n",
    "import tensorflow_hub as hub\n",
    "from sklearn.model_selection import train_test_split\n",
    "from tqdm import tqdm\n",
    "import spacy\n",
    "from sklearn.preprocessing import StandardScaler\n",
    "\n",
    "#Para usar o BGE-M3\n",
    "from sentence_transformers import SentenceTransformer \n",
    "\n",
    "from sklearn.metrics import classification_report, confusion_matrix\n",
    "import seaborn as sns\n",
    "import matplotlib.pyplot as plt\n",
    "\n",
    "from sklearn.utils import class_weight"
   ]
  },
  {
   "cell_type": "code",
   "execution_count": 2,
   "id": "4b9e10bd",
   "metadata": {},
   "outputs": [],
   "source": [
    "# Carregando os dados\n",
    "df = pd.read_csv('eventos_artigos_filtrados.csv');"
   ]
  },
  {
   "cell_type": "code",
   "execution_count": null,
   "id": "ad7af77f",
   "metadata": {},
   "outputs": [],
   "source": [
    "# Explorar os dados\n",
    "print(\"Informações do dataset:\")\n",
    "print(df.info())\n",
    "\n",
    "print(\"\\nValores ausentes por coluna:\")\n",
    "print(df.isnull().sum())\n",
    "\n",
    "print(\"\\nNúmero de linhas duplicadas:\")\n",
    "print(df.duplicated().sum())\n",
    "\n",
    "print(\"\\nTotal dos dados:\")\n",
    "print(df.shape[0])\n",
    "\n",
    "print(\"\\nBalanceamento de Classes:\")\n",
    "print(df['antes_2023'].value_counts())"
   ]
  },
  {
   "cell_type": "code",
   "execution_count": 3,
   "id": "6a7f2bf1",
   "metadata": {},
   "outputs": [],
   "source": [
    "# Preparação dos dados\n",
    "df = df.drop(columns=['evento_nome', 'resumo'])\n",
    "df = df.dropna(subset=['titulo_artigo', 'ano_edicao'])\n",
    "df = df.drop_duplicates(subset=['titulo_artigo', 'ano_edicao'], keep='first')\n",
    "\n",
    "df['antes_2023'] = df['ano_edicao'].apply(lambda x: 1 if x < 2023 else 0)\n",
    "\n",
    "df[\"titulo_artigo\"] = df[\"titulo_artigo\"].astype(str).str.strip()\n",
    "df[\"antes_2023\"] = df[\"antes_2023\"].astype(int).values\n",
    "\n",
    "#df.head()"
   ]
  },
  {
   "cell_type": "markdown",
   "id": "b688e244",
   "metadata": {},
   "source": [
    "# Geração do embeddings com BGE-M3 e posterior complementação com features de estilo"
   ]
  },
  {
   "cell_type": "code",
   "execution_count": null,
   "id": "913837a1",
   "metadata": {},
   "outputs": [
    {
     "name": "stdout",
     "output_type": "stream",
     "text": [
      "BGE-M3 carregado com sucesso.\n"
     ]
    },
    {
     "name": "stderr",
     "output_type": "stream",
     "text": [
      "Batches: 100%|██████████| 197/197 [00:37<00:00,  5.20it/s]\n"
     ]
    },
    {
     "name": "stdout",
     "output_type": "stream",
     "text": [
      "\n",
      "Embeddings gerados com sucesso! Shape final: (12607, 1024)\n"
     ]
    }
   ],
   "source": [
    "titulos = df['titulo_artigo'].tolist()\n",
    "labels = df['antes_2023'].values\n",
    "\n",
    "# Carregamento do Modelo BGE-M3\n",
    "model = SentenceTransformer(\"BAAI/bge-m3\")\n",
    "print(\"BGE-M3 carregado com sucesso.\")\n",
    "\n",
    "# Execução da Geração de Embeddings\n",
    "embeddings_gerados = model.encode(\n",
    "    titulos,\n",
    "    batch_size=64,\n",
    "    show_progress_bar=True\n",
    ")\n",
    "\n",
    "print(f\"\\nEmbeddings gerados com sucesso! Shape final: {embeddings_gerados.shape}\")"
   ]
  },
  {
   "cell_type": "markdown",
   "id": "b6264781",
   "metadata": {},
   "source": [
    "# Features de estilo"
   ]
  },
  {
   "cell_type": "code",
   "execution_count": 5,
   "id": "ef854475",
   "metadata": {},
   "outputs": [],
   "source": [
    "nlp = spacy.load(\"pt_core_news_lg\")\n",
    "\n",
    "# Gerar features\n",
    "def calcular_features_estilo(texto: str):\n",
    "    doc = nlp(texto)\n",
    "    \n",
    "    # Features de Comprimento\n",
    "    num_chars = len(texto)\n",
    "    num_words = len([token for token in doc if not token.is_punct])\n",
    "    avg_word_len = np.mean([len(token.text) for token in doc if not token.is_punct]) if num_words > 0 else 0\n",
    "    \n",
    "    # Features Lexicais\n",
    "    # Contagem de tipos de palavras (Part-of-Speech tagging)\n",
    "    pos_counts = doc.count_by(spacy.attrs.POS)\n",
    "    num_nouns = pos_counts.get(nlp.vocab.strings[\"NOUN\"], 0) # Substantivos\n",
    "    num_verbs = pos_counts.get(nlp.vocab.strings[\"VERB\"], 0) # Verbos\n",
    "    num_adjs = pos_counts.get(nlp.vocab.strings[\"ADJ\"], 0)  # Adjetivos\n",
    "    num_advs = pos_counts.get(nlp.vocab.strings[\"ADV\"], 0)  # Advérbios\n",
    "    \n",
    "    # Outras Features\n",
    "    num_stopwords = len([token for token in doc if token.is_stop])\n",
    "    stopword_ratio = num_stopwords / num_words if num_words > 0 else 0\n",
    "    num_punctuations = len([token for token in doc if token.is_punct])\n",
    "    \n",
    "    # Retorna um array NumPy com todas as features calculadas\n",
    "    return np.array([\n",
    "        num_chars, num_words, avg_word_len,\n",
    "        num_nouns, num_verbs, num_adjs, num_advs,\n",
    "        num_stopwords, stopword_ratio, num_punctuations\n",
    "    ])"
   ]
  },
  {
   "cell_type": "code",
   "execution_count": null,
   "id": "e64b4962",
   "metadata": {},
   "outputs": [
    {
     "name": "stderr",
     "output_type": "stream",
     "text": [
      "100%|██████████| 12607/12607 [00:47<00:00, 268.21it/s]\n"
     ]
    }
   ],
   "source": [
    "stylistic_features = np.array([calcular_features_estilo(titulo) for titulo in tqdm(titulos)])\n",
    "scaler = StandardScaler()\n",
    "stylistic_features_scaled = scaler.fit_transform(stylistic_features)\n",
    "\n",
    "# Features Semânticas e de Estilo\n",
    "X_combined = np.concatenate([embeddings_gerados, stylistic_features_scaled], axis=1)\n",
    "y = labels\n",
    "\n",
    "X_train, X_test, y_train, y_test = train_test_split(X_combined, y, test_size=0.2, random_state=42, stratify=y)\n",
    "input_shape = X_train.shape[1] # Pega o novo número de colunas (1024 + num_features_estilo)"
   ]
  },
  {
   "cell_type": "markdown",
   "id": "426a8448",
   "metadata": {},
   "source": [
    "# CLASSIFICADOR "
   ]
  },
  {
   "cell_type": "code",
   "execution_count": 11,
   "id": "61f7b878",
   "metadata": {},
   "outputs": [
    {
     "name": "stdout",
     "output_type": "stream",
     "text": [
      "Dados divididos: 10085 para treino, 2522 para teste.\n",
      "\n",
      "Pesos de Classe Calculados: {0: 1.6, 1: 1.0} \n",
      "\n"
     ]
    }
   ],
   "source": [
    "print(f\"Dados divididos: {len(X_train)} para treino, {len(X_test)} para teste.\\n\")\n",
    "\n",
    "# Verificou-se na exploração dos dados que o dataset está desbalanceado. Será aplidada a técnica de Ponderação de Classes (Class Weighting) \n",
    "\n",
    "# Calcula os pesos para balancear as classes com base na frequência de cada classe em y_train\n",
    "#weights = class_weight.compute_class_weight(\n",
    "#    class_weight='balanced',\n",
    "#    classes=np.unique(y_train),\n",
    "#    y=y_train\n",
    "#)\n",
    "# Converte o array de pesos em um dicionário que o Keras entende\n",
    "#class_weights = dict(enumerate(weights))\n",
    "\n",
    "# Setando o class_weight manualmente\n",
    "class_weights = {0: 1.6, 1: 1.0} \n",
    "\n",
    "print(f\"Pesos de Classe Calculados: {class_weights} \\n\")"
   ]
  },
  {
   "cell_type": "code",
   "execution_count": null,
   "id": "d4790f95",
   "metadata": {},
   "outputs": [
    {
     "name": "stdout",
     "output_type": "stream",
     "text": [
      "Dados divididos: 10085 para treino, 2522 para teste.\n",
      "\n"
     ]
    },
    {
     "name": "stderr",
     "output_type": "stream",
     "text": [
      "/home/ricardo/Mestrado/TAIA/NLP-Embedding/.venv/lib/python3.10/site-packages/keras/src/layers/core/input_layer.py:27: UserWarning: Argument `input_shape` is deprecated. Use `shape` instead.\n",
      "  warnings.warn(\n"
     ]
    },
    {
     "data": {
      "text/html": [
       "<pre style=\"white-space:pre;overflow-x:auto;line-height:normal;font-family:Menlo,'DejaVu Sans Mono',consolas,'Courier New',monospace\"><span style=\"font-weight: bold\">Model: \"sequential_2\"</span>\n",
       "</pre>\n"
      ],
      "text/plain": [
       "\u001b[1mModel: \"sequential_2\"\u001b[0m\n"
      ]
     },
     "metadata": {},
     "output_type": "display_data"
    },
    {
     "data": {
      "text/html": [
       "<pre style=\"white-space:pre;overflow-x:auto;line-height:normal;font-family:Menlo,'DejaVu Sans Mono',consolas,'Courier New',monospace\">┏━━━━━━━━━━━━━━━━━━━━━━━━━━━━━━━━━┳━━━━━━━━━━━━━━━━━━━━━━━━┳━━━━━━━━━━━━━━━┓\n",
       "┃<span style=\"font-weight: bold\"> Layer (type)                    </span>┃<span style=\"font-weight: bold\"> Output Shape           </span>┃<span style=\"font-weight: bold\">       Param # </span>┃\n",
       "┡━━━━━━━━━━━━━━━━━━━━━━━━━━━━━━━━━╇━━━━━━━━━━━━━━━━━━━━━━━━╇━━━━━━━━━━━━━━━┩\n",
       "│ dense_4 (<span style=\"color: #0087ff; text-decoration-color: #0087ff\">Dense</span>)                 │ (<span style=\"color: #00d7ff; text-decoration-color: #00d7ff\">None</span>, <span style=\"color: #00af00; text-decoration-color: #00af00\">128</span>)            │       <span style=\"color: #00af00; text-decoration-color: #00af00\">132,480</span> │\n",
       "├─────────────────────────────────┼────────────────────────┼───────────────┤\n",
       "│ dropout_2 (<span style=\"color: #0087ff; text-decoration-color: #0087ff\">Dropout</span>)             │ (<span style=\"color: #00d7ff; text-decoration-color: #00d7ff\">None</span>, <span style=\"color: #00af00; text-decoration-color: #00af00\">128</span>)            │             <span style=\"color: #00af00; text-decoration-color: #00af00\">0</span> │\n",
       "├─────────────────────────────────┼────────────────────────┼───────────────┤\n",
       "│ dense_5 (<span style=\"color: #0087ff; text-decoration-color: #0087ff\">Dense</span>)                 │ (<span style=\"color: #00d7ff; text-decoration-color: #00d7ff\">None</span>, <span style=\"color: #00af00; text-decoration-color: #00af00\">1</span>)              │           <span style=\"color: #00af00; text-decoration-color: #00af00\">129</span> │\n",
       "└─────────────────────────────────┴────────────────────────┴───────────────┘\n",
       "</pre>\n"
      ],
      "text/plain": [
       "┏━━━━━━━━━━━━━━━━━━━━━━━━━━━━━━━━━┳━━━━━━━━━━━━━━━━━━━━━━━━┳━━━━━━━━━━━━━━━┓\n",
       "┃\u001b[1m \u001b[0m\u001b[1mLayer (type)                   \u001b[0m\u001b[1m \u001b[0m┃\u001b[1m \u001b[0m\u001b[1mOutput Shape          \u001b[0m\u001b[1m \u001b[0m┃\u001b[1m \u001b[0m\u001b[1m      Param #\u001b[0m\u001b[1m \u001b[0m┃\n",
       "┡━━━━━━━━━━━━━━━━━━━━━━━━━━━━━━━━━╇━━━━━━━━━━━━━━━━━━━━━━━━╇━━━━━━━━━━━━━━━┩\n",
       "│ dense_4 (\u001b[38;5;33mDense\u001b[0m)                 │ (\u001b[38;5;45mNone\u001b[0m, \u001b[38;5;34m128\u001b[0m)            │       \u001b[38;5;34m132,480\u001b[0m │\n",
       "├─────────────────────────────────┼────────────────────────┼───────────────┤\n",
       "│ dropout_2 (\u001b[38;5;33mDropout\u001b[0m)             │ (\u001b[38;5;45mNone\u001b[0m, \u001b[38;5;34m128\u001b[0m)            │             \u001b[38;5;34m0\u001b[0m │\n",
       "├─────────────────────────────────┼────────────────────────┼───────────────┤\n",
       "│ dense_5 (\u001b[38;5;33mDense\u001b[0m)                 │ (\u001b[38;5;45mNone\u001b[0m, \u001b[38;5;34m1\u001b[0m)              │           \u001b[38;5;34m129\u001b[0m │\n",
       "└─────────────────────────────────┴────────────────────────┴───────────────┘\n"
      ]
     },
     "metadata": {},
     "output_type": "display_data"
    },
    {
     "data": {
      "text/html": [
       "<pre style=\"white-space:pre;overflow-x:auto;line-height:normal;font-family:Menlo,'DejaVu Sans Mono',consolas,'Courier New',monospace\"><span style=\"font-weight: bold\"> Total params: </span><span style=\"color: #00af00; text-decoration-color: #00af00\">132,609</span> (518.00 KB)\n",
       "</pre>\n"
      ],
      "text/plain": [
       "\u001b[1m Total params: \u001b[0m\u001b[38;5;34m132,609\u001b[0m (518.00 KB)\n"
      ]
     },
     "metadata": {},
     "output_type": "display_data"
    },
    {
     "data": {
      "text/html": [
       "<pre style=\"white-space:pre;overflow-x:auto;line-height:normal;font-family:Menlo,'DejaVu Sans Mono',consolas,'Courier New',monospace\"><span style=\"font-weight: bold\"> Trainable params: </span><span style=\"color: #00af00; text-decoration-color: #00af00\">132,609</span> (518.00 KB)\n",
       "</pre>\n"
      ],
      "text/plain": [
       "\u001b[1m Trainable params: \u001b[0m\u001b[38;5;34m132,609\u001b[0m (518.00 KB)\n"
      ]
     },
     "metadata": {},
     "output_type": "display_data"
    },
    {
     "data": {
      "text/html": [
       "<pre style=\"white-space:pre;overflow-x:auto;line-height:normal;font-family:Menlo,'DejaVu Sans Mono',consolas,'Courier New',monospace\"><span style=\"font-weight: bold\"> Non-trainable params: </span><span style=\"color: #00af00; text-decoration-color: #00af00\">0</span> (0.00 B)\n",
       "</pre>\n"
      ],
      "text/plain": [
       "\u001b[1m Non-trainable params: \u001b[0m\u001b[38;5;34m0\u001b[0m (0.00 B)\n"
      ]
     },
     "metadata": {},
     "output_type": "display_data"
    },
    {
     "name": "stdout",
     "output_type": "stream",
     "text": [
      "\n",
      "Iniciando o treinamento do classificador...\n",
      "Epoch 1/60\n"
     ]
    },
    {
     "name": "stderr",
     "output_type": "stream",
     "text": [
      "2025-09-07 20:58:40.600533: I external/local_xla/xla/service/service.cc:163] XLA service 0x7ff454006d20 initialized for platform CUDA (this does not guarantee that XLA will be used). Devices:\n",
      "2025-09-07 20:58:40.600545: I external/local_xla/xla/service/service.cc:171]   StreamExecutor device (0): NVIDIA GeForce RTX 3060, Compute Capability 8.6\n",
      "2025-09-07 20:58:40.613598: I tensorflow/compiler/mlir/tensorflow/utils/dump_mlir_util.cc:269] disabling MLIR crash reproducer, set env var `MLIR_CRASH_REPRODUCER_DIRECTORY` to enable.\n",
      "2025-09-07 20:58:40.693775: I external/local_xla/xla/stream_executor/cuda/cuda_dnn.cc:473] Loaded cuDNN version 91002\n"
     ]
    },
    {
     "name": "stdout",
     "output_type": "stream",
     "text": [
      "\u001b[1m 167/2522\u001b[0m \u001b[32m━\u001b[0m\u001b[37m━━━━━━━━━━━━━━━━━━━\u001b[0m \u001b[1m2s\u001b[0m 911us/step - accuracy: 0.7005 - loss: 0.7416"
     ]
    },
    {
     "name": "stderr",
     "output_type": "stream",
     "text": [
      "I0000 00:00:1757293121.299978  981664 device_compiler.h:196] Compiled cluster using XLA!  This line is logged at most once for the lifetime of the process.\n"
     ]
    },
    {
     "name": "stdout",
     "output_type": "stream",
     "text": [
      "\u001b[1m2522/2522\u001b[0m \u001b[32m━━━━━━━━━━━━━━━━━━━━\u001b[0m\u001b[37m\u001b[0m \u001b[1m5s\u001b[0m 1ms/step - accuracy: 0.7124 - loss: 0.7151 - val_accuracy: 0.7169 - val_loss: 0.5399\n",
      "Epoch 2/60\n",
      "\u001b[1m2522/2522\u001b[0m \u001b[32m━━━━━━━━━━━━━━━━━━━━\u001b[0m\u001b[37m\u001b[0m \u001b[1m3s\u001b[0m 1ms/step - accuracy: 0.7290 - loss: 0.6776 - val_accuracy: 0.7252 - val_loss: 0.5264\n",
      "Epoch 3/60\n",
      "\u001b[1m2522/2522\u001b[0m \u001b[32m━━━━━━━━━━━━━━━━━━━━\u001b[0m\u001b[37m\u001b[0m \u001b[1m3s\u001b[0m 996us/step - accuracy: 0.7309 - loss: 0.6595 - val_accuracy: 0.7328 - val_loss: 0.5385\n",
      "Epoch 4/60\n",
      "\u001b[1m2522/2522\u001b[0m \u001b[32m━━━━━━━━━━━━━━━━━━━━\u001b[0m\u001b[37m\u001b[0m \u001b[1m3s\u001b[0m 989us/step - accuracy: 0.7431 - loss: 0.6467 - val_accuracy: 0.7074 - val_loss: 0.5429\n",
      "Epoch 5/60\n",
      "\u001b[1m2522/2522\u001b[0m \u001b[32m━━━━━━━━━━━━━━━━━━━━\u001b[0m\u001b[37m\u001b[0m \u001b[1m3s\u001b[0m 995us/step - accuracy: 0.7451 - loss: 0.6351 - val_accuracy: 0.7066 - val_loss: 0.5468\n",
      "Epoch 6/60\n",
      "\u001b[1m2522/2522\u001b[0m \u001b[32m━━━━━━━━━━━━━━━━━━━━\u001b[0m\u001b[37m\u001b[0m \u001b[1m2s\u001b[0m 980us/step - accuracy: 0.7511 - loss: 0.6224 - val_accuracy: 0.7367 - val_loss: 0.5079\n",
      "Epoch 7/60\n",
      "\u001b[1m2522/2522\u001b[0m \u001b[32m━━━━━━━━━━━━━━━━━━━━\u001b[0m\u001b[37m\u001b[0m \u001b[1m3s\u001b[0m 1ms/step - accuracy: 0.7620 - loss: 0.6036 - val_accuracy: 0.7324 - val_loss: 0.5222\n",
      "Epoch 8/60\n",
      "\u001b[1m2522/2522\u001b[0m \u001b[32m━━━━━━━━━━━━━━━━━━━━\u001b[0m\u001b[37m\u001b[0m \u001b[1m3s\u001b[0m 997us/step - accuracy: 0.7712 - loss: 0.5918 - val_accuracy: 0.7288 - val_loss: 0.5186\n",
      "Epoch 9/60\n",
      "\u001b[1m2522/2522\u001b[0m \u001b[32m━━━━━━━━━━━━━━━━━━━━\u001b[0m\u001b[37m\u001b[0m \u001b[1m3s\u001b[0m 1ms/step - accuracy: 0.7783 - loss: 0.5735 - val_accuracy: 0.7355 - val_loss: 0.5131\n",
      "Epoch 10/60\n",
      "\u001b[1m2522/2522\u001b[0m \u001b[32m━━━━━━━━━━━━━━━━━━━━\u001b[0m\u001b[37m\u001b[0m \u001b[1m3s\u001b[0m 1ms/step - accuracy: 0.7879 - loss: 0.5556 - val_accuracy: 0.7228 - val_loss: 0.5312\n",
      "Epoch 11/60\n",
      "\u001b[1m2522/2522\u001b[0m \u001b[32m━━━━━━━━━━━━━━━━━━━━\u001b[0m\u001b[37m\u001b[0m \u001b[1m3s\u001b[0m 1ms/step - accuracy: 0.7982 - loss: 0.5341 - val_accuracy: 0.7458 - val_loss: 0.5163\n",
      "Epoch 12/60\n",
      "\u001b[1m2522/2522\u001b[0m \u001b[32m━━━━━━━━━━━━━━━━━━━━\u001b[0m\u001b[37m\u001b[0m \u001b[1m3s\u001b[0m 1ms/step - accuracy: 0.8066 - loss: 0.5200 - val_accuracy: 0.7193 - val_loss: 0.5428\n",
      "Epoch 13/60\n",
      "\u001b[1m2522/2522\u001b[0m \u001b[32m━━━━━━━━━━━━━━━━━━━━\u001b[0m\u001b[37m\u001b[0m \u001b[1m3s\u001b[0m 1ms/step - accuracy: 0.8144 - loss: 0.4989 - val_accuracy: 0.7260 - val_loss: 0.5492\n",
      "Epoch 14/60\n",
      "\u001b[1m2522/2522\u001b[0m \u001b[32m━━━━━━━━━━━━━━━━━━━━\u001b[0m\u001b[37m\u001b[0m \u001b[1m3s\u001b[0m 1ms/step - accuracy: 0.8264 - loss: 0.4803 - val_accuracy: 0.7304 - val_loss: 0.5520\n",
      "Epoch 15/60\n",
      "\u001b[1m2522/2522\u001b[0m \u001b[32m━━━━━━━━━━━━━━━━━━━━\u001b[0m\u001b[37m\u001b[0m \u001b[1m3s\u001b[0m 1ms/step - accuracy: 0.8302 - loss: 0.4629 - val_accuracy: 0.7149 - val_loss: 0.5668\n",
      "Epoch 16/60\n",
      "\u001b[1m2522/2522\u001b[0m \u001b[32m━━━━━━━━━━━━━━━━━━━━\u001b[0m\u001b[37m\u001b[0m \u001b[1m3s\u001b[0m 1ms/step - accuracy: 0.8363 - loss: 0.4402 - val_accuracy: 0.7276 - val_loss: 0.5703\n",
      "Epoch 17/60\n",
      "\u001b[1m2522/2522\u001b[0m \u001b[32m━━━━━━━━━━━━━━━━━━━━\u001b[0m\u001b[37m\u001b[0m \u001b[1m3s\u001b[0m 1ms/step - accuracy: 0.8477 - loss: 0.4323 - val_accuracy: 0.7102 - val_loss: 0.5740\n",
      "Epoch 18/60\n",
      "\u001b[1m2522/2522\u001b[0m \u001b[32m━━━━━━━━━━━━━━━━━━━━\u001b[0m\u001b[37m\u001b[0m \u001b[1m3s\u001b[0m 1ms/step - accuracy: 0.8611 - loss: 0.4056 - val_accuracy: 0.7141 - val_loss: 0.5792\n",
      "Epoch 19/60\n",
      "\u001b[1m2522/2522\u001b[0m \u001b[32m━━━━━━━━━━━━━━━━━━━━\u001b[0m\u001b[37m\u001b[0m \u001b[1m3s\u001b[0m 1ms/step - accuracy: 0.8694 - loss: 0.3809 - val_accuracy: 0.7189 - val_loss: 0.6041\n",
      "Epoch 20/60\n",
      "\u001b[1m2522/2522\u001b[0m \u001b[32m━━━━━━━━━━━━━━━━━━━━\u001b[0m\u001b[37m\u001b[0m \u001b[1m3s\u001b[0m 1ms/step - accuracy: 0.8630 - loss: 0.3856 - val_accuracy: 0.7276 - val_loss: 0.5939\n",
      "Epoch 21/60\n",
      "\u001b[1m2522/2522\u001b[0m \u001b[32m━━━━━━━━━━━━━━━━━━━━\u001b[0m\u001b[37m\u001b[0m \u001b[1m3s\u001b[0m 1ms/step - accuracy: 0.8792 - loss: 0.3537 - val_accuracy: 0.7109 - val_loss: 0.6080\n",
      "Epoch 22/60\n",
      "\u001b[1m2522/2522\u001b[0m \u001b[32m━━━━━━━━━━━━━━━━━━━━\u001b[0m\u001b[37m\u001b[0m \u001b[1m3s\u001b[0m 1ms/step - accuracy: 0.8836 - loss: 0.3429 - val_accuracy: 0.7248 - val_loss: 0.6228\n",
      "Epoch 23/60\n",
      "\u001b[1m2522/2522\u001b[0m \u001b[32m━━━━━━━━━━━━━━━━━━━━\u001b[0m\u001b[37m\u001b[0m \u001b[1m3s\u001b[0m 1ms/step - accuracy: 0.8914 - loss: 0.3313 - val_accuracy: 0.7145 - val_loss: 0.6423\n",
      "Epoch 24/60\n",
      "\u001b[1m2522/2522\u001b[0m \u001b[32m━━━━━━━━━━━━━━━━━━━━\u001b[0m\u001b[37m\u001b[0m \u001b[1m3s\u001b[0m 1ms/step - accuracy: 0.8936 - loss: 0.3125 - val_accuracy: 0.7105 - val_loss: 0.6540\n",
      "Epoch 25/60\n",
      "\u001b[1m2522/2522\u001b[0m \u001b[32m━━━━━━━━━━━━━━━━━━━━\u001b[0m\u001b[37m\u001b[0m \u001b[1m3s\u001b[0m 1ms/step - accuracy: 0.8955 - loss: 0.3106 - val_accuracy: 0.7220 - val_loss: 0.6455\n",
      "Epoch 26/60\n",
      "\u001b[1m2522/2522\u001b[0m \u001b[32m━━━━━━━━━━━━━━━━━━━━\u001b[0m\u001b[37m\u001b[0m \u001b[1m3s\u001b[0m 1ms/step - accuracy: 0.9012 - loss: 0.2914 - val_accuracy: 0.7153 - val_loss: 0.6744\n",
      "Epoch 27/60\n",
      "\u001b[1m2522/2522\u001b[0m \u001b[32m━━━━━━━━━━━━━━━━━━━━\u001b[0m\u001b[37m\u001b[0m \u001b[1m3s\u001b[0m 1ms/step - accuracy: 0.9077 - loss: 0.2790 - val_accuracy: 0.7181 - val_loss: 0.6858\n",
      "Epoch 28/60\n",
      "\u001b[1m2522/2522\u001b[0m \u001b[32m━━━━━━━━━━━━━━━━━━━━\u001b[0m\u001b[37m\u001b[0m \u001b[1m3s\u001b[0m 1ms/step - accuracy: 0.9035 - loss: 0.2773 - val_accuracy: 0.7308 - val_loss: 0.6879\n",
      "Epoch 29/60\n",
      "\u001b[1m2522/2522\u001b[0m \u001b[32m━━━━━━━━━━━━━━━━━━━━\u001b[0m\u001b[37m\u001b[0m \u001b[1m3s\u001b[0m 1ms/step - accuracy: 0.9148 - loss: 0.2620 - val_accuracy: 0.7177 - val_loss: 0.7059\n",
      "Epoch 30/60\n",
      "\u001b[1m2522/2522\u001b[0m \u001b[32m━━━━━━━━━━━━━━━━━━━━\u001b[0m\u001b[37m\u001b[0m \u001b[1m3s\u001b[0m 1ms/step - accuracy: 0.9115 - loss: 0.2585 - val_accuracy: 0.7074 - val_loss: 0.7259\n",
      "Epoch 31/60\n",
      "\u001b[1m2522/2522\u001b[0m \u001b[32m━━━━━━━━━━━━━━━━━━━━\u001b[0m\u001b[37m\u001b[0m \u001b[1m3s\u001b[0m 1ms/step - accuracy: 0.9168 - loss: 0.2506 - val_accuracy: 0.7232 - val_loss: 0.7478\n",
      "Epoch 32/60\n",
      "\u001b[1m2522/2522\u001b[0m \u001b[32m━━━━━━━━━━━━━━━━━━━━\u001b[0m\u001b[37m\u001b[0m \u001b[1m3s\u001b[0m 1ms/step - accuracy: 0.9232 - loss: 0.2313 - val_accuracy: 0.7224 - val_loss: 0.7558\n",
      "Epoch 33/60\n",
      "\u001b[1m2522/2522\u001b[0m \u001b[32m━━━━━━━━━━━━━━━━━━━━\u001b[0m\u001b[37m\u001b[0m \u001b[1m3s\u001b[0m 1ms/step - accuracy: 0.9201 - loss: 0.2359 - val_accuracy: 0.7090 - val_loss: 0.7599\n",
      "Epoch 34/60\n",
      "\u001b[1m2522/2522\u001b[0m \u001b[32m━━━━━━━━━━━━━━━━━━━━\u001b[0m\u001b[37m\u001b[0m \u001b[1m3s\u001b[0m 1ms/step - accuracy: 0.9245 - loss: 0.2237 - val_accuracy: 0.7232 - val_loss: 0.7952\n",
      "Epoch 35/60\n",
      "\u001b[1m2522/2522\u001b[0m \u001b[32m━━━━━━━━━━━━━━━━━━━━\u001b[0m\u001b[37m\u001b[0m \u001b[1m3s\u001b[0m 1ms/step - accuracy: 0.9281 - loss: 0.2267 - val_accuracy: 0.7141 - val_loss: 0.7578\n",
      "Epoch 36/60\n",
      "\u001b[1m2522/2522\u001b[0m \u001b[32m━━━━━━━━━━━━━━━━━━━━\u001b[0m\u001b[37m\u001b[0m \u001b[1m3s\u001b[0m 1ms/step - accuracy: 0.9314 - loss: 0.2101 - val_accuracy: 0.7193 - val_loss: 0.7876\n",
      "Epoch 37/60\n",
      "\u001b[1m2522/2522\u001b[0m \u001b[32m━━━━━━━━━━━━━━━━━━━━\u001b[0m\u001b[37m\u001b[0m \u001b[1m3s\u001b[0m 1ms/step - accuracy: 0.9302 - loss: 0.2093 - val_accuracy: 0.7046 - val_loss: 0.8315\n",
      "Epoch 38/60\n",
      "\u001b[1m2522/2522\u001b[0m \u001b[32m━━━━━━━━━━━━━━━━━━━━\u001b[0m\u001b[37m\u001b[0m \u001b[1m3s\u001b[0m 1ms/step - accuracy: 0.9328 - loss: 0.1991 - val_accuracy: 0.7133 - val_loss: 0.8133\n",
      "Epoch 39/60\n",
      "\u001b[1m2522/2522\u001b[0m \u001b[32m━━━━━━━━━━━━━━━━━━━━\u001b[0m\u001b[37m\u001b[0m \u001b[1m3s\u001b[0m 1ms/step - accuracy: 0.9369 - loss: 0.1936 - val_accuracy: 0.7331 - val_loss: 0.8429\n",
      "Epoch 40/60\n",
      "\u001b[1m2522/2522\u001b[0m \u001b[32m━━━━━━━━━━━━━━━━━━━━\u001b[0m\u001b[37m\u001b[0m \u001b[1m3s\u001b[0m 1ms/step - accuracy: 0.9328 - loss: 0.1971 - val_accuracy: 0.7205 - val_loss: 0.8258\n",
      "Epoch 41/60\n",
      "\u001b[1m2522/2522\u001b[0m \u001b[32m━━━━━━━━━━━━━━━━━━━━\u001b[0m\u001b[37m\u001b[0m \u001b[1m3s\u001b[0m 1ms/step - accuracy: 0.9392 - loss: 0.1886 - val_accuracy: 0.7117 - val_loss: 0.8423\n",
      "Epoch 42/60\n",
      "\u001b[1m2522/2522\u001b[0m \u001b[32m━━━━━━━━━━━━━━━━━━━━\u001b[0m\u001b[37m\u001b[0m \u001b[1m3s\u001b[0m 1ms/step - accuracy: 0.9423 - loss: 0.1772 - val_accuracy: 0.7169 - val_loss: 0.8847\n",
      "Epoch 43/60\n",
      "\u001b[1m2522/2522\u001b[0m \u001b[32m━━━━━━━━━━━━━━━━━━━━\u001b[0m\u001b[37m\u001b[0m \u001b[1m3s\u001b[0m 1ms/step - accuracy: 0.9416 - loss: 0.1782 - val_accuracy: 0.7189 - val_loss: 0.9332\n",
      "Epoch 44/60\n",
      "\u001b[1m2522/2522\u001b[0m \u001b[32m━━━━━━━━━━━━━━━━━━━━\u001b[0m\u001b[37m\u001b[0m \u001b[1m3s\u001b[0m 1ms/step - accuracy: 0.9404 - loss: 0.1808 - val_accuracy: 0.7236 - val_loss: 0.9131\n",
      "Epoch 45/60\n",
      "\u001b[1m2522/2522\u001b[0m \u001b[32m━━━━━━━━━━━━━━━━━━━━\u001b[0m\u001b[37m\u001b[0m \u001b[1m3s\u001b[0m 1ms/step - accuracy: 0.9422 - loss: 0.1763 - val_accuracy: 0.7098 - val_loss: 0.8932\n",
      "Epoch 46/60\n",
      "\u001b[1m2522/2522\u001b[0m \u001b[32m━━━━━━━━━━━━━━━━━━━━\u001b[0m\u001b[37m\u001b[0m \u001b[1m3s\u001b[0m 1ms/step - accuracy: 0.9501 - loss: 0.1613 - val_accuracy: 0.7113 - val_loss: 0.9739\n",
      "Epoch 47/60\n",
      "\u001b[1m2522/2522\u001b[0m \u001b[32m━━━━━━━━━━━━━━━━━━━━\u001b[0m\u001b[37m\u001b[0m \u001b[1m3s\u001b[0m 1ms/step - accuracy: 0.9428 - loss: 0.1697 - val_accuracy: 0.7288 - val_loss: 0.9609\n",
      "Epoch 48/60\n",
      "\u001b[1m2522/2522\u001b[0m \u001b[32m━━━━━━━━━━━━━━━━━━━━\u001b[0m\u001b[37m\u001b[0m \u001b[1m3s\u001b[0m 1ms/step - accuracy: 0.9485 - loss: 0.1529 - val_accuracy: 0.7220 - val_loss: 0.9515\n",
      "Epoch 49/60\n",
      "\u001b[1m2522/2522\u001b[0m \u001b[32m━━━━━━━━━━━━━━━━━━━━\u001b[0m\u001b[37m\u001b[0m \u001b[1m3s\u001b[0m 1ms/step - accuracy: 0.9464 - loss: 0.1628 - val_accuracy: 0.7260 - val_loss: 0.9644\n",
      "Epoch 50/60\n",
      "\u001b[1m2522/2522\u001b[0m \u001b[32m━━━━━━━━━━━━━━━━━━━━\u001b[0m\u001b[37m\u001b[0m \u001b[1m3s\u001b[0m 1ms/step - accuracy: 0.9497 - loss: 0.1505 - val_accuracy: 0.7161 - val_loss: 1.0207\n",
      "Epoch 51/60\n",
      "\u001b[1m2522/2522\u001b[0m \u001b[32m━━━━━━━━━━━━━━━━━━━━\u001b[0m\u001b[37m\u001b[0m \u001b[1m3s\u001b[0m 1ms/step - accuracy: 0.9462 - loss: 0.1568 - val_accuracy: 0.7169 - val_loss: 1.0167\n",
      "Epoch 52/60\n",
      "\u001b[1m2522/2522\u001b[0m \u001b[32m━━━━━━━━━━━━━━━━━━━━\u001b[0m\u001b[37m\u001b[0m \u001b[1m3s\u001b[0m 1ms/step - accuracy: 0.9500 - loss: 0.1467 - val_accuracy: 0.7252 - val_loss: 1.0272\n",
      "Epoch 53/60\n",
      "\u001b[1m2522/2522\u001b[0m \u001b[32m━━━━━━━━━━━━━━━━━━━━\u001b[0m\u001b[37m\u001b[0m \u001b[1m3s\u001b[0m 1ms/step - accuracy: 0.9550 - loss: 0.1403 - val_accuracy: 0.7232 - val_loss: 1.0157\n",
      "Epoch 54/60\n",
      "\u001b[1m2522/2522\u001b[0m \u001b[32m━━━━━━━━━━━━━━━━━━━━\u001b[0m\u001b[37m\u001b[0m \u001b[1m3s\u001b[0m 1ms/step - accuracy: 0.9495 - loss: 0.1445 - val_accuracy: 0.7197 - val_loss: 0.9963\n",
      "Epoch 55/60\n",
      "\u001b[1m2522/2522\u001b[0m \u001b[32m━━━━━━━━━━━━━━━━━━━━\u001b[0m\u001b[37m\u001b[0m \u001b[1m3s\u001b[0m 1ms/step - accuracy: 0.9491 - loss: 0.1491 - val_accuracy: 0.7157 - val_loss: 1.0276\n",
      "Epoch 56/60\n",
      "\u001b[1m2522/2522\u001b[0m \u001b[32m━━━━━━━━━━━━━━━━━━━━\u001b[0m\u001b[37m\u001b[0m \u001b[1m3s\u001b[0m 1ms/step - accuracy: 0.9532 - loss: 0.1378 - val_accuracy: 0.7161 - val_loss: 1.0395\n",
      "Epoch 57/60\n",
      "\u001b[1m2522/2522\u001b[0m \u001b[32m━━━━━━━━━━━━━━━━━━━━\u001b[0m\u001b[37m\u001b[0m \u001b[1m3s\u001b[0m 1ms/step - accuracy: 0.9538 - loss: 0.1408 - val_accuracy: 0.7240 - val_loss: 1.0325\n",
      "Epoch 58/60\n",
      "\u001b[1m2522/2522\u001b[0m \u001b[32m━━━━━━━━━━━━━━━━━━━━\u001b[0m\u001b[37m\u001b[0m \u001b[1m3s\u001b[0m 1ms/step - accuracy: 0.9538 - loss: 0.1393 - val_accuracy: 0.7312 - val_loss: 1.0884\n",
      "Epoch 59/60\n",
      "\u001b[1m2522/2522\u001b[0m \u001b[32m━━━━━━━━━━━━━━━━━━━━\u001b[0m\u001b[37m\u001b[0m \u001b[1m3s\u001b[0m 1ms/step - accuracy: 0.9577 - loss: 0.1291 - val_accuracy: 0.7232 - val_loss: 1.0895\n",
      "Epoch 60/60\n",
      "\u001b[1m2522/2522\u001b[0m \u001b[32m━━━━━━━━━━━━━━━━━━━━\u001b[0m\u001b[37m\u001b[0m \u001b[1m3s\u001b[0m 1ms/step - accuracy: 0.9562 - loss: 0.1310 - val_accuracy: 0.7165 - val_loss: 1.0265\n"
     ]
    }
   ],
   "source": [
    "# Carregamento dos Dados Pré-processados\n",
    "\n",
    "print(f\"Dados divididos: {len(X_train)} para treino, {len(X_test)} para teste.\\n\")\n",
    "\n",
    "# Construção do Modelo de Classificação\n",
    "model = tf.keras.Sequential([\n",
    "    # A camada de entrada espera vetores com 1024 dimensões (o tamanho do embedding ELMo)\n",
    "    tf.keras.layers.InputLayer(input_shape=(input_shape,)),\n",
    "    \n",
    "    # Camada oculta para aprender padrões nos embeddings\n",
    "    tf.keras.layers.Dense(128, activation='relu'),\n",
    "    tf.keras.layers.Dropout(0.5), # Dropout para evitar overfitting\n",
    "    \n",
    "    # Camada de saída para classificação binária\n",
    "    tf.keras.layers.Dense(1, activation='sigmoid')\n",
    "])\n",
    "\n",
    "# Compilação do Modelo\n",
    "model.compile(optimizer='adam',\n",
    "              loss='binary_crossentropy',\n",
    "              metrics=['accuracy'])\n",
    "\n",
    "model.summary()\n",
    "\n",
    "# Treinamento do Modelo\n",
    "print(\"\\nIniciando o treinamento do classificador...\")\n",
    "history = model.fit(\n",
    "    X_train,\n",
    "    y_train,\n",
    "    epochs=60,\n",
    "    batch_size=4,\n",
    "    validation_data=(X_test, y_test),\n",
    "    class_weight=class_weights, #Atribui os pesos de classe\n",
    "    verbose=1\n",
    ")"
   ]
  },
  {
   "cell_type": "code",
   "execution_count": 13,
   "id": "a7c5a86c",
   "metadata": {},
   "outputs": [
    {
     "name": "stdout",
     "output_type": "stream",
     "text": [
      "Acurácia (Keras): 71.65%\n",
      "Loss (Keras): 1.0265\n",
      "\n",
      "\u001b[1m79/79\u001b[0m \u001b[32m━━━━━━━━━━━━━━━━━━━━\u001b[0m\u001b[37m\u001b[0m \u001b[1m0s\u001b[0m 3ms/step \n",
      "Relatório de Classificação:\n",
      "                     precision    recall  f1-score   support\n",
      "\n",
      "   Classe 0 (2023+)       0.48      0.45      0.47       694\n",
      "Classe 1 (Pré-2023)       0.80      0.82      0.81      1828\n",
      "\n",
      "           accuracy                           0.72      2522\n",
      "          macro avg       0.64      0.63      0.64      2522\n",
      "       weighted avg       0.71      0.72      0.71      2522\n",
      "\n",
      "Matriz de Confusão:\n",
      "[[ 313  381]\n",
      " [ 334 1494]]\n"
     ]
    },
    {
     "data": {
      "image/png": "[encoded data removed]",
      "text/plain": [
       "<Figure size 800x600 with 2 Axes>"
      ]
     },
     "metadata": {},
     "output_type": "display_data"
    }
   ],
   "source": [
    "# Avaliação\n",
    "\n",
    "# Avaliação básica com Keras\n",
    "loss, accuracy = model.evaluate(X_test, y_test, verbose=0)\n",
    "print(f\"Acurácia (Keras): {accuracy * 100:.2f}%\")\n",
    "print(f\"Loss (Keras): {loss:.4f}\\n\")\n",
    "\n",
    "# 2. Predições do modelo para o conjunto de teste (Probabilidades)\n",
    "y_pred_prob = model.predict(X_test)\n",
    "\n",
    "# 3. Converção em classes (0 ou 1). Se a prob > 0.5, então 1, senão 0.\n",
    "y_pred = (y_pred_prob > 0.5).astype(\"int32\")\n",
    "\n",
    "# 4. Classificação Detalhada\n",
    "print(\"Relatório de Classificação:\")\n",
    "# 0: 2023 ou DEPOIS\n",
    "# 1: ANTES de 2023\n",
    "target_names = ['Classe 0 (2023+)', 'Classe 1 (Pré-2023)']\n",
    "print(classification_report(y_test, y_pred, target_names=target_names))\n",
    "\n",
    "# 5. Matriz de Confusão\n",
    "print(\"Matriz de Confusão:\")\n",
    "cm = confusion_matrix(y_test, y_pred)\n",
    "print(cm)\n",
    "\n",
    "# Visualização da Matriz de Confusão\n",
    "plt.figure(figsize=(8, 6))\n",
    "sns.heatmap(cm, annot=True, fmt='d', cmap='Blues', xticklabels=target_names, yticklabels=target_names)\n",
    "plt.xlabel('Predito')\n",
    "plt.ylabel('Verdadeiro')\n",
    "plt.title('Matriz de Confusão')\n",
    "plt.show()"
   ]
  },
  {
   "cell_type": "code",
   "execution_count": null,
   "id": "b2226ed8",
   "metadata": {},
   "outputs": [],
   "source": [
    "model.save('meu_classificador_com_BGE-M3+Estilo.keras')"
   ]
  },
  {
   "cell_type": "markdown",
   "id": "e0a84a93",
   "metadata": {},
   "source": [
    "# TESTE COM DADOS DIFERENTES DO DATASET A PARIR DE UM MODELO GERADO."
   ]
  },
  {
   "cell_type": "code",
   "execution_count": null,
   "id": "0a0fcebb",
   "metadata": {},
   "outputs": [],
   "source": [
    "# 1. Carregar o Modelo de Embedding (BGE-M3)\n",
    "embedding_model = SentenceTransformer(\"BAAI/bge-m3\")\n",
    "\n",
    "# 2. Carregar o seu Classificador Keras treinado\n",
    "classificador = tf.keras.models.load_model('meu_classificador_com_BGE-M3+Estilo.keras')\n",
    "\n",
    "novos_titulos = [\n",
    "    \"Um estudo sobre o impacto da IA generativa no desenvolvimento de software\",\n",
    "    \"Implementação de algoritmos de parsing para compiladores em Pascal\",\n",
    "    \"Otimização de redes neurais para sistemas embarcados de baixa potência\",\n",
    "    \"Análise de sistemas de informação com metodologia estruturada\",\n",
    "    \"Fine-tuning de LLMs para tarefas de tradução em português\",\n",
    "    \"Knowledge graphs para recomendação de produtos em e-commerce\",\n",
    "    \"Análise de sentimentos em redes sociais utilizando BERT\",\n",
    "    \"Desenvolvimento de chatbots inteligentes com GPT-3\",\n",
    "    \"Avaliação de técnicas de segurança em redes de computadores\",\n",
    "    \"Estudo sobre algoritmos de compressão de dados para grandes volumes\",\n",
    "    \"Aplicações de aprendizado por reforço em jogos digitais\",\n",
    "    \"Técnicas de visualização de dados para análise exploratória\",\n",
    "    \"Desenvolvimento de sistemas distribuídos com microserviços\",\n",
    "    \"Análise de desempenho de bancos de dados NoSQL em aplicações web\",\n",
    "    \"Estudo sobre algoritmos de criptografia para segurança de dados\",\n",
    "    \"Implementação de redes neurais convolucionais para reconhecimento de imagens\",\n",
    "    \"Desenvolvimento de aplicações móveis com Flutter\",\n",
    "    \"Técnicas de mineração de dados para detecção de fraudes financeiras\",\n",
    "    \"Estudo sobre a evolução dos sistemas operacionais ao longo das décadas\",\n",
    "    \"Fine-tuning de LLMs para tarefas de tradução em português\",\n",
    "    \"knowledge distillation em modelos de linguagem grande\",\n",
    "    \"Compact models for edge AI applications\",\n",
    "    \"Analysis of Criminal Patterns in Police Report Narratives using Spectral Clustering with K-means\",\n",
    "    \"Knowledge Distillation in Compact Models: An Approach Applied to Text Processing for Public Security\",\n",
    "    \"Inteligência Artificial e sociedade: avanços e riscos\"\n",
    "]\n",
    "\n",
    "novos_embeddings = embedding_model.encode(novos_titulos)\n",
    "\n",
    "stylistic_features = np.array([calcular_features_estilo(novos_titulos) for novos_titulos in tqdm(novos_titulos)])\n",
    "scaler = StandardScaler()\n",
    "stylistic_features_scaled = scaler.fit_transform(stylistic_features)\n",
    "novos_embeddings = np.concatenate([novos_embeddings, stylistic_features_scaled], axis=1)\n",
    "\n",
    "\n",
    "predicoes_prob = classificador.predict(novos_embeddings)\n",
    "\n",
    "# Resultados\n",
    "for i, titulo in enumerate(novos_titulos):\n",
    "    prob = predicoes_prob[i][0]\n",
    "    \n",
    "    if prob > 0.5:\n",
    "        # Classe 1\n",
    "        classificacao = \"ANTES de 2023\"\n",
    "        confianca = prob * 100\n",
    "    else:\n",
    "        # Classe 0\n",
    "        classificacao = \"2023 ou DEPOIS\"\n",
    "        confianca = (1 - prob) * 100\n",
    "        \n",
    "    print(f\"Título: '{titulo}'\")\n",
    "    print(f\"  -> Classificação: {classificacao} (Confiança: {confianca:.2f}%)\\n\")"
   ]
  }
 ],
 "metadata": {
  "kernelspec": {
   "display_name": ".venv",
   "language": "python",
   "name": "python3"
  },
  "language_info": {
   "codemirror_mode": {
    "name": "ipython",
    "version": 3
   },
   "file_extension": ".py",
   "mimetype": "text/x-python",
   "name": "python",
   "nbconvert_exporter": "python",
   "pygments_lexer": "ipython3",
   "version": "3.10.12"
  }
 },
 "nbformat": 4,
 "nbformat_minor": 5
}
