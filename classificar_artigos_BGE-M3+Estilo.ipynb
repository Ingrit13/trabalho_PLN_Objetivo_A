{
 "cells": [
  {
   "cell_type": "code",
   "execution_count": null,
   "id": "04bd8132",
   "metadata": {},
   "outputs": [],
   "source": [
    "# Instalação das dependências necessárias\n",
    "!pip install \"tensorflow[and-cuda]\" tensorflow-hub\n",
    "!pip install -q tensorflow tensorflow_hub\n",
    "!pip install -q scikit-learn pandas numpy tqdm\n",
    "\n",
    "# Para usar o BGE-M3\n",
    "!pip install sentence-transformers\n",
    "\n",
    "!pip install spacy\n",
    "!python -m spacy download pt_core_news_lg"
   ]
  },
  {
   "cell_type": "code",
   "execution_count": null,
   "id": "caea2c60",
   "metadata": {},
   "outputs": [],
   "source": [
    "# Verificação da instalação do TensorFlow com suporte a GPU\n",
    "import tensorflow as tf, pprint\n",
    "print(\"TF:\", tf.__version__)\n",
    "print(\"GPUs:\", tf.config.list_physical_devices(\"GPU\"))\n",
    "pprint.pprint(tf.sysconfig.get_build_info())  # mostra cuda_version e cudnn_version"
   ]
  },
  {
   "cell_type": "code",
   "execution_count": null,
   "id": "c204a117",
   "metadata": {},
   "outputs": [],
   "source": [
    "# Importando as bibliotecas necessárias\n",
    "import pandas as pd\n",
    "import numpy as np\n",
    "import tensorflow as tf\n",
    "import tensorflow_hub as hub\n",
    "from sklearn.model_selection import train_test_split\n",
    "from tqdm import tqdm\n",
    "import spacy\n",
    "from sklearn.preprocessing import StandardScaler\n",
    "\n",
    "#Para usar o BGE-M3\n",
    "from sentence_transformers import SentenceTransformer "
   ]
  },
  {
   "cell_type": "code",
   "execution_count": null,
   "id": "4b9e10bd",
   "metadata": {},
   "outputs": [],
   "source": [
    "# Carregando os dados\n",
    "df = pd.read_csv('eventos_artigos_filtrados.csv');\n",
    "df.shape\n",
    "#df.head()"
   ]
  },
  {
   "cell_type": "code",
   "execution_count": 3,
   "id": "6a7f2bf1",
   "metadata": {},
   "outputs": [],
   "source": [
    "# Preparação dos dados\n",
    "df = df.drop(columns=['evento_nome', 'resumo'])\n",
    "df = df.dropna(subset=['titulo_artigo', 'ano_edicao'])\n",
    "df['antes_2023'] = df['ano_edicao'].apply(lambda x: 1 if x < 2023 else 0)\n",
    "\n",
    "df[\"titulo_artigo\"] = df[\"titulo_artigo\"].astype(str).str.strip()\n",
    "df[\"antes_2023\"] = df[\"antes_2023\"].astype(int).values\n",
    "\n",
    "#df.head()"
   ]
  },
  {
   "cell_type": "code",
   "execution_count": null,
   "id": "b99a2021",
   "metadata": {},
   "outputs": [],
   "source": [
    "#Incluir aqui outros tratamentos, SFC, normalização, etc."
   ]
  },
  {
   "cell_type": "markdown",
   "id": "b688e244",
   "metadata": {},
   "source": [
    "# Geração do embeddings com BGE-M3 e posterior complementação com features de estilo"
   ]
  },
  {
   "cell_type": "code",
   "execution_count": null,
   "id": "913837a1",
   "metadata": {},
   "outputs": [
    {
     "name": "stdout",
     "output_type": "stream",
     "text": [
      "BGE-M3 carregado com sucesso.\n"
     ]
    },
    {
     "name": "stderr",
     "output_type": "stream",
     "text": [
      "Batches: 100%|██████████| 790/790 [00:41<00:00, 18.91it/s]\n"
     ]
    },
    {
     "name": "stdout",
     "output_type": "stream",
     "text": [
      "\n",
      "Embeddings gerados com sucesso! Shape final: (12629, 1024)\n"
     ]
    }
   ],
   "source": [
    "titulos = df['titulo_artigo'].tolist()\n",
    "labels = df['antes_2023'].values\n",
    "\n",
    "# Carregamento do Modelo BGE-M3 ---\n",
    "model = SentenceTransformer(\"BAAI/bge-m3\")\n",
    "print(\"BGE-M3 carregado com sucesso.\")\n",
    "\n",
    "# Execução da Geração de Embeddings ---\n",
    "embeddings_gerados = model.encode(\n",
    "    titulos,\n",
    "    batch_size=32,\n",
    "    show_progress_bar=True\n",
    ")\n",
    "\n",
    "print(f\"\\nEmbeddings gerados com sucesso! Shape final: {embeddings_gerados.shape}\")"
   ]
  },
  {
   "cell_type": "markdown",
   "id": "b6264781",
   "metadata": {},
   "source": [
    "# Features de estilo"
   ]
  },
  {
   "cell_type": "code",
   "execution_count": 5,
   "id": "ef854475",
   "metadata": {},
   "outputs": [],
   "source": [
    "nlp = spacy.load(\"pt_core_news_lg\")\n",
    "\n",
    "# Gerar features\n",
    "def calcular_features_estilo(texto: str):\n",
    "    doc = nlp(texto)\n",
    "    \n",
    "    # Features de Comprimento\n",
    "    num_chars = len(texto)\n",
    "    num_words = len([token for token in doc if not token.is_punct])\n",
    "    avg_word_len = np.mean([len(token.text) for token in doc if not token.is_punct]) if num_words > 0 else 0\n",
    "    \n",
    "    # Features Lexicais\n",
    "    # Contagem de tipos de palavras (Part-of-Speech tagging)\n",
    "    pos_counts = doc.count_by(spacy.attrs.POS)\n",
    "    num_nouns = pos_counts.get(nlp.vocab.strings[\"NOUN\"], 0) # Substantivos\n",
    "    num_verbs = pos_counts.get(nlp.vocab.strings[\"VERB\"], 0) # Verbos\n",
    "    num_adjs = pos_counts.get(nlp.vocab.strings[\"ADJ\"], 0)  # Adjetivos\n",
    "    num_advs = pos_counts.get(nlp.vocab.strings[\"ADV\"], 0)  # Advérbios\n",
    "    \n",
    "    # Outras Features\n",
    "    num_stopwords = len([token for token in doc if token.is_stop])\n",
    "    stopword_ratio = num_stopwords / num_words if num_words > 0 else 0\n",
    "    num_punctuations = len([token for token in doc if token.is_punct])\n",
    "    \n",
    "    # Retorna um array NumPy com todas as features calculadas\n",
    "    return np.array([\n",
    "        num_chars, num_words, avg_word_len,\n",
    "        num_nouns, num_verbs, num_adjs, num_advs,\n",
    "        num_stopwords, stopword_ratio, num_punctuations\n",
    "    ])"
   ]
  },
  {
   "cell_type": "code",
   "execution_count": 7,
   "id": "e64b4962",
   "metadata": {},
   "outputs": [
    {
     "name": "stderr",
     "output_type": "stream",
     "text": [
      "100%|██████████| 12629/12629 [00:46<00:00, 274.46it/s]\n"
     ]
    }
   ],
   "source": [
    "stylistic_features = np.array([calcular_features_estilo(titulo) for titulo in tqdm(titulos)])\n",
    "scaler = StandardScaler()\n",
    "stylistic_features_scaled = scaler.fit_transform(stylistic_features)\n",
    "\n",
    "# Features Semânticas e de Estilo ---\n",
    "X_combined = np.concatenate([embeddings_gerados, stylistic_features_scaled], axis=1)\n",
    "y = labels\n",
    "\n",
    "X_train, X_test, y_train, y_test = train_test_split(X_combined, y, test_size=0.2, random_state=42, stratify=y)\n",
    "input_shape = X_train.shape[1] # Pega o novo número de colunas (1024 + num_features_estilo)"
   ]
  },
  {
   "cell_type": "markdown",
   "id": "426a8448",
   "metadata": {},
   "source": [
    "# CLASSIFICADOR "
   ]
  },
  {
   "cell_type": "code",
   "execution_count": 9,
   "id": "d4790f95",
   "metadata": {},
   "outputs": [
    {
     "name": "stdout",
     "output_type": "stream",
     "text": [
      "Dados divididos: 10103 para treino, 2526 para teste.\n",
      "\n"
     ]
    },
    {
     "data": {
      "text/html": [
       "<pre style=\"white-space:pre;overflow-x:auto;line-height:normal;font-family:Menlo,'DejaVu Sans Mono',consolas,'Courier New',monospace\"><span style=\"font-weight: bold\">Model: \"sequential_1\"</span>\n",
       "</pre>\n"
      ],
      "text/plain": [
       "\u001b[1mModel: \"sequential_1\"\u001b[0m\n"
      ]
     },
     "metadata": {},
     "output_type": "display_data"
    },
    {
     "data": {
      "text/html": [
       "<pre style=\"white-space:pre;overflow-x:auto;line-height:normal;font-family:Menlo,'DejaVu Sans Mono',consolas,'Courier New',monospace\">┏━━━━━━━━━━━━━━━━━━━━━━━━━━━━━━━━━┳━━━━━━━━━━━━━━━━━━━━━━━━┳━━━━━━━━━━━━━━━┓\n",
       "┃<span style=\"font-weight: bold\"> Layer (type)                    </span>┃<span style=\"font-weight: bold\"> Output Shape           </span>┃<span style=\"font-weight: bold\">       Param # </span>┃\n",
       "┡━━━━━━━━━━━━━━━━━━━━━━━━━━━━━━━━━╇━━━━━━━━━━━━━━━━━━━━━━━━╇━━━━━━━━━━━━━━━┩\n",
       "│ dense_2 (<span style=\"color: #0087ff; text-decoration-color: #0087ff\">Dense</span>)                 │ (<span style=\"color: #00d7ff; text-decoration-color: #00d7ff\">None</span>, <span style=\"color: #00af00; text-decoration-color: #00af00\">128</span>)            │       <span style=\"color: #00af00; text-decoration-color: #00af00\">132,480</span> │\n",
       "├─────────────────────────────────┼────────────────────────┼───────────────┤\n",
       "│ dropout_1 (<span style=\"color: #0087ff; text-decoration-color: #0087ff\">Dropout</span>)             │ (<span style=\"color: #00d7ff; text-decoration-color: #00d7ff\">None</span>, <span style=\"color: #00af00; text-decoration-color: #00af00\">128</span>)            │             <span style=\"color: #00af00; text-decoration-color: #00af00\">0</span> │\n",
       "├─────────────────────────────────┼────────────────────────┼───────────────┤\n",
       "│ dense_3 (<span style=\"color: #0087ff; text-decoration-color: #0087ff\">Dense</span>)                 │ (<span style=\"color: #00d7ff; text-decoration-color: #00d7ff\">None</span>, <span style=\"color: #00af00; text-decoration-color: #00af00\">1</span>)              │           <span style=\"color: #00af00; text-decoration-color: #00af00\">129</span> │\n",
       "└─────────────────────────────────┴────────────────────────┴───────────────┘\n",
       "</pre>\n"
      ],
      "text/plain": [
       "┏━━━━━━━━━━━━━━━━━━━━━━━━━━━━━━━━━┳━━━━━━━━━━━━━━━━━━━━━━━━┳━━━━━━━━━━━━━━━┓\n",
       "┃\u001b[1m \u001b[0m\u001b[1mLayer (type)                   \u001b[0m\u001b[1m \u001b[0m┃\u001b[1m \u001b[0m\u001b[1mOutput Shape          \u001b[0m\u001b[1m \u001b[0m┃\u001b[1m \u001b[0m\u001b[1m      Param #\u001b[0m\u001b[1m \u001b[0m┃\n",
       "┡━━━━━━━━━━━━━━━━━━━━━━━━━━━━━━━━━╇━━━━━━━━━━━━━━━━━━━━━━━━╇━━━━━━━━━━━━━━━┩\n",
       "│ dense_2 (\u001b[38;5;33mDense\u001b[0m)                 │ (\u001b[38;5;45mNone\u001b[0m, \u001b[38;5;34m128\u001b[0m)            │       \u001b[38;5;34m132,480\u001b[0m │\n",
       "├─────────────────────────────────┼────────────────────────┼───────────────┤\n",
       "│ dropout_1 (\u001b[38;5;33mDropout\u001b[0m)             │ (\u001b[38;5;45mNone\u001b[0m, \u001b[38;5;34m128\u001b[0m)            │             \u001b[38;5;34m0\u001b[0m │\n",
       "├─────────────────────────────────┼────────────────────────┼───────────────┤\n",
       "│ dense_3 (\u001b[38;5;33mDense\u001b[0m)                 │ (\u001b[38;5;45mNone\u001b[0m, \u001b[38;5;34m1\u001b[0m)              │           \u001b[38;5;34m129\u001b[0m │\n",
       "└─────────────────────────────────┴────────────────────────┴───────────────┘\n"
      ]
     },
     "metadata": {},
     "output_type": "display_data"
    },
    {
     "data": {
      "text/html": [
       "<pre style=\"white-space:pre;overflow-x:auto;line-height:normal;font-family:Menlo,'DejaVu Sans Mono',consolas,'Courier New',monospace\"><span style=\"font-weight: bold\"> Total params: </span><span style=\"color: #00af00; text-decoration-color: #00af00\">132,609</span> (518.00 KB)\n",
       "</pre>\n"
      ],
      "text/plain": [
       "\u001b[1m Total params: \u001b[0m\u001b[38;5;34m132,609\u001b[0m (518.00 KB)\n"
      ]
     },
     "metadata": {},
     "output_type": "display_data"
    },
    {
     "data": {
      "text/html": [
       "<pre style=\"white-space:pre;overflow-x:auto;line-height:normal;font-family:Menlo,'DejaVu Sans Mono',consolas,'Courier New',monospace\"><span style=\"font-weight: bold\"> Trainable params: </span><span style=\"color: #00af00; text-decoration-color: #00af00\">132,609</span> (518.00 KB)\n",
       "</pre>\n"
      ],
      "text/plain": [
       "\u001b[1m Trainable params: \u001b[0m\u001b[38;5;34m132,609\u001b[0m (518.00 KB)\n"
      ]
     },
     "metadata": {},
     "output_type": "display_data"
    },
    {
     "data": {
      "text/html": [
       "<pre style=\"white-space:pre;overflow-x:auto;line-height:normal;font-family:Menlo,'DejaVu Sans Mono',consolas,'Courier New',monospace\"><span style=\"font-weight: bold\"> Non-trainable params: </span><span style=\"color: #00af00; text-decoration-color: #00af00\">0</span> (0.00 B)\n",
       "</pre>\n"
      ],
      "text/plain": [
       "\u001b[1m Non-trainable params: \u001b[0m\u001b[38;5;34m0\u001b[0m (0.00 B)\n"
      ]
     },
     "metadata": {},
     "output_type": "display_data"
    },
    {
     "name": "stdout",
     "output_type": "stream",
     "text": [
      "\n",
      "Iniciando o treinamento do classificador...\n",
      "Epoch 1/45\n"
     ]
    },
    {
     "name": "stderr",
     "output_type": "stream",
     "text": [
      "2025-09-04 23:47:39.777777: I external/local_xla/xla/service/service.cc:163] XLA service 0x7f5a68007410 initialized for platform CUDA (this does not guarantee that XLA will be used). Devices:\n",
      "2025-09-04 23:47:39.777789: I external/local_xla/xla/service/service.cc:171]   StreamExecutor device (0): NVIDIA GeForce RTX 3060, Compute Capability 8.6\n",
      "2025-09-04 23:47:39.794987: I tensorflow/compiler/mlir/tensorflow/utils/dump_mlir_util.cc:269] disabling MLIR crash reproducer, set env var `MLIR_CRASH_REPRODUCER_DIRECTORY` to enable.\n",
      "2025-09-04 23:47:39.889627: I external/local_xla/xla/stream_executor/cuda/cuda_dnn.cc:473] Loaded cuDNN version 91002\n"
     ]
    },
    {
     "name": "stdout",
     "output_type": "stream",
     "text": [
      "\u001b[1m 190/2526\u001b[0m \u001b[32m━\u001b[0m\u001b[37m━━━━━━━━━━━━━━━━━━━\u001b[0m \u001b[1m1s\u001b[0m 801us/step - accuracy: 0.7165 - loss: 0.5958"
     ]
    },
    {
     "name": "stderr",
     "output_type": "stream",
     "text": [
      "I0000 00:00:1757044060.508191  252935 device_compiler.h:196] Compiled cluster using XLA!  This line is logged at most once for the lifetime of the process.\n"
     ]
    },
    {
     "name": "stdout",
     "output_type": "stream",
     "text": [
      "\u001b[1m2526/2526\u001b[0m \u001b[32m━━━━━━━━━━━━━━━━━━━━\u001b[0m\u001b[37m\u001b[0m \u001b[1m5s\u001b[0m 2ms/step - accuracy: 0.7294 - loss: 0.5464 - val_accuracy: 0.7292 - val_loss: 0.5289\n",
      "Epoch 2/45\n",
      "\u001b[1m2526/2526\u001b[0m \u001b[32m━━━━━━━━━━━━━━━━━━━━\u001b[0m\u001b[37m\u001b[0m \u001b[1m3s\u001b[0m 1ms/step - accuracy: 0.7403 - loss: 0.5183 - val_accuracy: 0.7383 - val_loss: 0.5207\n",
      "Epoch 3/45\n",
      "\u001b[1m2526/2526\u001b[0m \u001b[32m━━━━━━━━━━━━━━━━━━━━\u001b[0m\u001b[37m\u001b[0m \u001b[1m3s\u001b[0m 1ms/step - accuracy: 0.7513 - loss: 0.5037 - val_accuracy: 0.7391 - val_loss: 0.5231\n",
      "Epoch 4/45\n",
      "\u001b[1m2526/2526\u001b[0m \u001b[32m━━━━━━━━━━━━━━━━━━━━\u001b[0m\u001b[37m\u001b[0m \u001b[1m3s\u001b[0m 994us/step - accuracy: 0.7544 - loss: 0.4926 - val_accuracy: 0.7435 - val_loss: 0.5274\n",
      "Epoch 5/45\n",
      "\u001b[1m2526/2526\u001b[0m \u001b[32m━━━━━━━━━━━━━━━━━━━━\u001b[0m\u001b[37m\u001b[0m \u001b[1m3s\u001b[0m 1ms/step - accuracy: 0.7629 - loss: 0.4822 - val_accuracy: 0.7431 - val_loss: 0.5285\n",
      "Epoch 6/45\n",
      "\u001b[1m2526/2526\u001b[0m \u001b[32m━━━━━━━━━━━━━━━━━━━━\u001b[0m\u001b[37m\u001b[0m \u001b[1m3s\u001b[0m 1ms/step - accuracy: 0.7724 - loss: 0.4697 - val_accuracy: 0.7427 - val_loss: 0.5293\n",
      "Epoch 7/45\n",
      "\u001b[1m2526/2526\u001b[0m \u001b[32m━━━━━━━━━━━━━━━━━━━━\u001b[0m\u001b[37m\u001b[0m \u001b[1m3s\u001b[0m 1ms/step - accuracy: 0.7752 - loss: 0.4588 - val_accuracy: 0.7411 - val_loss: 0.5294\n",
      "Epoch 8/45\n",
      "\u001b[1m2526/2526\u001b[0m \u001b[32m━━━━━━━━━━━━━━━━━━━━\u001b[0m\u001b[37m\u001b[0m \u001b[1m3s\u001b[0m 995us/step - accuracy: 0.7882 - loss: 0.4473 - val_accuracy: 0.7542 - val_loss: 0.5286\n",
      "Epoch 9/45\n",
      "\u001b[1m2526/2526\u001b[0m \u001b[32m━━━━━━━━━━━━━━━━━━━━\u001b[0m\u001b[37m\u001b[0m \u001b[1m3s\u001b[0m 1ms/step - accuracy: 0.7966 - loss: 0.4281 - val_accuracy: 0.7411 - val_loss: 0.5394\n",
      "Epoch 10/45\n",
      "\u001b[1m2526/2526\u001b[0m \u001b[32m━━━━━━━━━━━━━━━━━━━━\u001b[0m\u001b[37m\u001b[0m \u001b[1m3s\u001b[0m 1ms/step - accuracy: 0.8075 - loss: 0.4154 - val_accuracy: 0.7478 - val_loss: 0.5353\n",
      "Epoch 11/45\n",
      "\u001b[1m2526/2526\u001b[0m \u001b[32m━━━━━━━━━━━━━━━━━━━━\u001b[0m\u001b[37m\u001b[0m \u001b[1m3s\u001b[0m 1ms/step - accuracy: 0.8126 - loss: 0.4017 - val_accuracy: 0.7498 - val_loss: 0.5542\n",
      "Epoch 12/45\n",
      "\u001b[1m2526/2526\u001b[0m \u001b[32m━━━━━━━━━━━━━━━━━━━━\u001b[0m\u001b[37m\u001b[0m \u001b[1m3s\u001b[0m 1ms/step - accuracy: 0.8198 - loss: 0.3877 - val_accuracy: 0.7403 - val_loss: 0.5588\n",
      "Epoch 13/45\n",
      "\u001b[1m2526/2526\u001b[0m \u001b[32m━━━━━━━━━━━━━━━━━━━━\u001b[0m\u001b[37m\u001b[0m \u001b[1m3s\u001b[0m 1ms/step - accuracy: 0.8294 - loss: 0.3743 - val_accuracy: 0.7435 - val_loss: 0.5625\n",
      "Epoch 14/45\n",
      "\u001b[1m2526/2526\u001b[0m \u001b[32m━━━━━━━━━━━━━━━━━━━━\u001b[0m\u001b[37m\u001b[0m \u001b[1m3s\u001b[0m 1ms/step - accuracy: 0.8342 - loss: 0.3597 - val_accuracy: 0.7415 - val_loss: 0.5690\n",
      "Epoch 15/45\n",
      "\u001b[1m2526/2526\u001b[0m \u001b[32m━━━━━━━━━━━━━━━━━━━━\u001b[0m\u001b[37m\u001b[0m \u001b[1m3s\u001b[0m 1ms/step - accuracy: 0.8520 - loss: 0.3378 - val_accuracy: 0.7379 - val_loss: 0.5918\n",
      "Epoch 16/45\n",
      "\u001b[1m2526/2526\u001b[0m \u001b[32m━━━━━━━━━━━━━━━━━━━━\u001b[0m\u001b[37m\u001b[0m \u001b[1m3s\u001b[0m 1ms/step - accuracy: 0.8538 - loss: 0.3314 - val_accuracy: 0.7439 - val_loss: 0.5842\n",
      "Epoch 17/45\n",
      "\u001b[1m2526/2526\u001b[0m \u001b[32m━━━━━━━━━━━━━━━━━━━━\u001b[0m\u001b[37m\u001b[0m \u001b[1m3s\u001b[0m 1ms/step - accuracy: 0.8655 - loss: 0.3095 - val_accuracy: 0.7312 - val_loss: 0.5975\n",
      "Epoch 18/45\n",
      "\u001b[1m2526/2526\u001b[0m \u001b[32m━━━━━━━━━━━━━━━━━━━━\u001b[0m\u001b[37m\u001b[0m \u001b[1m3s\u001b[0m 1ms/step - accuracy: 0.8695 - loss: 0.2981 - val_accuracy: 0.7371 - val_loss: 0.6251\n",
      "Epoch 19/45\n",
      "\u001b[1m2526/2526\u001b[0m \u001b[32m━━━━━━━━━━━━━━━━━━━━\u001b[0m\u001b[37m\u001b[0m \u001b[1m3s\u001b[0m 1ms/step - accuracy: 0.8736 - loss: 0.2913 - val_accuracy: 0.7312 - val_loss: 0.6271\n",
      "Epoch 20/45\n",
      "\u001b[1m2526/2526\u001b[0m \u001b[32m━━━━━━━━━━━━━━━━━━━━\u001b[0m\u001b[37m\u001b[0m \u001b[1m3s\u001b[0m 995us/step - accuracy: 0.8826 - loss: 0.2747 - val_accuracy: 0.7336 - val_loss: 0.6444\n",
      "Epoch 21/45\n",
      "\u001b[1m2526/2526\u001b[0m \u001b[32m━━━━━━━━━━━━━━━━━━━━\u001b[0m\u001b[37m\u001b[0m \u001b[1m3s\u001b[0m 1ms/step - accuracy: 0.8900 - loss: 0.2648 - val_accuracy: 0.7134 - val_loss: 0.6599\n",
      "Epoch 22/45\n",
      "\u001b[1m2526/2526\u001b[0m \u001b[32m━━━━━━━━━━━━━━━━━━━━\u001b[0m\u001b[37m\u001b[0m \u001b[1m3s\u001b[0m 1ms/step - accuracy: 0.8914 - loss: 0.2544 - val_accuracy: 0.7371 - val_loss: 0.6780\n",
      "Epoch 23/45\n",
      "\u001b[1m2526/2526\u001b[0m \u001b[32m━━━━━━━━━━━━━━━━━━━━\u001b[0m\u001b[37m\u001b[0m \u001b[1m3s\u001b[0m 1000us/step - accuracy: 0.8928 - loss: 0.2495 - val_accuracy: 0.7328 - val_loss: 0.6976\n",
      "Epoch 24/45\n",
      "\u001b[1m2526/2526\u001b[0m \u001b[32m━━━━━━━━━━━━━━━━━━━━\u001b[0m\u001b[37m\u001b[0m \u001b[1m3s\u001b[0m 1ms/step - accuracy: 0.9038 - loss: 0.2316 - val_accuracy: 0.7352 - val_loss: 0.7562\n",
      "Epoch 25/45\n",
      "\u001b[1m2526/2526\u001b[0m \u001b[32m━━━━━━━━━━━━━━━━━━━━\u001b[0m\u001b[37m\u001b[0m \u001b[1m3s\u001b[0m 1ms/step - accuracy: 0.9062 - loss: 0.2234 - val_accuracy: 0.7205 - val_loss: 0.7212\n",
      "Epoch 26/45\n",
      "\u001b[1m2526/2526\u001b[0m \u001b[32m━━━━━━━━━━━━━━━━━━━━\u001b[0m\u001b[37m\u001b[0m \u001b[1m3s\u001b[0m 995us/step - accuracy: 0.9151 - loss: 0.2099 - val_accuracy: 0.7316 - val_loss: 0.7407\n",
      "Epoch 27/45\n",
      "\u001b[1m2526/2526\u001b[0m \u001b[32m━━━━━━━━━━━━━━━━━━━━\u001b[0m\u001b[37m\u001b[0m \u001b[1m3s\u001b[0m 997us/step - accuracy: 0.9148 - loss: 0.2090 - val_accuracy: 0.7249 - val_loss: 0.7868\n",
      "Epoch 28/45\n",
      "\u001b[1m2526/2526\u001b[0m \u001b[32m━━━━━━━━━━━━━━━━━━━━\u001b[0m\u001b[37m\u001b[0m \u001b[1m3s\u001b[0m 992us/step - accuracy: 0.9201 - loss: 0.1934 - val_accuracy: 0.7288 - val_loss: 0.8001\n",
      "Epoch 29/45\n",
      "\u001b[1m2526/2526\u001b[0m \u001b[32m━━━━━━━━━━━━━━━━━━━━\u001b[0m\u001b[37m\u001b[0m \u001b[1m3s\u001b[0m 1ms/step - accuracy: 0.9217 - loss: 0.1894 - val_accuracy: 0.7344 - val_loss: 0.8052\n",
      "Epoch 30/45\n",
      "\u001b[1m2526/2526\u001b[0m \u001b[32m━━━━━━━━━━━━━━━━━━━━\u001b[0m\u001b[37m\u001b[0m \u001b[1m3s\u001b[0m 1ms/step - accuracy: 0.9256 - loss: 0.1832 - val_accuracy: 0.7300 - val_loss: 0.8392\n",
      "Epoch 31/45\n",
      "\u001b[1m2526/2526\u001b[0m \u001b[32m━━━━━━━━━━━━━━━━━━━━\u001b[0m\u001b[37m\u001b[0m \u001b[1m3s\u001b[0m 1ms/step - accuracy: 0.9221 - loss: 0.1771 - val_accuracy: 0.7201 - val_loss: 0.8361\n",
      "Epoch 32/45\n",
      "\u001b[1m2526/2526\u001b[0m \u001b[32m━━━━━━━━━━━━━━━━━━━━\u001b[0m\u001b[37m\u001b[0m \u001b[1m3s\u001b[0m 992us/step - accuracy: 0.9337 - loss: 0.1672 - val_accuracy: 0.7213 - val_loss: 0.8645\n",
      "Epoch 33/45\n",
      "\u001b[1m2526/2526\u001b[0m \u001b[32m━━━━━━━━━━━━━━━━━━━━\u001b[0m\u001b[37m\u001b[0m \u001b[1m3s\u001b[0m 1ms/step - accuracy: 0.9302 - loss: 0.1635 - val_accuracy: 0.7197 - val_loss: 0.8266\n",
      "Epoch 34/45\n",
      "\u001b[1m2526/2526\u001b[0m \u001b[32m━━━━━━━━━━━━━━━━━━━━\u001b[0m\u001b[37m\u001b[0m \u001b[1m3s\u001b[0m 1ms/step - accuracy: 0.9352 - loss: 0.1649 - val_accuracy: 0.7245 - val_loss: 0.8609\n",
      "Epoch 35/45\n",
      "\u001b[1m2526/2526\u001b[0m \u001b[32m━━━━━━━━━━━━━━━━━━━━\u001b[0m\u001b[37m\u001b[0m \u001b[1m2s\u001b[0m 979us/step - accuracy: 0.9381 - loss: 0.1596 - val_accuracy: 0.7142 - val_loss: 0.8731\n",
      "Epoch 36/45\n",
      "\u001b[1m2526/2526\u001b[0m \u001b[32m━━━━━━━━━━━━━━━━━━━━\u001b[0m\u001b[37m\u001b[0m \u001b[1m3s\u001b[0m 1ms/step - accuracy: 0.9395 - loss: 0.1538 - val_accuracy: 0.7348 - val_loss: 0.9380\n",
      "Epoch 37/45\n",
      "\u001b[1m2526/2526\u001b[0m \u001b[32m━━━━━━━━━━━━━━━━━━━━\u001b[0m\u001b[37m\u001b[0m \u001b[1m3s\u001b[0m 1ms/step - accuracy: 0.9420 - loss: 0.1445 - val_accuracy: 0.7201 - val_loss: 0.9124\n",
      "Epoch 38/45\n",
      "\u001b[1m2526/2526\u001b[0m \u001b[32m━━━━━━━━━━━━━━━━━━━━\u001b[0m\u001b[37m\u001b[0m \u001b[1m3s\u001b[0m 1ms/step - accuracy: 0.9446 - loss: 0.1392 - val_accuracy: 0.7082 - val_loss: 0.8980\n",
      "Epoch 39/45\n",
      "\u001b[1m2526/2526\u001b[0m \u001b[32m━━━━━━━━━━━━━━━━━━━━\u001b[0m\u001b[37m\u001b[0m \u001b[1m3s\u001b[0m 1ms/step - accuracy: 0.9438 - loss: 0.1424 - val_accuracy: 0.7257 - val_loss: 0.9464\n",
      "Epoch 40/45\n",
      "\u001b[1m2526/2526\u001b[0m \u001b[32m━━━━━━━━━━━━━━━━━━━━\u001b[0m\u001b[37m\u001b[0m \u001b[1m3s\u001b[0m 1ms/step - accuracy: 0.9491 - loss: 0.1317 - val_accuracy: 0.7126 - val_loss: 0.9622\n",
      "Epoch 41/45\n",
      "\u001b[1m2526/2526\u001b[0m \u001b[32m━━━━━━━━━━━━━━━━━━━━\u001b[0m\u001b[37m\u001b[0m \u001b[1m3s\u001b[0m 1ms/step - accuracy: 0.9463 - loss: 0.1380 - val_accuracy: 0.7288 - val_loss: 1.0055\n",
      "Epoch 42/45\n",
      "\u001b[1m2526/2526\u001b[0m \u001b[32m━━━━━━━━━━━━━━━━━━━━\u001b[0m\u001b[37m\u001b[0m \u001b[1m3s\u001b[0m 985us/step - accuracy: 0.9495 - loss: 0.1282 - val_accuracy: 0.7237 - val_loss: 1.0149\n",
      "Epoch 43/45\n",
      "\u001b[1m2526/2526\u001b[0m \u001b[32m━━━━━━━━━━━━━━━━━━━━\u001b[0m\u001b[37m\u001b[0m \u001b[1m3s\u001b[0m 1ms/step - accuracy: 0.9473 - loss: 0.1291 - val_accuracy: 0.7201 - val_loss: 0.9890\n",
      "Epoch 44/45\n",
      "\u001b[1m2526/2526\u001b[0m \u001b[32m━━━━━━━━━━━━━━━━━━━━\u001b[0m\u001b[37m\u001b[0m \u001b[1m3s\u001b[0m 1ms/step - accuracy: 0.9499 - loss: 0.1248 - val_accuracy: 0.7201 - val_loss: 1.0194\n",
      "Epoch 45/45\n",
      "\u001b[1m2526/2526\u001b[0m \u001b[32m━━━━━━━━━━━━━━━━━━━━\u001b[0m\u001b[37m\u001b[0m \u001b[1m3s\u001b[0m 1ms/step - accuracy: 0.9523 - loss: 0.1202 - val_accuracy: 0.7253 - val_loss: 1.0962\n",
      "\n",
      "Avaliação final no conjunto de teste:\n",
      "\u001b[1m79/79\u001b[0m \u001b[32m━━━━━━━━━━━━━━━━━━━━\u001b[0m\u001b[37m\u001b[0m \u001b[1m1s\u001b[0m 6ms/step - accuracy: 0.7253 - loss: 1.0962\n",
      "Acurácia final no teste: 0.7253\n"
     ]
    }
   ],
   "source": [
    "# --- Carregamento dos Dados Pré-processados ---\n",
    "\n",
    "print(f\"Dados divididos: {len(X_train)} para treino, {len(X_test)} para teste.\\n\")\n",
    "\n",
    "# Construção do Modelo de Classificação\n",
    "model = tf.keras.Sequential([\n",
    "    # A camada de entrada espera vetores com 1024 dimensões (o tamanho do embedding ELMo)\n",
    "    tf.keras.layers.InputLayer(input_shape=(input_shape,)),\n",
    "    \n",
    "    # Camada oculta para aprender padrões nos embeddings\n",
    "    tf.keras.layers.Dense(128, activation='relu'),\n",
    "    tf.keras.layers.Dropout(0.5), # Dropout para evitar overfitting\n",
    "    \n",
    "    # Camada de saída para classificação binária\n",
    "    tf.keras.layers.Dense(1, activation='sigmoid')\n",
    "])\n",
    "\n",
    "# --- Compilação do Modelo ---\n",
    "model.compile(optimizer='adam',\n",
    "              loss='binary_crossentropy',\n",
    "              metrics=['accuracy'])\n",
    "\n",
    "model.summary()\n",
    "\n",
    "# --- Treinamento do Modelo ---\n",
    "print(\"\\nIniciando o treinamento do classificador...\")\n",
    "history = model.fit(\n",
    "    X_train,\n",
    "    y_train,\n",
    "    epochs=45,\n",
    "    batch_size=4,\n",
    "    validation_data=(X_test, y_test),\n",
    "    verbose=1\n",
    ")\n",
    "\n",
    "# --- Avaliação Final ---\n",
    "print(\"\\nAvaliação final no conjunto de teste:\")\n",
    "loss, accuracy = model.evaluate(X_test, y_test)\n",
    "print(f'Acurácia final no teste: {accuracy:.4f}')"
   ]
  },
  {
   "cell_type": "code",
   "execution_count": 10,
   "id": "b2226ed8",
   "metadata": {},
   "outputs": [],
   "source": [
    "model.save('meu_classificador_com_BGE-M3+Estilo.keras')"
   ]
  },
  {
   "cell_type": "markdown",
   "id": "e0a84a93",
   "metadata": {},
   "source": [
    "# TESTE COM DADOS DIFERENTES DO DATASET A PARIR DE UM MODELO GERADO."
   ]
  },
  {
   "cell_type": "code",
   "execution_count": 11,
   "id": "0a0fcebb",
   "metadata": {},
   "outputs": [
    {
     "name": "stderr",
     "output_type": "stream",
     "text": [
      "100%|██████████| 25/25 [00:00<00:00, 292.33it/s]\n"
     ]
    },
    {
     "name": "stdout",
     "output_type": "stream",
     "text": [
      "\u001b[1m1/1\u001b[0m \u001b[32m━━━━━━━━━━━━━━━━━━━━\u001b[0m\u001b[37m\u001b[0m \u001b[1m0s\u001b[0m 344ms/step\n",
      "Título: 'Um estudo sobre o impacto da IA generativa no desenvolvimento de software'\n",
      "  -> Classificação: 2023 ou DEPOIS (Confiança: 91.57%)\n",
      "\n",
      "Título: 'Implementação de algoritmos de parsing para compiladores em Pascal'\n",
      "  -> Classificação: ANTES de 2023 (Confiança: 99.92%)\n",
      "\n",
      "Título: 'Otimização de redes neurais para sistemas embarcados de baixa potência'\n",
      "  -> Classificação: ANTES de 2023 (Confiança: 76.72%)\n",
      "\n",
      "Título: 'Análise de sistemas de informação com metodologia estruturada'\n",
      "  -> Classificação: ANTES de 2023 (Confiança: 100.00%)\n",
      "\n",
      "Título: 'Fine-tuning de LLMs para tarefas de tradução em português'\n",
      "  -> Classificação: 2023 ou DEPOIS (Confiança: 93.75%)\n",
      "\n",
      "Título: 'Knowledge graphs para recomendação de produtos em e-commerce'\n",
      "  -> Classificação: ANTES de 2023 (Confiança: 97.79%)\n",
      "\n",
      "Título: 'Análise de sentimentos em redes sociais utilizando BERT'\n",
      "  -> Classificação: ANTES de 2023 (Confiança: 99.87%)\n",
      "\n",
      "Título: 'Desenvolvimento de chatbots inteligentes com GPT-3'\n",
      "  -> Classificação: 2023 ou DEPOIS (Confiança: 95.83%)\n",
      "\n",
      "Título: 'Avaliação de técnicas de segurança em redes de computadores'\n",
      "  -> Classificação: ANTES de 2023 (Confiança: 100.00%)\n",
      "\n",
      "Título: 'Estudo sobre algoritmos de compressão de dados para grandes volumes'\n",
      "  -> Classificação: 2023 ou DEPOIS (Confiança: 74.07%)\n",
      "\n",
      "Título: 'Aplicações de aprendizado por reforço em jogos digitais'\n",
      "  -> Classificação: 2023 ou DEPOIS (Confiança: 99.92%)\n",
      "\n",
      "Título: 'Técnicas de visualização de dados para análise exploratória'\n",
      "  -> Classificação: ANTES de 2023 (Confiança: 83.98%)\n",
      "\n",
      "Título: 'Desenvolvimento de sistemas distribuídos com microserviços'\n",
      "  -> Classificação: ANTES de 2023 (Confiança: 85.89%)\n",
      "\n",
      "Título: 'Análise de desempenho de bancos de dados NoSQL em aplicações web'\n",
      "  -> Classificação: ANTES de 2023 (Confiança: 98.31%)\n",
      "\n",
      "Título: 'Estudo sobre algoritmos de criptografia para segurança de dados'\n",
      "  -> Classificação: ANTES de 2023 (Confiança: 92.22%)\n",
      "\n",
      "Título: 'Implementação de redes neurais convolucionais para reconhecimento de imagens'\n",
      "  -> Classificação: ANTES de 2023 (Confiança: 92.08%)\n",
      "\n",
      "Título: 'Desenvolvimento de aplicações móveis com Flutter'\n",
      "  -> Classificação: ANTES de 2023 (Confiança: 90.11%)\n",
      "\n",
      "Título: 'Técnicas de mineração de dados para detecção de fraudes financeiras'\n",
      "  -> Classificação: ANTES de 2023 (Confiança: 93.01%)\n",
      "\n",
      "Título: 'Estudo sobre a evolução dos sistemas operacionais ao longo das décadas'\n",
      "  -> Classificação: ANTES de 2023 (Confiança: 95.74%)\n",
      "\n",
      "Título: 'Fine-tuning de LLMs para tarefas de tradução em português'\n",
      "  -> Classificação: 2023 ou DEPOIS (Confiança: 93.75%)\n",
      "\n",
      "Título: 'knowledge distillation em modelos de linguagem grande'\n",
      "  -> Classificação: ANTES de 2023 (Confiança: 74.19%)\n",
      "\n",
      "Título: 'Compact models for edge AI applications'\n",
      "  -> Classificação: 2023 ou DEPOIS (Confiança: 61.41%)\n",
      "\n",
      "Título: 'Analysis of Criminal Patterns in Police Report Narratives using Spectral Clustering with K-means'\n",
      "  -> Classificação: 2023 ou DEPOIS (Confiança: 100.00%)\n",
      "\n",
      "Título: 'Knowledge Distillation in Compact Models: An Approach Applied to Text Processing for Public Security'\n",
      "  -> Classificação: 2023 ou DEPOIS (Confiança: 99.97%)\n",
      "\n",
      "Título: 'Inteligência Artificial e sociedade: avanços e riscos'\n",
      "  -> Classificação: ANTES de 2023 (Confiança: 91.26%)\n",
      "\n"
     ]
    }
   ],
   "source": [
    "# 1. Carregar o Modelo de Embedding (BGE-M3)\n",
    "embedding_model = SentenceTransformer(\"BAAI/bge-m3\")\n",
    "\n",
    "# 2. Carregar o seu Classificador Keras treinado\n",
    "classificador = tf.keras.models.load_model('meu_classificador_com_BGE-M3+Estilo.keras')\n",
    "\n",
    "novos_titulos = [\n",
    "    \"Um estudo sobre o impacto da IA generativa no desenvolvimento de software\",\n",
    "    \"Implementação de algoritmos de parsing para compiladores em Pascal\",\n",
    "    \"Otimização de redes neurais para sistemas embarcados de baixa potência\",\n",
    "    \"Análise de sistemas de informação com metodologia estruturada\",\n",
    "    \"Fine-tuning de LLMs para tarefas de tradução em português\",\n",
    "    \"Knowledge graphs para recomendação de produtos em e-commerce\",\n",
    "    \"Análise de sentimentos em redes sociais utilizando BERT\",\n",
    "    \"Desenvolvimento de chatbots inteligentes com GPT-3\",\n",
    "    \"Avaliação de técnicas de segurança em redes de computadores\",\n",
    "    \"Estudo sobre algoritmos de compressão de dados para grandes volumes\",\n",
    "    \"Aplicações de aprendizado por reforço em jogos digitais\",\n",
    "    \"Técnicas de visualização de dados para análise exploratória\",\n",
    "    \"Desenvolvimento de sistemas distribuídos com microserviços\",\n",
    "    \"Análise de desempenho de bancos de dados NoSQL em aplicações web\",\n",
    "    \"Estudo sobre algoritmos de criptografia para segurança de dados\",\n",
    "    \"Implementação de redes neurais convolucionais para reconhecimento de imagens\",\n",
    "    \"Desenvolvimento de aplicações móveis com Flutter\",\n",
    "    \"Técnicas de mineração de dados para detecção de fraudes financeiras\",\n",
    "    \"Estudo sobre a evolução dos sistemas operacionais ao longo das décadas\",\n",
    "    \"Fine-tuning de LLMs para tarefas de tradução em português\",\n",
    "    \"knowledge distillation em modelos de linguagem grande\",\n",
    "    \"Compact models for edge AI applications\",\n",
    "    \"Analysis of Criminal Patterns in Police Report Narratives using Spectral Clustering with K-means\",\n",
    "    \"Knowledge Distillation in Compact Models: An Approach Applied to Text Processing for Public Security\",\n",
    "    \"Inteligência Artificial e sociedade: avanços e riscos\"\n",
    "]\n",
    "\n",
    "novos_embeddings = embedding_model.encode(novos_titulos)\n",
    "\n",
    "stylistic_features = np.array([calcular_features_estilo(novos_titulos) for novos_titulos in tqdm(novos_titulos)])\n",
    "scaler = StandardScaler()\n",
    "stylistic_features_scaled = scaler.fit_transform(stylistic_features)\n",
    "novos_embeddings = np.concatenate([novos_embeddings, stylistic_features_scaled], axis=1)\n",
    "\n",
    "\n",
    "predicoes_prob = classificador.predict(novos_embeddings)\n",
    "\n",
    "# Resultados\n",
    "for i, titulo in enumerate(novos_titulos):\n",
    "    prob = predicoes_prob[i][0]\n",
    "    \n",
    "    if prob > 0.5:\n",
    "        # Classe 1\n",
    "        classificacao = \"ANTES de 2023\"\n",
    "        confianca = prob * 100\n",
    "    else:\n",
    "        # Classe 0\n",
    "        classificacao = \"2023 ou DEPOIS\"\n",
    "        confianca = (1 - prob) * 100\n",
    "        \n",
    "    print(f\"Título: '{titulo}'\")\n",
    "    print(f\"  -> Classificação: {classificacao} (Confiança: {confianca:.2f}%)\\n\")"
   ]
  }
 ],
 "metadata": {
  "kernelspec": {
   "display_name": ".venv",
   "language": "python",
   "name": "python3"
  },
  "language_info": {
   "codemirror_mode": {
    "name": "ipython",
    "version": 3
   },
   "file_extension": ".py",
   "mimetype": "text/x-python",
   "name": "python",
   "nbconvert_exporter": "python",
   "pygments_lexer": "ipython3",
   "version": "3.10.12"
  }
 },
 "nbformat": 4,
 "nbformat_minor": 5
}
