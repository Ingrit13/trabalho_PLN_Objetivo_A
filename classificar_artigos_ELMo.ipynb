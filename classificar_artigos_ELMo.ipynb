{
 "cells": [
  {
   "cell_type": "code",
   "execution_count": null,
   "id": "04bd8132",
   "metadata": {},
   "outputs": [],
   "source": [
    "# Instalação das dependências necessárias\n",
    "!pip install \"tensorflow[and-cuda]\" tensorflow-hub\n",
    "!pip install -q tensorflow tensorflow_hub\n",
    "!pip install -q scikit-learn pandas numpy tqdm"
   ]
  },
  {
   "cell_type": "code",
   "execution_count": null,
   "id": "caea2c60",
   "metadata": {},
   "outputs": [],
   "source": [
    "# Verificação da instalação do TensorFlow com suporte a GPU\n",
    "import tensorflow as tf, pprint\n",
    "print(\"TF:\", tf.__version__)\n",
    "print(\"GPUs:\", tf.config.list_physical_devices(\"GPU\"))\n",
    "pprint.pprint(tf.sysconfig.get_build_info())  # mostra cuda_version e cudnn_version"
   ]
  },
  {
   "cell_type": "code",
   "execution_count": null,
   "id": "c204a117",
   "metadata": {},
   "outputs": [],
   "source": [
    "# Importando as bibliotecas necessárias\n",
    "import pandas as pd\n",
    "import numpy as np\n",
    "import tensorflow as tf\n",
    "import tensorflow_hub as hub\n",
    "from sklearn.model_selection import train_test_split\n",
    "from tqdm import tqdm"
   ]
  },
  {
   "cell_type": "code",
   "execution_count": null,
   "id": "4b9e10bd",
   "metadata": {},
   "outputs": [],
   "source": [
    "# Carregando os dados\n",
    "df = pd.read_csv('eventos_artigos_filtrados.csv');\n",
    "df.shape\n",
    "#df.head()"
   ]
  },
  {
   "cell_type": "code",
   "execution_count": null,
   "id": "6a7f2bf1",
   "metadata": {},
   "outputs": [],
   "source": [
    "# Preparação dos dados\n",
    "df = df.drop(columns=['evento_nome', 'resumo'])\n",
    "df = df.dropna(subset=['titulo_artigo', 'ano_edicao'])\n",
    "df['antes_2023'] = df['ano_edicao'].apply(lambda x: 1 if x < 2023 else 0)\n",
    "\n",
    "df[\"titulo_artigo\"] = df[\"titulo_artigo\"].astype(str).str.strip()\n",
    "df[\"antes_2023\"] = df[\"antes_2023\"].astype(int).values\n",
    "\n",
    "#df.head()"
   ]
  },
  {
   "cell_type": "code",
   "execution_count": null,
   "id": "b99a2021",
   "metadata": {},
   "outputs": [],
   "source": [
    "#Incluir aqui outros tratamentos, SFC, normalização, etc."
   ]
  },
  {
   "cell_type": "markdown",
   "id": "42c4923b",
   "metadata": {},
   "source": [
    "# Teste com Tokenizador ELMo\n",
    "# Etapas:\n",
    "- Carregamento do ELMo\n",
    "- Geração dos embeddings usando ELMo pré-treinado\n",
    "- Classificador"
   ]
  },
  {
   "cell_type": "code",
   "execution_count": null,
   "id": "e9132fcd",
   "metadata": {},
   "outputs": [],
   "source": [
    "# Carregando o modelo ELMo uma única vez usando a API TF2.x\n",
    "elmo = hub.load(\"https://tfhub.dev/google/elmo/3\")"
   ]
  },
  {
   "cell_type": "code",
   "execution_count": 9,
   "id": "66cc9670",
   "metadata": {},
   "outputs": [],
   "source": [
    "BATCH_SIZE = 256\n",
    "todos_embeddings = []\n",
    "\n",
    "def gerar_embeddings_elmo(textos):\n",
    "    textos_tensor = tf.constant(textos)\n",
    "    embeddings_palavras = elmo.signatures['default'](textos_tensor)['elmo']\n",
    "    \n",
    "    # Calcula a média dos embeddings das palavras para obter um embedding por frase\n",
    "    embeddings_frases = tf.reduce_mean(embeddings_palavras, axis=1)\n",
    "    \n",
    "    # .numpy() em modo Eager, fora do Keras\n",
    "    return embeddings_frases.numpy()"
   ]
  },
  {
   "cell_type": "code",
   "execution_count": 10,
   "id": "3aab4cc4",
   "metadata": {},
   "outputs": [
    {
     "name": "stderr",
     "output_type": "stream",
     "text": [
      "100%|██████████| 50/50 [00:16<00:00,  3.05it/s]\n"
     ]
    },
    {
     "name": "stdout",
     "output_type": "stream",
     "text": [
      "\n",
      "Embeddings gerados para todos os 12629 títulos.\n"
     ]
    }
   ],
   "source": [
    "titulos = df[\"titulo_artigo\"].tolist()\n",
    "labels = df[\"antes_2023\"].astype(int).values\n",
    "\n",
    "for i in tqdm(range(0, len(titulos), BATCH_SIZE)):\n",
    "    lote_titulos = titulos[i : i + BATCH_SIZE]\n",
    "    lote_embeddings = gerar_embeddings_elmo(lote_titulos)\n",
    "    todos_embeddings.append(lote_embeddings)\n",
    "\n",
    "embeddings_gerados = np.vstack(todos_embeddings)\n",
    "np.save('embeddings_titulos.npy', embeddings_gerados)\n",
    "np.save('labels.npy', labels)\n",
    "\n",
    "print(f\"\\nEmbeddings gerados para todos os {len(titulos)} títulos.\")"
   ]
  },
  {
   "cell_type": "markdown",
   "id": "426a8448",
   "metadata": {},
   "source": [
    "# CLASSIFICADOR "
   ]
  },
  {
   "cell_type": "code",
   "execution_count": 11,
   "id": "d4790f95",
   "metadata": {},
   "outputs": [
    {
     "name": "stdout",
     "output_type": "stream",
     "text": [
      "Dados carregados. Shape de X: (12629, 1024), Shape de y: (12629,)\n",
      "Dados divididos: 10103 para treino, 2526 para teste.\n",
      "\n"
     ]
    },
    {
     "name": "stderr",
     "output_type": "stream",
     "text": [
      "/home/ricardo/Mestrado/TAIA/NLP-Embedding/.venv/lib/python3.10/site-packages/keras/src/layers/core/input_layer.py:27: UserWarning: Argument `input_shape` is deprecated. Use `shape` instead.\n",
      "  warnings.warn(\n"
     ]
    },
    {
     "data": {
      "text/html": [
       "<pre style=\"white-space:pre;overflow-x:auto;line-height:normal;font-family:Menlo,'DejaVu Sans Mono',consolas,'Courier New',monospace\"><span style=\"font-weight: bold\">Model: \"sequential\"</span>\n",
       "</pre>\n"
      ],
      "text/plain": [
       "\u001b[1mModel: \"sequential\"\u001b[0m\n"
      ]
     },
     "metadata": {},
     "output_type": "display_data"
    },
    {
     "data": {
      "text/html": [
       "<pre style=\"white-space:pre;overflow-x:auto;line-height:normal;font-family:Menlo,'DejaVu Sans Mono',consolas,'Courier New',monospace\">┏━━━━━━━━━━━━━━━━━━━━━━━━━━━━━━━━━┳━━━━━━━━━━━━━━━━━━━━━━━━┳━━━━━━━━━━━━━━━┓\n",
       "┃<span style=\"font-weight: bold\"> Layer (type)                    </span>┃<span style=\"font-weight: bold\"> Output Shape           </span>┃<span style=\"font-weight: bold\">       Param # </span>┃\n",
       "┡━━━━━━━━━━━━━━━━━━━━━━━━━━━━━━━━━╇━━━━━━━━━━━━━━━━━━━━━━━━╇━━━━━━━━━━━━━━━┩\n",
       "│ dense (<span style=\"color: #0087ff; text-decoration-color: #0087ff\">Dense</span>)                   │ (<span style=\"color: #00d7ff; text-decoration-color: #00d7ff\">None</span>, <span style=\"color: #00af00; text-decoration-color: #00af00\">128</span>)            │       <span style=\"color: #00af00; text-decoration-color: #00af00\">131,200</span> │\n",
       "├─────────────────────────────────┼────────────────────────┼───────────────┤\n",
       "│ dropout (<span style=\"color: #0087ff; text-decoration-color: #0087ff\">Dropout</span>)               │ (<span style=\"color: #00d7ff; text-decoration-color: #00d7ff\">None</span>, <span style=\"color: #00af00; text-decoration-color: #00af00\">128</span>)            │             <span style=\"color: #00af00; text-decoration-color: #00af00\">0</span> │\n",
       "├─────────────────────────────────┼────────────────────────┼───────────────┤\n",
       "│ dense_1 (<span style=\"color: #0087ff; text-decoration-color: #0087ff\">Dense</span>)                 │ (<span style=\"color: #00d7ff; text-decoration-color: #00d7ff\">None</span>, <span style=\"color: #00af00; text-decoration-color: #00af00\">1</span>)              │           <span style=\"color: #00af00; text-decoration-color: #00af00\">129</span> │\n",
       "└─────────────────────────────────┴────────────────────────┴───────────────┘\n",
       "</pre>\n"
      ],
      "text/plain": [
       "┏━━━━━━━━━━━━━━━━━━━━━━━━━━━━━━━━━┳━━━━━━━━━━━━━━━━━━━━━━━━┳━━━━━━━━━━━━━━━┓\n",
       "┃\u001b[1m \u001b[0m\u001b[1mLayer (type)                   \u001b[0m\u001b[1m \u001b[0m┃\u001b[1m \u001b[0m\u001b[1mOutput Shape          \u001b[0m\u001b[1m \u001b[0m┃\u001b[1m \u001b[0m\u001b[1m      Param #\u001b[0m\u001b[1m \u001b[0m┃\n",
       "┡━━━━━━━━━━━━━━━━━━━━━━━━━━━━━━━━━╇━━━━━━━━━━━━━━━━━━━━━━━━╇━━━━━━━━━━━━━━━┩\n",
       "│ dense (\u001b[38;5;33mDense\u001b[0m)                   │ (\u001b[38;5;45mNone\u001b[0m, \u001b[38;5;34m128\u001b[0m)            │       \u001b[38;5;34m131,200\u001b[0m │\n",
       "├─────────────────────────────────┼────────────────────────┼───────────────┤\n",
       "│ dropout (\u001b[38;5;33mDropout\u001b[0m)               │ (\u001b[38;5;45mNone\u001b[0m, \u001b[38;5;34m128\u001b[0m)            │             \u001b[38;5;34m0\u001b[0m │\n",
       "├─────────────────────────────────┼────────────────────────┼───────────────┤\n",
       "│ dense_1 (\u001b[38;5;33mDense\u001b[0m)                 │ (\u001b[38;5;45mNone\u001b[0m, \u001b[38;5;34m1\u001b[0m)              │           \u001b[38;5;34m129\u001b[0m │\n",
       "└─────────────────────────────────┴────────────────────────┴───────────────┘\n"
      ]
     },
     "metadata": {},
     "output_type": "display_data"
    },
    {
     "data": {
      "text/html": [
       "<pre style=\"white-space:pre;overflow-x:auto;line-height:normal;font-family:Menlo,'DejaVu Sans Mono',consolas,'Courier New',monospace\"><span style=\"font-weight: bold\"> Total params: </span><span style=\"color: #00af00; text-decoration-color: #00af00\">131,329</span> (513.00 KB)\n",
       "</pre>\n"
      ],
      "text/plain": [
       "\u001b[1m Total params: \u001b[0m\u001b[38;5;34m131,329\u001b[0m (513.00 KB)\n"
      ]
     },
     "metadata": {},
     "output_type": "display_data"
    },
    {
     "data": {
      "text/html": [
       "<pre style=\"white-space:pre;overflow-x:auto;line-height:normal;font-family:Menlo,'DejaVu Sans Mono',consolas,'Courier New',monospace\"><span style=\"font-weight: bold\"> Trainable params: </span><span style=\"color: #00af00; text-decoration-color: #00af00\">131,329</span> (513.00 KB)\n",
       "</pre>\n"
      ],
      "text/plain": [
       "\u001b[1m Trainable params: \u001b[0m\u001b[38;5;34m131,329\u001b[0m (513.00 KB)\n"
      ]
     },
     "metadata": {},
     "output_type": "display_data"
    },
    {
     "data": {
      "text/html": [
       "<pre style=\"white-space:pre;overflow-x:auto;line-height:normal;font-family:Menlo,'DejaVu Sans Mono',consolas,'Courier New',monospace\"><span style=\"font-weight: bold\"> Non-trainable params: </span><span style=\"color: #00af00; text-decoration-color: #00af00\">0</span> (0.00 B)\n",
       "</pre>\n"
      ],
      "text/plain": [
       "\u001b[1m Non-trainable params: \u001b[0m\u001b[38;5;34m0\u001b[0m (0.00 B)\n"
      ]
     },
     "metadata": {},
     "output_type": "display_data"
    },
    {
     "name": "stdout",
     "output_type": "stream",
     "text": [
      "\n",
      "Iniciando o treinamento do classificador...\n",
      "Epoch 1/25\n"
     ]
    },
    {
     "name": "stderr",
     "output_type": "stream",
     "text": [
      "2025-09-04 23:03:25.452880: I external/local_xla/xla/service/service.cc:163] XLA service 0x7fbef81b2090 initialized for platform CUDA (this does not guarantee that XLA will be used). Devices:\n",
      "2025-09-04 23:03:25.452895: I external/local_xla/xla/service/service.cc:171]   StreamExecutor device (0): NVIDIA GeForce RTX 3060, Compute Capability 8.6\n",
      "2025-09-04 23:03:25.467947: I tensorflow/compiler/mlir/tensorflow/utils/dump_mlir_util.cc:269] disabling MLIR crash reproducer, set env var `MLIR_CRASH_REPRODUCER_DIRECTORY` to enable.\n"
     ]
    },
    {
     "name": "stdout",
     "output_type": "stream",
     "text": [
      "\u001b[1m 188/2526\u001b[0m \u001b[32m━\u001b[0m\u001b[37m━━━━━━━━━━━━━━━━━━━\u001b[0m \u001b[1m1s\u001b[0m 811us/step - accuracy: 0.7118 - loss: 0.6241"
     ]
    },
    {
     "name": "stderr",
     "output_type": "stream",
     "text": [
      "I0000 00:00:1757041406.133432  205818 device_compiler.h:196] Compiled cluster using XLA!  This line is logged at most once for the lifetime of the process.\n"
     ]
    },
    {
     "name": "stdout",
     "output_type": "stream",
     "text": [
      "\u001b[1m2526/2526\u001b[0m \u001b[32m━━━━━━━━━━━━━━━━━━━━\u001b[0m\u001b[37m\u001b[0m \u001b[1m5s\u001b[0m 2ms/step - accuracy: 0.7209 - loss: 0.5859 - val_accuracy: 0.7268 - val_loss: 0.5771\n",
      "Epoch 2/25\n",
      "\u001b[1m2526/2526\u001b[0m \u001b[32m━━━━━━━━━━━━━━━━━━━━\u001b[0m\u001b[37m\u001b[0m \u001b[1m3s\u001b[0m 1ms/step - accuracy: 0.7260 - loss: 0.5689 - val_accuracy: 0.7260 - val_loss: 0.5559\n",
      "Epoch 3/25\n",
      "\u001b[1m2526/2526\u001b[0m \u001b[32m━━━━━━━━━━━━━━━━━━━━\u001b[0m\u001b[37m\u001b[0m \u001b[1m3s\u001b[0m 1ms/step - accuracy: 0.7312 - loss: 0.5580 - val_accuracy: 0.7284 - val_loss: 0.5507\n",
      "Epoch 4/25\n",
      "\u001b[1m2526/2526\u001b[0m \u001b[32m━━━━━━━━━━━━━━━━━━━━\u001b[0m\u001b[37m\u001b[0m \u001b[1m3s\u001b[0m 1ms/step - accuracy: 0.7294 - loss: 0.5547 - val_accuracy: 0.7276 - val_loss: 0.5488\n",
      "Epoch 5/25\n",
      "\u001b[1m2526/2526\u001b[0m \u001b[32m━━━━━━━━━━━━━━━━━━━━\u001b[0m\u001b[37m\u001b[0m \u001b[1m3s\u001b[0m 1ms/step - accuracy: 0.7325 - loss: 0.5468 - val_accuracy: 0.7292 - val_loss: 0.5507\n",
      "Epoch 6/25\n",
      "\u001b[1m2526/2526\u001b[0m \u001b[32m━━━━━━━━━━━━━━━━━━━━\u001b[0m\u001b[37m\u001b[0m \u001b[1m3s\u001b[0m 1ms/step - accuracy: 0.7341 - loss: 0.5446 - val_accuracy: 0.7304 - val_loss: 0.5972\n",
      "Epoch 7/25\n",
      "\u001b[1m2526/2526\u001b[0m \u001b[32m━━━━━━━━━━━━━━━━━━━━\u001b[0m\u001b[37m\u001b[0m \u001b[1m3s\u001b[0m 1ms/step - accuracy: 0.7345 - loss: 0.5353 - val_accuracy: 0.7316 - val_loss: 0.5592\n",
      "Epoch 8/25\n",
      "\u001b[1m2526/2526\u001b[0m \u001b[32m━━━━━━━━━━━━━━━━━━━━\u001b[0m\u001b[37m\u001b[0m \u001b[1m3s\u001b[0m 1ms/step - accuracy: 0.7412 - loss: 0.5291 - val_accuracy: 0.7288 - val_loss: 0.5584\n",
      "Epoch 9/25\n",
      "\u001b[1m2526/2526\u001b[0m \u001b[32m━━━━━━━━━━━━━━━━━━━━\u001b[0m\u001b[37m\u001b[0m \u001b[1m3s\u001b[0m 1ms/step - accuracy: 0.7465 - loss: 0.5226 - val_accuracy: 0.7264 - val_loss: 0.5490\n",
      "Epoch 10/25\n",
      "\u001b[1m2526/2526\u001b[0m \u001b[32m━━━━━━━━━━━━━━━━━━━━\u001b[0m\u001b[37m\u001b[0m \u001b[1m3s\u001b[0m 998us/step - accuracy: 0.7487 - loss: 0.5170 - val_accuracy: 0.7292 - val_loss: 0.5517\n",
      "Epoch 11/25\n",
      "\u001b[1m2526/2526\u001b[0m \u001b[32m━━━━━━━━━━━━━━━━━━━━\u001b[0m\u001b[37m\u001b[0m \u001b[1m3s\u001b[0m 1ms/step - accuracy: 0.7520 - loss: 0.5102 - val_accuracy: 0.7257 - val_loss: 0.5517\n",
      "Epoch 12/25\n",
      "\u001b[1m2526/2526\u001b[0m \u001b[32m━━━━━━━━━━━━━━━━━━━━\u001b[0m\u001b[37m\u001b[0m \u001b[1m3s\u001b[0m 1ms/step - accuracy: 0.7524 - loss: 0.5080 - val_accuracy: 0.7304 - val_loss: 0.5525\n",
      "Epoch 13/25\n",
      "\u001b[1m2526/2526\u001b[0m \u001b[32m━━━━━━━━━━━━━━━━━━━━\u001b[0m\u001b[37m\u001b[0m \u001b[1m3s\u001b[0m 1ms/step - accuracy: 0.7568 - loss: 0.4967 - val_accuracy: 0.7308 - val_loss: 0.5525\n",
      "Epoch 14/25\n",
      "\u001b[1m2526/2526\u001b[0m \u001b[32m━━━━━━━━━━━━━━━━━━━━\u001b[0m\u001b[37m\u001b[0m \u001b[1m3s\u001b[0m 1ms/step - accuracy: 0.7582 - loss: 0.4980 - val_accuracy: 0.7264 - val_loss: 0.5577\n",
      "Epoch 15/25\n",
      "\u001b[1m2526/2526\u001b[0m \u001b[32m━━━━━━━━━━━━━━━━━━━━\u001b[0m\u001b[37m\u001b[0m \u001b[1m3s\u001b[0m 1ms/step - accuracy: 0.7582 - loss: 0.4902 - val_accuracy: 0.7209 - val_loss: 0.5604\n",
      "Epoch 16/25\n",
      "\u001b[1m2526/2526\u001b[0m \u001b[32m━━━━━━━━━━━━━━━━━━━━\u001b[0m\u001b[37m\u001b[0m \u001b[1m3s\u001b[0m 1ms/step - accuracy: 0.7666 - loss: 0.4849 - val_accuracy: 0.7138 - val_loss: 0.5692\n",
      "Epoch 17/25\n",
      "\u001b[1m2526/2526\u001b[0m \u001b[32m━━━━━━━━━━━━━━━━━━━━\u001b[0m\u001b[37m\u001b[0m \u001b[1m3s\u001b[0m 1ms/step - accuracy: 0.7694 - loss: 0.4789 - val_accuracy: 0.7225 - val_loss: 0.5755\n",
      "Epoch 18/25\n",
      "\u001b[1m2526/2526\u001b[0m \u001b[32m━━━━━━━━━━━━━━━━━━━━\u001b[0m\u001b[37m\u001b[0m \u001b[1m3s\u001b[0m 1ms/step - accuracy: 0.7692 - loss: 0.4750 - val_accuracy: 0.7276 - val_loss: 0.5653\n",
      "Epoch 19/25\n",
      "\u001b[1m2526/2526\u001b[0m \u001b[32m━━━━━━━━━━━━━━━━━━━━\u001b[0m\u001b[37m\u001b[0m \u001b[1m3s\u001b[0m 1ms/step - accuracy: 0.7670 - loss: 0.4752 - val_accuracy: 0.7201 - val_loss: 0.5916\n",
      "Epoch 20/25\n",
      "\u001b[1m2526/2526\u001b[0m \u001b[32m━━━━━━━━━━━━━━━━━━━━\u001b[0m\u001b[37m\u001b[0m \u001b[1m3s\u001b[0m 1ms/step - accuracy: 0.7699 - loss: 0.4674 - val_accuracy: 0.7292 - val_loss: 0.5730\n",
      "Epoch 21/25\n",
      "\u001b[1m2526/2526\u001b[0m \u001b[32m━━━━━━━━━━━━━━━━━━━━\u001b[0m\u001b[37m\u001b[0m \u001b[1m3s\u001b[0m 1ms/step - accuracy: 0.7712 - loss: 0.4629 - val_accuracy: 0.7205 - val_loss: 0.5832\n",
      "Epoch 22/25\n",
      "\u001b[1m2526/2526\u001b[0m \u001b[32m━━━━━━━━━━━━━━━━━━━━\u001b[0m\u001b[37m\u001b[0m \u001b[1m3s\u001b[0m 1ms/step - accuracy: 0.7814 - loss: 0.4556 - val_accuracy: 0.7154 - val_loss: 0.5773\n",
      "Epoch 23/25\n",
      "\u001b[1m2526/2526\u001b[0m \u001b[32m━━━━━━━━━━━━━━━━━━━━\u001b[0m\u001b[37m\u001b[0m \u001b[1m3s\u001b[0m 1ms/step - accuracy: 0.7770 - loss: 0.4543 - val_accuracy: 0.7304 - val_loss: 0.5953\n",
      "Epoch 24/25\n",
      "\u001b[1m2526/2526\u001b[0m \u001b[32m━━━━━━━━━━━━━━━━━━━━\u001b[0m\u001b[37m\u001b[0m \u001b[1m3s\u001b[0m 1ms/step - accuracy: 0.7823 - loss: 0.4518 - val_accuracy: 0.7209 - val_loss: 0.6089\n",
      "Epoch 25/25\n",
      "\u001b[1m2526/2526\u001b[0m \u001b[32m━━━━━━━━━━━━━━━━━━━━\u001b[0m\u001b[37m\u001b[0m \u001b[1m3s\u001b[0m 997us/step - accuracy: 0.7800 - loss: 0.4456 - val_accuracy: 0.7059 - val_loss: 0.6031\n",
      "\n",
      "Avaliação final no conjunto de teste:\n",
      "\u001b[1m79/79\u001b[0m \u001b[32m━━━━━━━━━━━━━━━━━━━━\u001b[0m\u001b[37m\u001b[0m \u001b[1m1s\u001b[0m 6ms/step - accuracy: 0.7059 - loss: 0.6031\n",
      "Acurácia final no teste: 0.7059\n"
     ]
    }
   ],
   "source": [
    "# Carregamento dos Dados Pré-processados ---\n",
    "X = np.load('embeddings_titulos.npy')\n",
    "y = np.load('labels.npy')\n",
    "\n",
    "print(f\"Dados carregados. Shape de X: {X.shape}, Shape de y: {y.shape}\")\n",
    "\n",
    "X_train, X_test, y_train, y_test = train_test_split(\n",
    "    X, y, test_size=0.2, random_state=42, stratify=y\n",
    ")\n",
    "print(f\"Dados divididos: {len(X_train)} para treino, {len(X_test)} para teste.\\n\")\n",
    "\n",
    "\n",
    "# Modelo de Classificação ---\n",
    "model = tf.keras.Sequential([\n",
    "    # A camada de entrada espera vetores com 1024 dimensões (o tamanho do embedding ELMo)\n",
    "    tf.keras.layers.InputLayer(input_shape=(1024,)),\n",
    "    \n",
    "    # Camada oculta para aprender padrões nos embeddings\n",
    "    tf.keras.layers.Dense(128, activation='relu'),\n",
    "    tf.keras.layers.Dropout(0.5), # Dropout para evitar overfitting\n",
    "    \n",
    "    # Camada de saída para classificação binária\n",
    "    tf.keras.layers.Dense(1, activation='sigmoid')\n",
    "])\n",
    "\n",
    "model.compile(optimizer='adam',\n",
    "              loss='binary_crossentropy',\n",
    "              metrics=['accuracy'])\n",
    "\n",
    "model.summary()\n",
    "\n",
    "# --- Treinamento do Modelo ---\n",
    "print(\"\\nIniciando o treinamento do classificador...\")\n",
    "history = model.fit(\n",
    "    X_train,\n",
    "    y_train,\n",
    "    epochs=50,\n",
    "    batch_size=4,\n",
    "    validation_data=(X_test, y_test),\n",
    "    verbose=1\n",
    ")\n",
    "\n",
    "# --- Avaliação Final ---\n",
    "print(\"\\nAvaliação final no conjunto de teste:\")\n",
    "loss, accuracy = model.evaluate(X_test, y_test)\n",
    "print(f'Acurácia final no teste: {accuracy:.4f}')"
   ]
  },
  {
   "cell_type": "code",
   "execution_count": 12,
   "id": "b2226ed8",
   "metadata": {},
   "outputs": [],
   "source": [
    "model.save('classificador_com_ELMo.keras')"
   ]
  }
 ],
 "metadata": {
  "kernelspec": {
   "display_name": ".venv",
   "language": "python",
   "name": "python3"
  },
  "language_info": {
   "codemirror_mode": {
    "name": "ipython",
    "version": 3
   },
   "file_extension": ".py",
   "mimetype": "text/x-python",
   "name": "python",
   "nbconvert_exporter": "python",
   "pygments_lexer": "ipython3",
   "version": "3.10.12"
  }
 },
 "nbformat": 4,
 "nbformat_minor": 5
}
