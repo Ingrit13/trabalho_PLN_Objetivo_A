{
 "cells": [
  {
   "cell_type": "code",
   "execution_count": null,
   "id": "04bd8132",
   "metadata": {},
   "outputs": [],
   "source": [
    "# Instalação das dependências necessárias\n",
    "!pip install \"tensorflow[and-cuda]\" tensorflow-hub\n",
    "!pip install -q tensorflow tensorflow_hub\n",
    "!pip install -q scikit-learn pandas numpy tqdm\n",
    "!pip install -q matplotlib seaborn"
   ]
  },
  {
   "cell_type": "code",
   "execution_count": null,
   "id": "caea2c60",
   "metadata": {},
   "outputs": [],
   "source": [
    "# Verificação da instalação do TensorFlow com suporte a GPU\n",
    "import tensorflow as tf, pprint\n",
    "print(\"TF:\", tf.__version__)\n",
    "print(\"GPUs:\", tf.config.list_physical_devices(\"GPU\"))\n",
    "pprint.pprint(tf.sysconfig.get_build_info())  # mostra cuda_version e cudnn_version"
   ]
  },
  {
   "cell_type": "code",
   "execution_count": 29,
   "id": "c204a117",
   "metadata": {},
   "outputs": [],
   "source": [
    "# Importando as bibliotecas necessárias\n",
    "import pandas as pd\n",
    "import numpy as np\n",
    "import tensorflow as tf\n",
    "import tensorflow_hub as hub\n",
    "from sklearn.model_selection import train_test_split\n",
    "from tqdm import tqdm\n",
    "\n",
    "from sklearn.metrics import classification_report, confusion_matrix\n",
    "import seaborn as sns\n",
    "import matplotlib.pyplot as plt\n",
    "\n",
    "from sklearn.utils import class_weight"
   ]
  },
  {
   "cell_type": "code",
   "execution_count": 20,
   "id": "4b9e10bd",
   "metadata": {},
   "outputs": [],
   "source": [
    "# Carregando os dados\n",
    "df = pd.read_csv('eventos_artigos_filtrados.csv');"
   ]
  },
  {
   "cell_type": "code",
   "execution_count": null,
   "id": "83116042",
   "metadata": {},
   "outputs": [],
   "source": [
    "# Explorar os dados\n",
    "print(\"Informações do dataset:\")\n",
    "print(df.info())\n",
    "\n",
    "print(\"\\nValores ausentes por coluna:\")\n",
    "print(df.isnull().sum())\n",
    "\n",
    "print(\"\\nNúmero de linhas duplicadas:\")\n",
    "print(df.duplicated().sum())\n",
    "\n",
    "print(\"\\nTotal dos dados:\")\n",
    "print(df.shape[0])\n",
    "\n",
    "print(\"\\nBalanceamento de Classes:\")\n",
    "print(df['antes_2023'].value_counts())"
   ]
  },
  {
   "cell_type": "code",
   "execution_count": null,
   "id": "6a7f2bf1",
   "metadata": {},
   "outputs": [],
   "source": [
    "# Preparação dos dados\n",
    "df = df.drop(columns=['evento_nome', 'resumo'])\n",
    "df = df.dropna(subset=['titulo_artigo', 'ano_edicao'])\n",
    "df = df.drop_duplicates(subset=['titulo_artigo', 'ano_edicao'], keep='first')\n",
    "\n",
    "df['antes_2023'] = df['ano_edicao'].apply(lambda x: 1 if x < 2023 else 0)\n",
    "\n",
    "df[\"titulo_artigo\"] = df[\"titulo_artigo\"].astype(str).str.strip()\n",
    "df[\"antes_2023\"] = df[\"antes_2023\"].astype(int).values"
   ]
  },
  {
   "cell_type": "markdown",
   "id": "42c4923b",
   "metadata": {},
   "source": [
    "# Teste com Tokenizador ELMo\n",
    "# Etapas:\n",
    "- Carregamento do ELMo\n",
    "- Geração dos embeddings usando ELMo pré-treinado\n",
    "- Classificador"
   ]
  },
  {
   "cell_type": "code",
   "execution_count": 9,
   "id": "e9132fcd",
   "metadata": {},
   "outputs": [
    {
     "name": "stderr",
     "output_type": "stream",
     "text": [
      "WARNING: All log messages before absl::InitializeLog() is called are written to STDERR\n",
      "I0000 00:00:1757286328.785394  766455 gpu_device.cc:2020] Created device /job:localhost/replica:0/task:0/device:GPU:0 with 9252 MB memory:  -> device: 0, name: NVIDIA GeForce RTX 3060, pci bus id: 0000:0a:00.0, compute capability: 8.6\n"
     ]
    }
   ],
   "source": [
    "# Carregando o modelo ELMo uma única vez usando a API TF2.x\n",
    "elmo = hub.load(\"https://tfhub.dev/google/elmo/3\")"
   ]
  },
  {
   "cell_type": "code",
   "execution_count": 13,
   "id": "66cc9670",
   "metadata": {},
   "outputs": [],
   "source": [
    "BATCH_SIZE = 256\n",
    "todos_embeddings = []\n",
    "\n",
    "def gerar_embeddings_elmo(textos):\n",
    "    textos_tensor = tf.constant(textos)\n",
    "    embeddings_palavras = elmo.signatures['default'](textos_tensor)['elmo']\n",
    "    \n",
    "    # Calcula a média dos embeddings das palavras para obter um embedding por frase\n",
    "    embeddings_frases = tf.reduce_mean(embeddings_palavras, axis=1)\n",
    "    \n",
    "    # .numpy() em modo Eager, fora do Keras\n",
    "    return embeddings_frases.numpy()"
   ]
  },
  {
   "cell_type": "code",
   "execution_count": 14,
   "id": "3aab4cc4",
   "metadata": {},
   "outputs": [
    {
     "name": "stderr",
     "output_type": "stream",
     "text": [
      "  0%|          | 0/50 [00:00<?, ?it/s]2025-09-07 19:06:42.385798: I external/local_xla/xla/stream_executor/cuda/cuda_dnn.cc:473] Loaded cuDNN version 91002\n",
      "100%|██████████| 50/50 [00:43<00:00,  1.14it/s]"
     ]
    },
    {
     "name": "stdout",
     "output_type": "stream",
     "text": [
      "\n",
      "Embeddings gerados para todos os 12629 títulos.\n"
     ]
    },
    {
     "name": "stderr",
     "output_type": "stream",
     "text": [
      "\n"
     ]
    }
   ],
   "source": [
    "titulos = df[\"titulo_artigo\"].tolist()\n",
    "labels = df[\"antes_2023\"].astype(int).values\n",
    "\n",
    "for i in tqdm(range(0, len(titulos), BATCH_SIZE)):\n",
    "    lote_titulos = titulos[i : i + BATCH_SIZE]\n",
    "    lote_embeddings = gerar_embeddings_elmo(lote_titulos)\n",
    "    todos_embeddings.append(lote_embeddings)\n",
    "\n",
    "embeddings_gerados = np.vstack(todos_embeddings)\n",
    "np.save('embeddings_titulos.npy', embeddings_gerados)\n",
    "np.save('labels.npy', labels)\n",
    "\n",
    "print(f\"\\nEmbeddings gerados para todos os {len(titulos)} títulos.\")"
   ]
  },
  {
   "cell_type": "markdown",
   "id": "426a8448",
   "metadata": {},
   "source": [
    "# CLASSIFICADOR "
   ]
  },
  {
   "cell_type": "code",
   "execution_count": 51,
   "id": "b99a2021",
   "metadata": {},
   "outputs": [
    {
     "name": "stdout",
     "output_type": "stream",
     "text": [
      "Dados carregados. Shape de X: (12629, 1024), Shape de y: (12629,) \n",
      "\n",
      "Dados divididos: 10103 para treino, 2526 para teste.\n",
      "\n",
      "Pesos de Classe Calculados: {0: 1.6, 1: 1.0} \n",
      "\n"
     ]
    }
   ],
   "source": [
    "# Carregamento dos Dados Pré-processados\n",
    "X = np.load('embeddings_titulos.npy')\n",
    "y = np.load('labels.npy')\n",
    "\n",
    "# Divisão dos Dados em Treino e Teste\n",
    "print(f\"Dados carregados. Shape de X: {X.shape}, Shape de y: {y.shape} \\n\")\n",
    "\n",
    "X_train, X_test, y_train, y_test = train_test_split(\n",
    "    X, y, test_size=0.2, random_state=42, stratify=y\n",
    ")\n",
    "print(f\"Dados divididos: {len(X_train)} para treino, {len(X_test)} para teste.\\n\")\n",
    "\n",
    "# Verificou-se na exploração dos dados que o dataset está desbalanceado. Será aplidada a técnica de Ponderação de Classes (Class Weighting) \n",
    "\n",
    "# Calcula os pesos para balancear as classes com base na frequência de cada classe em y_train\n",
    "#weights = class_weight.compute_class_weight(\n",
    "#    class_weight='balanced',\n",
    "#    classes=np.unique(y_train),\n",
    "#    y=y_train\n",
    "#)\n",
    "# Converte o array de pesos em um dicionário que o Keras entende\n",
    "#class_weights = dict(enumerate(weights))\n",
    "\n",
    "# Setando o class_weight manualmente\n",
    "class_weights = {0: 1.6, 1: 1.0} \n",
    "\n",
    "print(f\"Pesos de Classe Calculados: {class_weights} \\n\")"
   ]
  },
  {
   "cell_type": "code",
   "execution_count": null,
   "id": "d4790f95",
   "metadata": {},
   "outputs": [
    {
     "data": {
      "text/html": [
       "<pre style=\"white-space:pre;overflow-x:auto;line-height:normal;font-family:Menlo,'DejaVu Sans Mono',consolas,'Courier New',monospace\"><span style=\"font-weight: bold\">Model: \"sequential_10\"</span>\n",
       "</pre>\n"
      ],
      "text/plain": [
       "\u001b[1mModel: \"sequential_10\"\u001b[0m\n"
      ]
     },
     "metadata": {},
     "output_type": "display_data"
    },
    {
     "data": {
      "text/html": [
       "<pre style=\"white-space:pre;overflow-x:auto;line-height:normal;font-family:Menlo,'DejaVu Sans Mono',consolas,'Courier New',monospace\">┏━━━━━━━━━━━━━━━━━━━━━━━━━━━━━━━━━┳━━━━━━━━━━━━━━━━━━━━━━━━┳━━━━━━━━━━━━━━━┓\n",
       "┃<span style=\"font-weight: bold\"> Layer (type)                    </span>┃<span style=\"font-weight: bold\"> Output Shape           </span>┃<span style=\"font-weight: bold\">       Param # </span>┃\n",
       "┡━━━━━━━━━━━━━━━━━━━━━━━━━━━━━━━━━╇━━━━━━━━━━━━━━━━━━━━━━━━╇━━━━━━━━━━━━━━━┩\n",
       "│ dense_20 (<span style=\"color: #0087ff; text-decoration-color: #0087ff\">Dense</span>)                │ (<span style=\"color: #00d7ff; text-decoration-color: #00d7ff\">None</span>, <span style=\"color: #00af00; text-decoration-color: #00af00\">128</span>)            │       <span style=\"color: #00af00; text-decoration-color: #00af00\">131,200</span> │\n",
       "├─────────────────────────────────┼────────────────────────┼───────────────┤\n",
       "│ dropout_10 (<span style=\"color: #0087ff; text-decoration-color: #0087ff\">Dropout</span>)            │ (<span style=\"color: #00d7ff; text-decoration-color: #00d7ff\">None</span>, <span style=\"color: #00af00; text-decoration-color: #00af00\">128</span>)            │             <span style=\"color: #00af00; text-decoration-color: #00af00\">0</span> │\n",
       "├─────────────────────────────────┼────────────────────────┼───────────────┤\n",
       "│ dense_21 (<span style=\"color: #0087ff; text-decoration-color: #0087ff\">Dense</span>)                │ (<span style=\"color: #00d7ff; text-decoration-color: #00d7ff\">None</span>, <span style=\"color: #00af00; text-decoration-color: #00af00\">1</span>)              │           <span style=\"color: #00af00; text-decoration-color: #00af00\">129</span> │\n",
       "└─────────────────────────────────┴────────────────────────┴───────────────┘\n",
       "</pre>\n"
      ],
      "text/plain": [
       "┏━━━━━━━━━━━━━━━━━━━━━━━━━━━━━━━━━┳━━━━━━━━━━━━━━━━━━━━━━━━┳━━━━━━━━━━━━━━━┓\n",
       "┃\u001b[1m \u001b[0m\u001b[1mLayer (type)                   \u001b[0m\u001b[1m \u001b[0m┃\u001b[1m \u001b[0m\u001b[1mOutput Shape          \u001b[0m\u001b[1m \u001b[0m┃\u001b[1m \u001b[0m\u001b[1m      Param #\u001b[0m\u001b[1m \u001b[0m┃\n",
       "┡━━━━━━━━━━━━━━━━━━━━━━━━━━━━━━━━━╇━━━━━━━━━━━━━━━━━━━━━━━━╇━━━━━━━━━━━━━━━┩\n",
       "│ dense_20 (\u001b[38;5;33mDense\u001b[0m)                │ (\u001b[38;5;45mNone\u001b[0m, \u001b[38;5;34m128\u001b[0m)            │       \u001b[38;5;34m131,200\u001b[0m │\n",
       "├─────────────────────────────────┼────────────────────────┼───────────────┤\n",
       "│ dropout_10 (\u001b[38;5;33mDropout\u001b[0m)            │ (\u001b[38;5;45mNone\u001b[0m, \u001b[38;5;34m128\u001b[0m)            │             \u001b[38;5;34m0\u001b[0m │\n",
       "├─────────────────────────────────┼────────────────────────┼───────────────┤\n",
       "│ dense_21 (\u001b[38;5;33mDense\u001b[0m)                │ (\u001b[38;5;45mNone\u001b[0m, \u001b[38;5;34m1\u001b[0m)              │           \u001b[38;5;34m129\u001b[0m │\n",
       "└─────────────────────────────────┴────────────────────────┴───────────────┘\n"
      ]
     },
     "metadata": {},
     "output_type": "display_data"
    },
    {
     "data": {
      "text/html": [
       "<pre style=\"white-space:pre;overflow-x:auto;line-height:normal;font-family:Menlo,'DejaVu Sans Mono',consolas,'Courier New',monospace\"><span style=\"font-weight: bold\"> Total params: </span><span style=\"color: #00af00; text-decoration-color: #00af00\">131,329</span> (513.00 KB)\n",
       "</pre>\n"
      ],
      "text/plain": [
       "\u001b[1m Total params: \u001b[0m\u001b[38;5;34m131,329\u001b[0m (513.00 KB)\n"
      ]
     },
     "metadata": {},
     "output_type": "display_data"
    },
    {
     "data": {
      "text/html": [
       "<pre style=\"white-space:pre;overflow-x:auto;line-height:normal;font-family:Menlo,'DejaVu Sans Mono',consolas,'Courier New',monospace\"><span style=\"font-weight: bold\"> Trainable params: </span><span style=\"color: #00af00; text-decoration-color: #00af00\">131,329</span> (513.00 KB)\n",
       "</pre>\n"
      ],
      "text/plain": [
       "\u001b[1m Trainable params: \u001b[0m\u001b[38;5;34m131,329\u001b[0m (513.00 KB)\n"
      ]
     },
     "metadata": {},
     "output_type": "display_data"
    },
    {
     "data": {
      "text/html": [
       "<pre style=\"white-space:pre;overflow-x:auto;line-height:normal;font-family:Menlo,'DejaVu Sans Mono',consolas,'Courier New',monospace\"><span style=\"font-weight: bold\"> Non-trainable params: </span><span style=\"color: #00af00; text-decoration-color: #00af00\">0</span> (0.00 B)\n",
       "</pre>\n"
      ],
      "text/plain": [
       "\u001b[1m Non-trainable params: \u001b[0m\u001b[38;5;34m0\u001b[0m (0.00 B)\n"
      ]
     },
     "metadata": {},
     "output_type": "display_data"
    },
    {
     "name": "stdout",
     "output_type": "stream",
     "text": [
      "\n",
      "Iniciando o treinamento do classificador...\n",
      "Epoch 1/60\n",
      "\u001b[1m2526/2526\u001b[0m \u001b[32m━━━━━━━━━━━━━━━━━━━━\u001b[0m\u001b[37m\u001b[0m \u001b[1m4s\u001b[0m 1ms/step - accuracy: 0.6965 - loss: 0.7683 - val_accuracy: 0.7280 - val_loss: 0.5925\n",
      "Epoch 2/60\n",
      "\u001b[1m2526/2526\u001b[0m \u001b[32m━━━━━━━━━━━━━━━━━━━━\u001b[0m\u001b[37m\u001b[0m \u001b[1m3s\u001b[0m 1ms/step - accuracy: 0.7113 - loss: 0.7432 - val_accuracy: 0.7051 - val_loss: 0.6065\n",
      "Epoch 3/60\n",
      "\u001b[1m2526/2526\u001b[0m \u001b[32m━━━━━━━━━━━━━━━━━━━━\u001b[0m\u001b[37m\u001b[0m \u001b[1m3s\u001b[0m 1ms/step - accuracy: 0.7242 - loss: 0.7290 - val_accuracy: 0.6888 - val_loss: 0.6002\n",
      "Epoch 4/60\n",
      "\u001b[1m2526/2526\u001b[0m \u001b[32m━━━━━━━━━━━━━━━━━━━━\u001b[0m\u001b[37m\u001b[0m \u001b[1m3s\u001b[0m 1ms/step - accuracy: 0.7174 - loss: 0.7215 - val_accuracy: 0.7051 - val_loss: 0.5806\n",
      "Epoch 5/60\n",
      "\u001b[1m2526/2526\u001b[0m \u001b[32m━━━━━━━━━━━━━━━━━━━━\u001b[0m\u001b[37m\u001b[0m \u001b[1m3s\u001b[0m 1ms/step - accuracy: 0.7273 - loss: 0.7086 - val_accuracy: 0.7201 - val_loss: 0.5717\n",
      "Epoch 6/60\n",
      "\u001b[1m2526/2526\u001b[0m \u001b[32m━━━━━━━━━━━━━━━━━━━━\u001b[0m\u001b[37m\u001b[0m \u001b[1m3s\u001b[0m 999us/step - accuracy: 0.7224 - loss: 0.7034 - val_accuracy: 0.7059 - val_loss: 0.5746\n",
      "Epoch 7/60\n",
      "\u001b[1m2526/2526\u001b[0m \u001b[32m━━━━━━━━━━━━━━━━━━━━\u001b[0m\u001b[37m\u001b[0m \u001b[1m3s\u001b[0m 1ms/step - accuracy: 0.7257 - loss: 0.6925 - val_accuracy: 0.7233 - val_loss: 0.5514\n",
      "Epoch 8/60\n",
      "\u001b[1m2526/2526\u001b[0m \u001b[32m━━━━━━━━━━━━━━━━━━━━\u001b[0m\u001b[37m\u001b[0m \u001b[1m3s\u001b[0m 1ms/step - accuracy: 0.7322 - loss: 0.6878 - val_accuracy: 0.6706 - val_loss: 0.6055\n",
      "Epoch 9/60\n",
      "\u001b[1m2526/2526\u001b[0m \u001b[32m━━━━━━━━━━━━━━━━━━━━\u001b[0m\u001b[37m\u001b[0m \u001b[1m3s\u001b[0m 994us/step - accuracy: 0.7338 - loss: 0.6846 - val_accuracy: 0.6857 - val_loss: 0.5914\n",
      "Epoch 10/60\n",
      "\u001b[1m2526/2526\u001b[0m \u001b[32m━━━━━━━━━━━━━━━━━━━━\u001b[0m\u001b[37m\u001b[0m \u001b[1m3s\u001b[0m 1ms/step - accuracy: 0.7386 - loss: 0.6715 - val_accuracy: 0.7173 - val_loss: 0.5643\n",
      "Epoch 11/60\n",
      "\u001b[1m2526/2526\u001b[0m \u001b[32m━━━━━━━━━━━━━━━━━━━━\u001b[0m\u001b[37m\u001b[0m \u001b[1m2s\u001b[0m 967us/step - accuracy: 0.7408 - loss: 0.6659 - val_accuracy: 0.7122 - val_loss: 0.5596\n",
      "Epoch 12/60\n",
      "\u001b[1m2526/2526\u001b[0m \u001b[32m━━━━━━━━━━━━━━━━━━━━\u001b[0m\u001b[37m\u001b[0m \u001b[1m3s\u001b[0m 1ms/step - accuracy: 0.7460 - loss: 0.6590 - val_accuracy: 0.7260 - val_loss: 0.5636\n",
      "Epoch 13/60\n",
      "\u001b[1m2526/2526\u001b[0m \u001b[32m━━━━━━━━━━━━━━━━━━━━\u001b[0m\u001b[37m\u001b[0m \u001b[1m3s\u001b[0m 1ms/step - accuracy: 0.7521 - loss: 0.6558 - val_accuracy: 0.7074 - val_loss: 0.5774\n",
      "Epoch 14/60\n",
      "\u001b[1m2526/2526\u001b[0m \u001b[32m━━━━━━━━━━━━━━━━━━━━\u001b[0m\u001b[37m\u001b[0m \u001b[1m3s\u001b[0m 1ms/step - accuracy: 0.7547 - loss: 0.6457 - val_accuracy: 0.6956 - val_loss: 0.5897\n",
      "Epoch 15/60\n",
      "\u001b[1m2526/2526\u001b[0m \u001b[32m━━━━━━━━━━━━━━━━━━━━\u001b[0m\u001b[37m\u001b[0m \u001b[1m3s\u001b[0m 1ms/step - accuracy: 0.7566 - loss: 0.6307 - val_accuracy: 0.7154 - val_loss: 0.5689\n",
      "Epoch 16/60\n",
      "\u001b[1m2526/2526\u001b[0m \u001b[32m━━━━━━━━━━━━━━━━━━━━\u001b[0m\u001b[37m\u001b[0m \u001b[1m3s\u001b[0m 1ms/step - accuracy: 0.7559 - loss: 0.6298 - val_accuracy: 0.7138 - val_loss: 0.5767\n",
      "Epoch 17/60\n",
      "\u001b[1m2526/2526\u001b[0m \u001b[32m━━━━━━━━━━━━━━━━━━━━\u001b[0m\u001b[37m\u001b[0m \u001b[1m3s\u001b[0m 1ms/step - accuracy: 0.7611 - loss: 0.6190 - val_accuracy: 0.7225 - val_loss: 0.5795\n",
      "Epoch 18/60\n",
      "\u001b[1m2526/2526\u001b[0m \u001b[32m━━━━━━━━━━━━━━━━━━━━\u001b[0m\u001b[37m\u001b[0m \u001b[1m2s\u001b[0m 981us/step - accuracy: 0.7621 - loss: 0.6213 - val_accuracy: 0.6916 - val_loss: 0.6291\n",
      "Epoch 19/60\n",
      "\u001b[1m2526/2526\u001b[0m \u001b[32m━━━━━━━━━━━━━━━━━━━━\u001b[0m\u001b[37m\u001b[0m \u001b[1m3s\u001b[0m 1ms/step - accuracy: 0.7653 - loss: 0.6103 - val_accuracy: 0.7130 - val_loss: 0.5783\n",
      "Epoch 20/60\n",
      "\u001b[1m2526/2526\u001b[0m \u001b[32m━━━━━━━━━━━━━━━━━━━━\u001b[0m\u001b[37m\u001b[0m \u001b[1m3s\u001b[0m 1ms/step - accuracy: 0.7700 - loss: 0.6004 - val_accuracy: 0.7067 - val_loss: 0.6007\n",
      "Epoch 21/60\n",
      "\u001b[1m2526/2526\u001b[0m \u001b[32m━━━━━━━━━━━━━━━━━━━━\u001b[0m\u001b[37m\u001b[0m \u001b[1m3s\u001b[0m 1ms/step - accuracy: 0.7732 - loss: 0.5935 - val_accuracy: 0.6817 - val_loss: 0.6104\n",
      "Epoch 22/60\n",
      "\u001b[1m2526/2526\u001b[0m \u001b[32m━━━━━━━━━━━━━━━━━━━━\u001b[0m\u001b[37m\u001b[0m \u001b[1m3s\u001b[0m 997us/step - accuracy: 0.7798 - loss: 0.5900 - val_accuracy: 0.7082 - val_loss: 0.5995\n",
      "Epoch 23/60\n",
      "\u001b[1m2526/2526\u001b[0m \u001b[32m━━━━━━━━━━━━━━━━━━━━\u001b[0m\u001b[37m\u001b[0m \u001b[1m3s\u001b[0m 988us/step - accuracy: 0.7806 - loss: 0.5822 - val_accuracy: 0.7059 - val_loss: 0.6184\n",
      "Epoch 24/60\n",
      "\u001b[1m2526/2526\u001b[0m \u001b[32m━━━━━━━━━━━━━━━━━━━━\u001b[0m\u001b[37m\u001b[0m \u001b[1m3s\u001b[0m 1ms/step - accuracy: 0.7772 - loss: 0.5768 - val_accuracy: 0.7070 - val_loss: 0.6126\n",
      "Epoch 25/60\n",
      "\u001b[1m2526/2526\u001b[0m \u001b[32m━━━━━━━━━━━━━━━━━━━━\u001b[0m\u001b[37m\u001b[0m \u001b[1m3s\u001b[0m 993us/step - accuracy: 0.7811 - loss: 0.5715 - val_accuracy: 0.6995 - val_loss: 0.6203\n",
      "Epoch 26/60\n",
      "\u001b[1m2526/2526\u001b[0m \u001b[32m━━━━━━━━━━━━━━━━━━━━\u001b[0m\u001b[37m\u001b[0m \u001b[1m3s\u001b[0m 987us/step - accuracy: 0.7855 - loss: 0.5643 - val_accuracy: 0.7094 - val_loss: 0.6309\n",
      "Epoch 27/60\n",
      "\u001b[1m2526/2526\u001b[0m \u001b[32m━━━━━━━━━━━━━━━━━━━━\u001b[0m\u001b[37m\u001b[0m \u001b[1m3s\u001b[0m 995us/step - accuracy: 0.7888 - loss: 0.5655 - val_accuracy: 0.7146 - val_loss: 0.6323\n",
      "Epoch 28/60\n",
      "\u001b[1m2526/2526\u001b[0m \u001b[32m━━━━━━━━━━━━━━━━━━━━\u001b[0m\u001b[37m\u001b[0m \u001b[1m3s\u001b[0m 1ms/step - accuracy: 0.7902 - loss: 0.5569 - val_accuracy: 0.7177 - val_loss: 0.6397\n",
      "Epoch 29/60\n",
      "\u001b[1m2526/2526\u001b[0m \u001b[32m━━━━━━━━━━━━━━━━━━━━\u001b[0m\u001b[37m\u001b[0m \u001b[1m3s\u001b[0m 999us/step - accuracy: 0.7915 - loss: 0.5465 - val_accuracy: 0.7011 - val_loss: 0.6518\n",
      "Epoch 30/60\n",
      "\u001b[1m2526/2526\u001b[0m \u001b[32m━━━━━━━━━━━━━━━━━━━━\u001b[0m\u001b[37m\u001b[0m \u001b[1m3s\u001b[0m 1ms/step - accuracy: 0.7929 - loss: 0.5439 - val_accuracy: 0.7070 - val_loss: 0.6518\n",
      "Epoch 31/60\n",
      "\u001b[1m2526/2526\u001b[0m \u001b[32m━━━━━━━━━━━━━━━━━━━━\u001b[0m\u001b[37m\u001b[0m \u001b[1m3s\u001b[0m 998us/step - accuracy: 0.7961 - loss: 0.5390 - val_accuracy: 0.6888 - val_loss: 0.6557\n",
      "Epoch 32/60\n",
      "\u001b[1m2526/2526\u001b[0m \u001b[32m━━━━━━━━━━━━━━━━━━━━\u001b[0m\u001b[37m\u001b[0m \u001b[1m3s\u001b[0m 1ms/step - accuracy: 0.7995 - loss: 0.5347 - val_accuracy: 0.6821 - val_loss: 0.7042\n",
      "Epoch 33/60\n",
      "\u001b[1m2526/2526\u001b[0m \u001b[32m━━━━━━━━━━━━━━━━━━━━\u001b[0m\u001b[37m\u001b[0m \u001b[1m3s\u001b[0m 1ms/step - accuracy: 0.7997 - loss: 0.5261 - val_accuracy: 0.6975 - val_loss: 0.6632\n",
      "Epoch 34/60\n",
      "\u001b[1m2526/2526\u001b[0m \u001b[32m━━━━━━━━━━━━━━━━━━━━\u001b[0m\u001b[37m\u001b[0m \u001b[1m3s\u001b[0m 1ms/step - accuracy: 0.8023 - loss: 0.5167 - val_accuracy: 0.7067 - val_loss: 0.6676\n",
      "Epoch 35/60\n",
      "\u001b[1m2526/2526\u001b[0m \u001b[32m━━━━━━━━━━━━━━━━━━━━\u001b[0m\u001b[37m\u001b[0m \u001b[1m3s\u001b[0m 1ms/step - accuracy: 0.8063 - loss: 0.5109 - val_accuracy: 0.7122 - val_loss: 0.6556\n",
      "Epoch 36/60\n",
      "\u001b[1m2526/2526\u001b[0m \u001b[32m━━━━━━━━━━━━━━━━━━━━\u001b[0m\u001b[37m\u001b[0m \u001b[1m3s\u001b[0m 1ms/step - accuracy: 0.8033 - loss: 0.5105 - val_accuracy: 0.6884 - val_loss: 0.6977\n",
      "Epoch 37/60\n",
      "\u001b[1m2526/2526\u001b[0m \u001b[32m━━━━━━━━━━━━━━━━━━━━\u001b[0m\u001b[37m\u001b[0m \u001b[1m3s\u001b[0m 1ms/step - accuracy: 0.8097 - loss: 0.5039 - val_accuracy: 0.7154 - val_loss: 0.7029\n",
      "Epoch 38/60\n",
      "\u001b[1m2526/2526\u001b[0m \u001b[32m━━━━━━━━━━━━━━━━━━━━\u001b[0m\u001b[37m\u001b[0m \u001b[1m3s\u001b[0m 1ms/step - accuracy: 0.7991 - loss: 0.5036 - val_accuracy: 0.6952 - val_loss: 0.7192\n",
      "Epoch 39/60\n",
      "\u001b[1m2526/2526\u001b[0m \u001b[32m━━━━━━━━━━━━━━━━━━━━\u001b[0m\u001b[37m\u001b[0m \u001b[1m3s\u001b[0m 1ms/step - accuracy: 0.8067 - loss: 0.4964 - val_accuracy: 0.6900 - val_loss: 0.7300\n",
      "Epoch 40/60\n",
      "\u001b[1m2526/2526\u001b[0m \u001b[32m━━━━━━━━━━━━━━━━━━━━\u001b[0m\u001b[37m\u001b[0m \u001b[1m3s\u001b[0m 1ms/step - accuracy: 0.8108 - loss: 0.4965 - val_accuracy: 0.7090 - val_loss: 0.7003\n",
      "Epoch 41/60\n",
      "\u001b[1m2526/2526\u001b[0m \u001b[32m━━━━━━━━━━━━━━━━━━━━\u001b[0m\u001b[37m\u001b[0m \u001b[1m3s\u001b[0m 1ms/step - accuracy: 0.7956 - loss: 0.4922 - val_accuracy: 0.6801 - val_loss: 0.7562\n",
      "Epoch 42/60\n",
      "\u001b[1m2526/2526\u001b[0m \u001b[32m━━━━━━━━━━━━━━━━━━━━\u001b[0m\u001b[37m\u001b[0m \u001b[1m3s\u001b[0m 1ms/step - accuracy: 0.7923 - loss: 0.4830 - val_accuracy: 0.6888 - val_loss: 0.7373\n",
      "Epoch 43/60\n",
      "\u001b[1m2526/2526\u001b[0m \u001b[32m━━━━━━━━━━━━━━━━━━━━\u001b[0m\u001b[37m\u001b[0m \u001b[1m3s\u001b[0m 1ms/step - accuracy: 0.7916 - loss: 0.4814 - val_accuracy: 0.6968 - val_loss: 0.7475\n",
      "Epoch 44/60\n",
      "\u001b[1m2526/2526\u001b[0m \u001b[32m━━━━━━━━━━━━━━━━━━━━\u001b[0m\u001b[37m\u001b[0m \u001b[1m3s\u001b[0m 998us/step - accuracy: 0.7897 - loss: 0.4786 - val_accuracy: 0.6544 - val_loss: 0.7376\n",
      "Epoch 45/60\n",
      "\u001b[1m2526/2526\u001b[0m \u001b[32m━━━━━━━━━━━━━━━━━━━━\u001b[0m\u001b[37m\u001b[0m \u001b[1m3s\u001b[0m 1ms/step - accuracy: 0.7776 - loss: 0.4830 - val_accuracy: 0.6813 - val_loss: 0.7418\n",
      "Epoch 46/60\n",
      "\u001b[1m2526/2526\u001b[0m \u001b[32m━━━━━━━━━━━━━━━━━━━━\u001b[0m\u001b[37m\u001b[0m \u001b[1m3s\u001b[0m 1ms/step - accuracy: 0.7999 - loss: 0.4681 - val_accuracy: 0.6690 - val_loss: 0.7577\n",
      "Epoch 47/60\n",
      "\u001b[1m2526/2526\u001b[0m \u001b[32m━━━━━━━━━━━━━━━━━━━━\u001b[0m\u001b[37m\u001b[0m \u001b[1m3s\u001b[0m 1ms/step - accuracy: 0.7931 - loss: 0.4758 - val_accuracy: 0.6560 - val_loss: 0.8137\n",
      "Epoch 48/60\n",
      "\u001b[1m2526/2526\u001b[0m \u001b[32m━━━━━━━━━━━━━━━━━━━━\u001b[0m\u001b[37m\u001b[0m \u001b[1m3s\u001b[0m 1ms/step - accuracy: 0.7959 - loss: 0.4599 - val_accuracy: 0.6979 - val_loss: 0.7496\n",
      "Epoch 49/60\n",
      "\u001b[1m2526/2526\u001b[0m \u001b[32m━━━━━━━━━━━━━━━━━━━━\u001b[0m\u001b[37m\u001b[0m \u001b[1m3s\u001b[0m 996us/step - accuracy: 0.7844 - loss: 0.4726 - val_accuracy: 0.6766 - val_loss: 0.7732\n",
      "Epoch 50/60\n",
      "\u001b[1m2526/2526\u001b[0m \u001b[32m━━━━━━━━━━━━━━━━━━━━\u001b[0m\u001b[37m\u001b[0m \u001b[1m3s\u001b[0m 1ms/step - accuracy: 0.7947 - loss: 0.4621 - val_accuracy: 0.6940 - val_loss: 0.7793\n",
      "Epoch 51/60\n",
      "\u001b[1m2526/2526\u001b[0m \u001b[32m━━━━━━━━━━━━━━━━━━━━\u001b[0m\u001b[37m\u001b[0m \u001b[1m3s\u001b[0m 1ms/step - accuracy: 0.7936 - loss: 0.4483 - val_accuracy: 0.6888 - val_loss: 0.7596\n",
      "Epoch 52/60\n",
      "\u001b[1m2526/2526\u001b[0m \u001b[32m━━━━━━━━━━━━━━━━━━━━\u001b[0m\u001b[37m\u001b[0m \u001b[1m3s\u001b[0m 993us/step - accuracy: 0.7943 - loss: 0.4483 - val_accuracy: 0.6975 - val_loss: 0.7921\n",
      "Epoch 53/60\n",
      "\u001b[1m2526/2526\u001b[0m \u001b[32m━━━━━━━━━━━━━━━━━━━━\u001b[0m\u001b[37m\u001b[0m \u001b[1m2s\u001b[0m 961us/step - accuracy: 0.7966 - loss: 0.4470 - val_accuracy: 0.6896 - val_loss: 0.7465\n",
      "Epoch 54/60\n",
      "\u001b[1m2526/2526\u001b[0m \u001b[32m━━━━━━━━━━━━━━━━━━━━\u001b[0m\u001b[37m\u001b[0m \u001b[1m3s\u001b[0m 1ms/step - accuracy: 0.8059 - loss: 0.4382 - val_accuracy: 0.6778 - val_loss: 0.8221\n",
      "Epoch 55/60\n",
      "\u001b[1m2526/2526\u001b[0m \u001b[32m━━━━━━━━━━━━━━━━━━━━\u001b[0m\u001b[37m\u001b[0m \u001b[1m3s\u001b[0m 999us/step - accuracy: 0.7977 - loss: 0.4372 - val_accuracy: 0.6774 - val_loss: 0.8099\n",
      "Epoch 56/60\n",
      "\u001b[1m2526/2526\u001b[0m \u001b[32m━━━━━━━━━━━━━━━━━━━━\u001b[0m\u001b[37m\u001b[0m \u001b[1m3s\u001b[0m 1ms/step - accuracy: 0.7938 - loss: 0.4504 - val_accuracy: 0.6857 - val_loss: 0.7845\n",
      "Epoch 57/60\n",
      "\u001b[1m2526/2526\u001b[0m \u001b[32m━━━━━━━━━━━━━━━━━━━━\u001b[0m\u001b[37m\u001b[0m \u001b[1m3s\u001b[0m 997us/step - accuracy: 0.7988 - loss: 0.4463 - val_accuracy: 0.6924 - val_loss: 0.8409\n",
      "Epoch 58/60\n",
      "\u001b[1m2526/2526\u001b[0m \u001b[32m━━━━━━━━━━━━━━━━━━━━\u001b[0m\u001b[37m\u001b[0m \u001b[1m2s\u001b[0m 976us/step - accuracy: 0.8014 - loss: 0.4263 - val_accuracy: 0.6659 - val_loss: 0.9077\n",
      "Epoch 59/60\n",
      "\u001b[1m2526/2526\u001b[0m \u001b[32m━━━━━━━━━━━━━━━━━━━━\u001b[0m\u001b[37m\u001b[0m \u001b[1m3s\u001b[0m 987us/step - accuracy: 0.8016 - loss: 0.4308 - val_accuracy: 0.6623 - val_loss: 0.8460\n",
      "Epoch 60/60\n",
      "\u001b[1m2526/2526\u001b[0m \u001b[32m━━━━━━━━━━━━━━━━━━━━\u001b[0m\u001b[37m\u001b[0m \u001b[1m3s\u001b[0m 1ms/step - accuracy: 0.8019 - loss: 0.4264 - val_accuracy: 0.6671 - val_loss: 0.7985\n"
     ]
    }
   ],
   "source": [
    "\n",
    "# Modelo de Classificação\n",
    "model = tf.keras.Sequential([\n",
    "    # A camada de entrada espera vetores com 1024 dimensões (o tamanho do embedding ELMo)\n",
    "    tf.keras.layers.InputLayer(input_shape=(1024,)),\n",
    "    \n",
    "    # Camada oculta para aprender padrões nos embeddings\n",
    "    tf.keras.layers.Dense(128, activation='relu'),\n",
    "    tf.keras.layers.Dropout(0.5), # Dropout para evitar overfitting\n",
    "    \n",
    "    # Camada de saída para classificação binária\n",
    "    tf.keras.layers.Dense(1, activation='sigmoid')\n",
    "])\n",
    "\n",
    "model.compile(optimizer='adam',\n",
    "              loss='binary_crossentropy',\n",
    "              metrics=['accuracy'])\n",
    "\n",
    "model.summary()\n",
    "\n",
    "# Treinamento do Modelo\n",
    "print(\"\\nIniciando o treinamento do classificador...\")\n",
    "history = model.fit(\n",
    "    X_train,\n",
    "    y_train,\n",
    "    epochs=60,\n",
    "    batch_size=4,\n",
    "    validation_data=(X_test, y_test),\n",
    "    class_weight=class_weights, #Atribui os pesos de classe\n",
    "    verbose=1\n",
    ")"
   ]
  },
  {
   "cell_type": "code",
   "execution_count": 54,
   "id": "90373efe",
   "metadata": {},
   "outputs": [
    {
     "name": "stdout",
     "output_type": "stream",
     "text": [
      "Acurácia (Keras): 66.71%\n",
      "Loss (Keras): 0.7985\n",
      "\n",
      "\u001b[1m79/79\u001b[0m \u001b[32m━━━━━━━━━━━━━━━━━━━━\u001b[0m\u001b[37m\u001b[0m \u001b[1m0s\u001b[0m 3ms/step \n",
      "Relatório de Classificação:\n",
      "                     precision    recall  f1-score   support\n",
      "\n",
      "   Classe 0 (2023+)       0.41      0.46      0.43       695\n",
      "Classe 1 (Pré-2023)       0.79      0.74      0.76      1831\n",
      "\n",
      "           accuracy                           0.67      2526\n",
      "          macro avg       0.60      0.60      0.60      2526\n",
      "       weighted avg       0.68      0.67      0.67      2526\n",
      "\n",
      "Matriz de Confusão:\n",
      "[[ 322  373]\n",
      " [ 468 1363]]\n"
     ]
    },
    {
     "data": {
      "image/png": "[encoded data removed]",
      "text/plain": [
       "<Figure size 800x600 with 2 Axes>"
      ]
     },
     "metadata": {},
     "output_type": "display_data"
    }
   ],
   "source": [
    "# Avaliação\n",
    "\n",
    "# Avaliação básica com Keras\n",
    "loss, accuracy = model.evaluate(X_test, y_test, verbose=0)\n",
    "print(f\"Acurácia (Keras): {accuracy * 100:.2f}%\")\n",
    "print(f\"Loss (Keras): {loss:.4f}\\n\")\n",
    "\n",
    "# 2. Predições do modelo para o conjunto de teste (Probabilidades)\n",
    "y_pred_prob = model.predict(X_test)\n",
    "\n",
    "# 3. Converção em classes (0 ou 1). Se a prob > 0.5, então 1, senão 0.\n",
    "y_pred = (y_pred_prob > 0.5).astype(\"int32\")\n",
    "\n",
    "# 4. Classificação Detalhada\n",
    "print(\"Relatório de Classificação:\")\n",
    "# 0: 2023 ou DEPOIS\n",
    "# 1: ANTES de 2023\n",
    "target_names = ['Classe 0 (2023+)', 'Classe 1 (Pré-2023)']\n",
    "print(classification_report(y_test, y_pred, target_names=target_names))\n",
    "\n",
    "# 5. Matriz de Confusão\n",
    "print(\"Matriz de Confusão:\")\n",
    "cm = confusion_matrix(y_test, y_pred)\n",
    "print(cm)\n",
    "\n",
    "# Visualização da Matriz de Confusão\n",
    "plt.figure(figsize=(8, 6))\n",
    "sns.heatmap(cm, annot=True, fmt='d', cmap='Blues', xticklabels=target_names, yticklabels=target_names)\n",
    "plt.xlabel('Predito')\n",
    "plt.ylabel('Verdadeiro')\n",
    "plt.title('Matriz de Confusão')\n",
    "plt.show()"
   ]
  },
  {
   "cell_type": "code",
   "execution_count": 12,
   "id": "b2226ed8",
   "metadata": {},
   "outputs": [],
   "source": [
    "model.save('classificador_com_ELMo.keras')"
   ]
  }
 ],
 "metadata": {
  "kernelspec": {
   "display_name": ".venv",
   "language": "python",
   "name": "python3"
  },
  "language_info": {
   "codemirror_mode": {
    "name": "ipython",
    "version": 3
   },
   "file_extension": ".py",
   "mimetype": "text/x-python",
   "name": "python",
   "nbconvert_exporter": "python",
   "pygments_lexer": "ipython3",
   "version": "3.10.12"
  }
 },
 "nbformat": 4,
 "nbformat_minor": 5
}
