{
 "cells": [
  {
   "cell_type": "code",
   "execution_count": null,
   "id": "04bd8132",
   "metadata": {},
   "outputs": [],
   "source": [
    "# Instalação das dependências necessárias\n",
    "!pip install \"tensorflow[and-cuda]\" tensorflow-hub\n",
    "!pip install -q tensorflow tensorflow_hub\n",
    "!pip install -q scikit-learn pandas numpy tqdm\n",
    "\n",
    "# Para usar o BGE-M3\n",
    "!pip install sentence-transformers"
   ]
  },
  {
   "cell_type": "code",
   "execution_count": null,
   "id": "caea2c60",
   "metadata": {},
   "outputs": [],
   "source": [
    "# Verificação da instalação do TensorFlow com suporte a GPU\n",
    "import tensorflow as tf, pprint\n",
    "print(\"TF:\", tf.__version__)\n",
    "print(\"GPUs:\", tf.config.list_physical_devices(\"GPU\"))\n",
    "pprint.pprint(tf.sysconfig.get_build_info())  # mostra cuda_version e cudnn_version"
   ]
  },
  {
   "cell_type": "code",
   "execution_count": 1,
   "id": "c204a117",
   "metadata": {},
   "outputs": [
    {
     "name": "stderr",
     "output_type": "stream",
     "text": [
      "2025-09-07 20:43:43.227622: I tensorflow/core/platform/cpu_feature_guard.cc:210] This TensorFlow binary is optimized to use available CPU instructions in performance-critical operations.\n",
      "To enable the following instructions: AVX2 FMA, in other operations, rebuild TensorFlow with the appropriate compiler flags.\n",
      "/home/ricardo/Mestrado/TAIA/NLP-Embedding/.venv/lib/python3.10/site-packages/tensorflow_hub/__init__.py:61: UserWarning: pkg_resources is deprecated as an API. See https://setuptools.pypa.io/en/latest/pkg_resources.html. The pkg_resources package is slated for removal as early as 2025-11-30. Refrain from using this package or pin to Setuptools<81.\n",
      "  from pkg_resources import parse_version\n",
      "/home/ricardo/Mestrado/TAIA/NLP-Embedding/.venv/lib/python3.10/site-packages/tqdm/auto.py:21: TqdmWarning: IProgress not found. Please update jupyter and ipywidgets. See https://ipywidgets.readthedocs.io/en/stable/user_install.html\n",
      "  from .autonotebook import tqdm as notebook_tqdm\n"
     ]
    }
   ],
   "source": [
    "# Importando as bibliotecas necessárias\n",
    "import pandas as pd\n",
    "import numpy as np\n",
    "import tensorflow as tf\n",
    "import tensorflow_hub as hub\n",
    "from sklearn.model_selection import train_test_split\n",
    "from tqdm import tqdm\n",
    "\n",
    "#Para usar o BGE-M3\n",
    "from sentence_transformers import SentenceTransformer \n",
    "\n",
    "from sklearn.metrics import classification_report, confusion_matrix\n",
    "import seaborn as sns\n",
    "import matplotlib.pyplot as plt\n",
    "\n",
    "from sklearn.utils import class_weight"
   ]
  },
  {
   "cell_type": "code",
   "execution_count": 2,
   "id": "4b9e10bd",
   "metadata": {},
   "outputs": [],
   "source": [
    "# Carregando os dados\n",
    "df = pd.read_csv('eventos_artigos_filtrados.csv');"
   ]
  },
  {
   "cell_type": "code",
   "execution_count": null,
   "id": "17a6e62c",
   "metadata": {},
   "outputs": [],
   "source": [
    "# Explorar os dados\n",
    "print(\"Informações do dataset:\")\n",
    "print(df.info())\n",
    "\n",
    "print(\"\\nValores ausentes por coluna:\")\n",
    "print(df.isnull().sum())\n",
    "\n",
    "print(\"\\nNúmero de linhas duplicadas:\")\n",
    "print(df.duplicated().sum())\n",
    "\n",
    "print(\"\\nTotal dos dados:\")\n",
    "print(df.shape[0])\n",
    "\n",
    "print(\"\\nBalanceamento de Classes:\")\n",
    "print(df['antes_2023'].value_counts())"
   ]
  },
  {
   "cell_type": "code",
   "execution_count": 3,
   "id": "6a7f2bf1",
   "metadata": {},
   "outputs": [],
   "source": [
    "# Preparação dos dados\n",
    "df = df.drop(columns=['evento_nome', 'resumo'])\n",
    "df = df.dropna(subset=['titulo_artigo', 'ano_edicao'])\n",
    "df = df.drop_duplicates(subset=['titulo_artigo', 'ano_edicao'], keep='first')\n",
    "\n",
    "df['antes_2023'] = df['ano_edicao'].apply(lambda x: 1 if x < 2023 else 0)\n",
    "\n",
    "df[\"titulo_artigo\"] = df[\"titulo_artigo\"].astype(str).str.strip()\n",
    "df[\"antes_2023\"] = df[\"antes_2023\"].astype(int).values\n",
    "\n",
    "#df.head()"
   ]
  },
  {
   "cell_type": "markdown",
   "id": "b688e244",
   "metadata": {},
   "source": [
    "# Teste com BGE-M3"
   ]
  },
  {
   "cell_type": "code",
   "execution_count": null,
   "id": "913837a1",
   "metadata": {},
   "outputs": [
    {
     "name": "stdout",
     "output_type": "stream",
     "text": [
      "BGE-M3 carregado com sucesso.\n"
     ]
    },
    {
     "name": "stderr",
     "output_type": "stream",
     "text": [
      "Batches: 100%|██████████| 394/394 [00:39<00:00,  9.91it/s]\n"
     ]
    },
    {
     "name": "stdout",
     "output_type": "stream",
     "text": [
      "\n",
      "Embeddings gerados com sucesso! Shape final: (12607, 1024)\n"
     ]
    }
   ],
   "source": [
    "titulos = df['titulo_artigo'].tolist()\n",
    "labels = df['antes_2023'].values\n",
    "\n",
    "# Carregamento do Modelo BGE-M3\n",
    "model = SentenceTransformer(\"BAAI/bge-m3\")\n",
    "print(\"BGE-M3 carregado com sucesso.\")\n",
    "\n",
    "# Execução da Geração de Embeddings\n",
    "embeddings_gerados = model.encode(\n",
    "    titulos,\n",
    "    batch_size=64,\n",
    "    show_progress_bar=True\n",
    ")\n",
    "\n",
    "print(f\"\\nEmbeddings gerados com sucesso! Shape final: {embeddings_gerados.shape}\")\n",
    "\n",
    "# Salvamento dos Resultados\n",
    "np.save('embeddings_titulos.npy', embeddings_gerados)\n",
    "np.save('labels.npy', labels)"
   ]
  },
  {
   "cell_type": "markdown",
   "id": "426a8448",
   "metadata": {},
   "source": [
    "# CLASSIFICADOR "
   ]
  },
  {
   "cell_type": "code",
   "execution_count": 8,
   "id": "b954ae39",
   "metadata": {},
   "outputs": [
    {
     "name": "stdout",
     "output_type": "stream",
     "text": [
      "Dados carregados. Shape de X: (12607, 1024), Shape de y: (12607,) \n",
      "\n",
      "Dados divididos: 10085 para treino, 2522 para teste.\n",
      "\n",
      "Pesos de Classe Calculados: {0: 1.6, 1: 1.0} \n",
      "\n"
     ]
    }
   ],
   "source": [
    "# Carregamento dos Dados Pré-processados\n",
    "X = np.load('embeddings_titulos.npy')\n",
    "y = np.load('labels.npy')\n",
    "\n",
    "# Divisão dos Dados em Treino e Teste\n",
    "print(f\"Dados carregados. Shape de X: {X.shape}, Shape de y: {y.shape} \\n\")\n",
    "\n",
    "X_train, X_test, y_train, y_test = train_test_split(\n",
    "    X, y, test_size=0.2, random_state=42, stratify=y\n",
    ")\n",
    "print(f\"Dados divididos: {len(X_train)} para treino, {len(X_test)} para teste.\\n\")\n",
    "\n",
    "# Verificou-se na exploração dos dados que o dataset está desbalanceado. Será aplidada a técnica de Ponderação de Classes (Class Weighting) \n",
    "\n",
    "# Calcula os pesos para balancear as classes com base na frequência de cada classe em y_train\n",
    "#weights = class_weight.compute_class_weight(\n",
    "#    class_weight='balanced',\n",
    "#    classes=np.unique(y_train),\n",
    "#    y=y_train\n",
    "#)\n",
    "# Converte o array de pesos em um dicionário que o Keras entende\n",
    "#class_weights = dict(enumerate(weights))\n",
    "\n",
    "# Setando o class_weight manualmente\n",
    "class_weights = {0: 1.6, 1: 1.0} \n",
    "\n",
    "print(f\"Pesos de Classe Calculados: {class_weights} \\n\")"
   ]
  },
  {
   "cell_type": "code",
   "execution_count": null,
   "id": "d4790f95",
   "metadata": {},
   "outputs": [
    {
     "name": "stderr",
     "output_type": "stream",
     "text": [
      "/home/ricardo/Mestrado/TAIA/NLP-Embedding/.venv/lib/python3.10/site-packages/keras/src/layers/core/input_layer.py:27: UserWarning: Argument `input_shape` is deprecated. Use `shape` instead.\n",
      "  warnings.warn(\n"
     ]
    },
    {
     "data": {
      "text/html": [
       "<pre style=\"white-space:pre;overflow-x:auto;line-height:normal;font-family:Menlo,'DejaVu Sans Mono',consolas,'Courier New',monospace\"><span style=\"font-weight: bold\">Model: \"sequential_1\"</span>\n",
       "</pre>\n"
      ],
      "text/plain": [
       "\u001b[1mModel: \"sequential_1\"\u001b[0m\n"
      ]
     },
     "metadata": {},
     "output_type": "display_data"
    },
    {
     "data": {
      "text/html": [
       "<pre style=\"white-space:pre;overflow-x:auto;line-height:normal;font-family:Menlo,'DejaVu Sans Mono',consolas,'Courier New',monospace\">┏━━━━━━━━━━━━━━━━━━━━━━━━━━━━━━━━━┳━━━━━━━━━━━━━━━━━━━━━━━━┳━━━━━━━━━━━━━━━┓\n",
       "┃<span style=\"font-weight: bold\"> Layer (type)                    </span>┃<span style=\"font-weight: bold\"> Output Shape           </span>┃<span style=\"font-weight: bold\">       Param # </span>┃\n",
       "┡━━━━━━━━━━━━━━━━━━━━━━━━━━━━━━━━━╇━━━━━━━━━━━━━━━━━━━━━━━━╇━━━━━━━━━━━━━━━┩\n",
       "│ dense_2 (<span style=\"color: #0087ff; text-decoration-color: #0087ff\">Dense</span>)                 │ (<span style=\"color: #00d7ff; text-decoration-color: #00d7ff\">None</span>, <span style=\"color: #00af00; text-decoration-color: #00af00\">128</span>)            │       <span style=\"color: #00af00; text-decoration-color: #00af00\">131,200</span> │\n",
       "├─────────────────────────────────┼────────────────────────┼───────────────┤\n",
       "│ dropout_1 (<span style=\"color: #0087ff; text-decoration-color: #0087ff\">Dropout</span>)             │ (<span style=\"color: #00d7ff; text-decoration-color: #00d7ff\">None</span>, <span style=\"color: #00af00; text-decoration-color: #00af00\">128</span>)            │             <span style=\"color: #00af00; text-decoration-color: #00af00\">0</span> │\n",
       "├─────────────────────────────────┼────────────────────────┼───────────────┤\n",
       "│ dense_3 (<span style=\"color: #0087ff; text-decoration-color: #0087ff\">Dense</span>)                 │ (<span style=\"color: #00d7ff; text-decoration-color: #00d7ff\">None</span>, <span style=\"color: #00af00; text-decoration-color: #00af00\">1</span>)              │           <span style=\"color: #00af00; text-decoration-color: #00af00\">129</span> │\n",
       "└─────────────────────────────────┴────────────────────────┴───────────────┘\n",
       "</pre>\n"
      ],
      "text/plain": [
       "┏━━━━━━━━━━━━━━━━━━━━━━━━━━━━━━━━━┳━━━━━━━━━━━━━━━━━━━━━━━━┳━━━━━━━━━━━━━━━┓\n",
       "┃\u001b[1m \u001b[0m\u001b[1mLayer (type)                   \u001b[0m\u001b[1m \u001b[0m┃\u001b[1m \u001b[0m\u001b[1mOutput Shape          \u001b[0m\u001b[1m \u001b[0m┃\u001b[1m \u001b[0m\u001b[1m      Param #\u001b[0m\u001b[1m \u001b[0m┃\n",
       "┡━━━━━━━━━━━━━━━━━━━━━━━━━━━━━━━━━╇━━━━━━━━━━━━━━━━━━━━━━━━╇━━━━━━━━━━━━━━━┩\n",
       "│ dense_2 (\u001b[38;5;33mDense\u001b[0m)                 │ (\u001b[38;5;45mNone\u001b[0m, \u001b[38;5;34m128\u001b[0m)            │       \u001b[38;5;34m131,200\u001b[0m │\n",
       "├─────────────────────────────────┼────────────────────────┼───────────────┤\n",
       "│ dropout_1 (\u001b[38;5;33mDropout\u001b[0m)             │ (\u001b[38;5;45mNone\u001b[0m, \u001b[38;5;34m128\u001b[0m)            │             \u001b[38;5;34m0\u001b[0m │\n",
       "├─────────────────────────────────┼────────────────────────┼───────────────┤\n",
       "│ dense_3 (\u001b[38;5;33mDense\u001b[0m)                 │ (\u001b[38;5;45mNone\u001b[0m, \u001b[38;5;34m1\u001b[0m)              │           \u001b[38;5;34m129\u001b[0m │\n",
       "└─────────────────────────────────┴────────────────────────┴───────────────┘\n"
      ]
     },
     "metadata": {},
     "output_type": "display_data"
    },
    {
     "data": {
      "text/html": [
       "<pre style=\"white-space:pre;overflow-x:auto;line-height:normal;font-family:Menlo,'DejaVu Sans Mono',consolas,'Courier New',monospace\"><span style=\"font-weight: bold\"> Total params: </span><span style=\"color: #00af00; text-decoration-color: #00af00\">131,329</span> (513.00 KB)\n",
       "</pre>\n"
      ],
      "text/plain": [
       "\u001b[1m Total params: \u001b[0m\u001b[38;5;34m131,329\u001b[0m (513.00 KB)\n"
      ]
     },
     "metadata": {},
     "output_type": "display_data"
    },
    {
     "data": {
      "text/html": [
       "<pre style=\"white-space:pre;overflow-x:auto;line-height:normal;font-family:Menlo,'DejaVu Sans Mono',consolas,'Courier New',monospace\"><span style=\"font-weight: bold\"> Trainable params: </span><span style=\"color: #00af00; text-decoration-color: #00af00\">131,329</span> (513.00 KB)\n",
       "</pre>\n"
      ],
      "text/plain": [
       "\u001b[1m Trainable params: \u001b[0m\u001b[38;5;34m131,329\u001b[0m (513.00 KB)\n"
      ]
     },
     "metadata": {},
     "output_type": "display_data"
    },
    {
     "data": {
      "text/html": [
       "<pre style=\"white-space:pre;overflow-x:auto;line-height:normal;font-family:Menlo,'DejaVu Sans Mono',consolas,'Courier New',monospace\"><span style=\"font-weight: bold\"> Non-trainable params: </span><span style=\"color: #00af00; text-decoration-color: #00af00\">0</span> (0.00 B)\n",
       "</pre>\n"
      ],
      "text/plain": [
       "\u001b[1m Non-trainable params: \u001b[0m\u001b[38;5;34m0\u001b[0m (0.00 B)\n"
      ]
     },
     "metadata": {},
     "output_type": "display_data"
    },
    {
     "name": "stdout",
     "output_type": "stream",
     "text": [
      "\n",
      "Iniciando o treinamento do classificador...\n",
      "Epoch 1/60\n",
      "\u001b[1m2522/2522\u001b[0m \u001b[32m━━━━━━━━━━━━━━━━━━━━\u001b[0m\u001b[37m\u001b[0m \u001b[1m4s\u001b[0m 1ms/step - accuracy: 0.7163 - loss: 0.7134 - val_accuracy: 0.7292 - val_loss: 0.5225\n",
      "Epoch 2/60\n",
      "\u001b[1m2522/2522\u001b[0m \u001b[32m━━━━━━━━━━━━━━━━━━━━\u001b[0m\u001b[37m\u001b[0m \u001b[1m3s\u001b[0m 1ms/step - accuracy: 0.7256 - loss: 0.6789 - val_accuracy: 0.7228 - val_loss: 0.5242\n",
      "Epoch 3/60\n",
      "\u001b[1m2522/2522\u001b[0m \u001b[32m━━━━━━━━━━━━━━━━━━━━\u001b[0m\u001b[37m\u001b[0m \u001b[1m3s\u001b[0m 1ms/step - accuracy: 0.7370 - loss: 0.6629 - val_accuracy: 0.7328 - val_loss: 0.5105\n",
      "Epoch 4/60\n",
      "\u001b[1m2522/2522\u001b[0m \u001b[32m━━━━━━━━━━━━━━━━━━━━\u001b[0m\u001b[37m\u001b[0m \u001b[1m3s\u001b[0m 987us/step - accuracy: 0.7419 - loss: 0.6455 - val_accuracy: 0.6927 - val_loss: 0.5610\n",
      "Epoch 5/60\n",
      "\u001b[1m2522/2522\u001b[0m \u001b[32m━━━━━━━━━━━━━━━━━━━━\u001b[0m\u001b[37m\u001b[0m \u001b[1m3s\u001b[0m 1ms/step - accuracy: 0.7486 - loss: 0.6342 - val_accuracy: 0.7054 - val_loss: 0.5405\n",
      "Epoch 6/60\n",
      "\u001b[1m2522/2522\u001b[0m \u001b[32m━━━━━━━━━━━━━━━━━━━━\u001b[0m\u001b[37m\u001b[0m \u001b[1m3s\u001b[0m 1ms/step - accuracy: 0.7605 - loss: 0.6190 - val_accuracy: 0.7343 - val_loss: 0.5153\n",
      "Epoch 7/60\n",
      "\u001b[1m2522/2522\u001b[0m \u001b[32m━━━━━━━━━━━━━━━━━━━━\u001b[0m\u001b[37m\u001b[0m \u001b[1m3s\u001b[0m 995us/step - accuracy: 0.7706 - loss: 0.6019 - val_accuracy: 0.7339 - val_loss: 0.5160\n",
      "Epoch 8/60\n",
      "\u001b[1m2522/2522\u001b[0m \u001b[32m━━━━━━━━━━━━━━━━━━━━\u001b[0m\u001b[37m\u001b[0m \u001b[1m3s\u001b[0m 998us/step - accuracy: 0.7768 - loss: 0.5831 - val_accuracy: 0.7383 - val_loss: 0.5083\n",
      "Epoch 9/60\n",
      "\u001b[1m2522/2522\u001b[0m \u001b[32m━━━━━━━━━━━━━━━━━━━━\u001b[0m\u001b[37m\u001b[0m \u001b[1m3s\u001b[0m 993us/step - accuracy: 0.7879 - loss: 0.5674 - val_accuracy: 0.7284 - val_loss: 0.5321\n",
      "Epoch 10/60\n",
      "\u001b[1m2522/2522\u001b[0m \u001b[32m━━━━━━━━━━━━━━━━━━━━\u001b[0m\u001b[37m\u001b[0m \u001b[1m3s\u001b[0m 1ms/step - accuracy: 0.7946 - loss: 0.5453 - val_accuracy: 0.7090 - val_loss: 0.5476\n",
      "Epoch 11/60\n",
      "\u001b[1m2522/2522\u001b[0m \u001b[32m━━━━━━━━━━━━━━━━━━━━\u001b[0m\u001b[37m\u001b[0m \u001b[1m2s\u001b[0m 981us/step - accuracy: 0.8031 - loss: 0.5353 - val_accuracy: 0.7268 - val_loss: 0.5265\n",
      "Epoch 12/60\n",
      "\u001b[1m2522/2522\u001b[0m \u001b[32m━━━━━━━━━━━━━━━━━━━━\u001b[0m\u001b[37m\u001b[0m \u001b[1m3s\u001b[0m 995us/step - accuracy: 0.8148 - loss: 0.5053 - val_accuracy: 0.7363 - val_loss: 0.5263\n",
      "Epoch 13/60\n",
      "\u001b[1m2522/2522\u001b[0m \u001b[32m━━━━━━━━━━━━━━━━━━━━\u001b[0m\u001b[37m\u001b[0m \u001b[1m3s\u001b[0m 1ms/step - accuracy: 0.8246 - loss: 0.4876 - val_accuracy: 0.7105 - val_loss: 0.5514\n",
      "Epoch 14/60\n",
      "\u001b[1m2522/2522\u001b[0m \u001b[32m━━━━━━━━━━━━━━━━━━━━\u001b[0m\u001b[37m\u001b[0m \u001b[1m3s\u001b[0m 999us/step - accuracy: 0.8345 - loss: 0.4632 - val_accuracy: 0.7149 - val_loss: 0.5554\n",
      "Epoch 15/60\n",
      "\u001b[1m2522/2522\u001b[0m \u001b[32m━━━━━━━━━━━━━━━━━━━━\u001b[0m\u001b[37m\u001b[0m \u001b[1m3s\u001b[0m 1ms/step - accuracy: 0.8467 - loss: 0.4439 - val_accuracy: 0.7177 - val_loss: 0.5551\n",
      "Epoch 16/60\n",
      "\u001b[1m2522/2522\u001b[0m \u001b[32m━━━━━━━━━━━━━━━━━━━━\u001b[0m\u001b[37m\u001b[0m \u001b[1m3s\u001b[0m 1ms/step - accuracy: 0.8506 - loss: 0.4200 - val_accuracy: 0.7355 - val_loss: 0.5554\n",
      "Epoch 17/60\n",
      "\u001b[1m2522/2522\u001b[0m \u001b[32m━━━━━━━━━━━━━━━━━━━━\u001b[0m\u001b[37m\u001b[0m \u001b[1m3s\u001b[0m 1ms/step - accuracy: 0.8576 - loss: 0.4112 - val_accuracy: 0.7324 - val_loss: 0.5418\n",
      "Epoch 18/60\n",
      "\u001b[1m2522/2522\u001b[0m \u001b[32m━━━━━━━━━━━━━━━━━━━━\u001b[0m\u001b[37m\u001b[0m \u001b[1m3s\u001b[0m 1ms/step - accuracy: 0.8660 - loss: 0.3885 - val_accuracy: 0.7399 - val_loss: 0.5517\n",
      "Epoch 19/60\n",
      "\u001b[1m2522/2522\u001b[0m \u001b[32m━━━━━━━━━━━━━━━━━━━━\u001b[0m\u001b[37m\u001b[0m \u001b[1m3s\u001b[0m 1ms/step - accuracy: 0.8723 - loss: 0.3737 - val_accuracy: 0.7038 - val_loss: 0.5884\n",
      "Epoch 20/60\n",
      "\u001b[1m2522/2522\u001b[0m \u001b[32m━━━━━━━━━━━━━━━━━━━━\u001b[0m\u001b[37m\u001b[0m \u001b[1m3s\u001b[0m 1ms/step - accuracy: 0.8815 - loss: 0.3521 - val_accuracy: 0.7280 - val_loss: 0.5725\n",
      "Epoch 21/60\n",
      "\u001b[1m2522/2522\u001b[0m \u001b[32m━━━━━━━━━━━━━━━━━━━━\u001b[0m\u001b[37m\u001b[0m \u001b[1m2s\u001b[0m 965us/step - accuracy: 0.8848 - loss: 0.3427 - val_accuracy: 0.7308 - val_loss: 0.5820\n",
      "Epoch 22/60\n",
      "\u001b[1m2522/2522\u001b[0m \u001b[32m━━━━━━━━━━━━━━━━━━━━\u001b[0m\u001b[37m\u001b[0m \u001b[1m2s\u001b[0m 953us/step - accuracy: 0.8938 - loss: 0.3257 - val_accuracy: 0.7220 - val_loss: 0.6076\n",
      "Epoch 23/60\n",
      "\u001b[1m2522/2522\u001b[0m \u001b[32m━━━━━━━━━━━━━━━━━━━━\u001b[0m\u001b[37m\u001b[0m \u001b[1m2s\u001b[0m 965us/step - accuracy: 0.8943 - loss: 0.3125 - val_accuracy: 0.7328 - val_loss: 0.6116\n",
      "Epoch 24/60\n",
      "\u001b[1m2522/2522\u001b[0m \u001b[32m━━━━━━━━━━━━━━━━━━━━\u001b[0m\u001b[37m\u001b[0m \u001b[1m2s\u001b[0m 975us/step - accuracy: 0.8986 - loss: 0.3001 - val_accuracy: 0.7331 - val_loss: 0.6267\n",
      "Epoch 25/60\n",
      "\u001b[1m2522/2522\u001b[0m \u001b[32m━━━━━━━━━━━━━━━━━━━━\u001b[0m\u001b[37m\u001b[0m \u001b[1m3s\u001b[0m 996us/step - accuracy: 0.9010 - loss: 0.2914 - val_accuracy: 0.7355 - val_loss: 0.6323\n",
      "Epoch 26/60\n",
      "\u001b[1m2522/2522\u001b[0m \u001b[32m━━━━━━━━━━━━━━━━━━━━\u001b[0m\u001b[37m\u001b[0m \u001b[1m2s\u001b[0m 979us/step - accuracy: 0.9069 - loss: 0.2796 - val_accuracy: 0.7316 - val_loss: 0.6512\n",
      "Epoch 27/60\n",
      "\u001b[1m2522/2522\u001b[0m \u001b[32m━━━━━━━━━━━━━━━━━━━━\u001b[0m\u001b[37m\u001b[0m \u001b[1m3s\u001b[0m 999us/step - accuracy: 0.9128 - loss: 0.2714 - val_accuracy: 0.7296 - val_loss: 0.6664\n",
      "Epoch 28/60\n",
      "\u001b[1m2522/2522\u001b[0m \u001b[32m━━━━━━━━━━━━━━━━━━━━\u001b[0m\u001b[37m\u001b[0m \u001b[1m2s\u001b[0m 961us/step - accuracy: 0.9124 - loss: 0.2539 - val_accuracy: 0.7244 - val_loss: 0.6775\n",
      "Epoch 29/60\n",
      "\u001b[1m2522/2522\u001b[0m \u001b[32m━━━━━━━━━━━━━━━━━━━━\u001b[0m\u001b[37m\u001b[0m \u001b[1m3s\u001b[0m 1ms/step - accuracy: 0.9149 - loss: 0.2551 - val_accuracy: 0.7331 - val_loss: 0.6722\n",
      "Epoch 30/60\n",
      "\u001b[1m2522/2522\u001b[0m \u001b[32m━━━━━━━━━━━━━━━━━━━━\u001b[0m\u001b[37m\u001b[0m \u001b[1m2s\u001b[0m 975us/step - accuracy: 0.9245 - loss: 0.2348 - val_accuracy: 0.7272 - val_loss: 0.6880\n",
      "Epoch 31/60\n",
      "\u001b[1m2522/2522\u001b[0m \u001b[32m━━━━━━━━━━━━━━━━━━━━\u001b[0m\u001b[37m\u001b[0m \u001b[1m2s\u001b[0m 983us/step - accuracy: 0.9209 - loss: 0.2400 - val_accuracy: 0.7260 - val_loss: 0.6750\n",
      "Epoch 32/60\n",
      "\u001b[1m2522/2522\u001b[0m \u001b[32m━━━━━━━━━━━━━━━━━━━━\u001b[0m\u001b[37m\u001b[0m \u001b[1m2s\u001b[0m 979us/step - accuracy: 0.9231 - loss: 0.2263 - val_accuracy: 0.7205 - val_loss: 0.6990\n",
      "Epoch 33/60\n",
      "\u001b[1m2522/2522\u001b[0m \u001b[32m━━━━━━━━━━━━━━━━━━━━\u001b[0m\u001b[37m\u001b[0m \u001b[1m2s\u001b[0m 946us/step - accuracy: 0.9282 - loss: 0.2156 - val_accuracy: 0.7312 - val_loss: 0.7339\n",
      "Epoch 34/60\n",
      "\u001b[1m2522/2522\u001b[0m \u001b[32m━━━━━━━━━━━━━━━━━━━━\u001b[0m\u001b[37m\u001b[0m \u001b[1m2s\u001b[0m 953us/step - accuracy: 0.9286 - loss: 0.2127 - val_accuracy: 0.7276 - val_loss: 0.7603\n",
      "Epoch 35/60\n",
      "\u001b[1m2522/2522\u001b[0m \u001b[32m━━━━━━━━━━━━━━━━━━━━\u001b[0m\u001b[37m\u001b[0m \u001b[1m2s\u001b[0m 965us/step - accuracy: 0.9340 - loss: 0.2032 - val_accuracy: 0.7213 - val_loss: 0.7497\n",
      "Epoch 36/60\n",
      "\u001b[1m2522/2522\u001b[0m \u001b[32m━━━━━━━━━━━━━━━━━━━━\u001b[0m\u001b[37m\u001b[0m \u001b[1m2s\u001b[0m 981us/step - accuracy: 0.9386 - loss: 0.1959 - val_accuracy: 0.7308 - val_loss: 0.7678\n",
      "Epoch 37/60\n",
      "\u001b[1m2522/2522\u001b[0m \u001b[32m━━━━━━━━━━━━━━━━━━━━\u001b[0m\u001b[37m\u001b[0m \u001b[1m2s\u001b[0m 970us/step - accuracy: 0.9339 - loss: 0.2007 - val_accuracy: 0.7312 - val_loss: 0.7764\n",
      "Epoch 38/60\n",
      "\u001b[1m2522/2522\u001b[0m \u001b[32m━━━━━━━━━━━━━━━━━━━━\u001b[0m\u001b[37m\u001b[0m \u001b[1m2s\u001b[0m 976us/step - accuracy: 0.9410 - loss: 0.1786 - val_accuracy: 0.7347 - val_loss: 0.7855\n",
      "Epoch 39/60\n",
      "\u001b[1m2522/2522\u001b[0m \u001b[32m━━━━━━━━━━━━━━━━━━━━\u001b[0m\u001b[37m\u001b[0m \u001b[1m2s\u001b[0m 946us/step - accuracy: 0.9405 - loss: 0.1885 - val_accuracy: 0.7316 - val_loss: 0.7749\n",
      "Epoch 40/60\n",
      "\u001b[1m2522/2522\u001b[0m \u001b[32m━━━━━━━━━━━━━━━━━━━━\u001b[0m\u001b[37m\u001b[0m \u001b[1m2s\u001b[0m 969us/step - accuracy: 0.9401 - loss: 0.1814 - val_accuracy: 0.7423 - val_loss: 0.7986\n",
      "Epoch 41/60\n",
      "\u001b[1m2522/2522\u001b[0m \u001b[32m━━━━━━━━━━━━━━━━━━━━\u001b[0m\u001b[37m\u001b[0m \u001b[1m2s\u001b[0m 938us/step - accuracy: 0.9410 - loss: 0.1746 - val_accuracy: 0.7070 - val_loss: 0.8262\n",
      "Epoch 42/60\n",
      "\u001b[1m2522/2522\u001b[0m \u001b[32m━━━━━━━━━━━━━━━━━━━━\u001b[0m\u001b[37m\u001b[0m \u001b[1m2s\u001b[0m 946us/step - accuracy: 0.9401 - loss: 0.1786 - val_accuracy: 0.7272 - val_loss: 0.7934\n",
      "Epoch 43/60\n",
      "\u001b[1m2522/2522\u001b[0m \u001b[32m━━━━━━━━━━━━━━━━━━━━\u001b[0m\u001b[37m\u001b[0m \u001b[1m2s\u001b[0m 977us/step - accuracy: 0.9459 - loss: 0.1665 - val_accuracy: 0.7240 - val_loss: 0.8637\n",
      "Epoch 44/60\n",
      "\u001b[1m2522/2522\u001b[0m \u001b[32m━━━━━━━━━━━━━━━━━━━━\u001b[0m\u001b[37m\u001b[0m \u001b[1m2s\u001b[0m 935us/step - accuracy: 0.9436 - loss: 0.1674 - val_accuracy: 0.7268 - val_loss: 0.8538\n",
      "Epoch 45/60\n",
      "\u001b[1m2522/2522\u001b[0m \u001b[32m━━━━━━━━━━━━━━━━━━━━\u001b[0m\u001b[37m\u001b[0m \u001b[1m2s\u001b[0m 967us/step - accuracy: 0.9473 - loss: 0.1638 - val_accuracy: 0.7244 - val_loss: 0.8361\n",
      "Epoch 46/60\n",
      "\u001b[1m2522/2522\u001b[0m \u001b[32m━━━━━━━━━━━━━━━━━━━━\u001b[0m\u001b[37m\u001b[0m \u001b[1m2s\u001b[0m 970us/step - accuracy: 0.9503 - loss: 0.1542 - val_accuracy: 0.7264 - val_loss: 0.8953\n",
      "Epoch 47/60\n",
      "\u001b[1m2522/2522\u001b[0m \u001b[32m━━━━━━━━━━━━━━━━━━━━\u001b[0m\u001b[37m\u001b[0m \u001b[1m3s\u001b[0m 1ms/step - accuracy: 0.9486 - loss: 0.1561 - val_accuracy: 0.7252 - val_loss: 0.8960\n",
      "Epoch 48/60\n",
      "\u001b[1m2522/2522\u001b[0m \u001b[32m━━━━━━━━━━━━━━━━━━━━\u001b[0m\u001b[37m\u001b[0m \u001b[1m3s\u001b[0m 987us/step - accuracy: 0.9466 - loss: 0.1568 - val_accuracy: 0.7236 - val_loss: 0.8835\n",
      "Epoch 49/60\n",
      "\u001b[1m2522/2522\u001b[0m \u001b[32m━━━━━━━━━━━━━━━━━━━━\u001b[0m\u001b[37m\u001b[0m \u001b[1m2s\u001b[0m 969us/step - accuracy: 0.9508 - loss: 0.1512 - val_accuracy: 0.7288 - val_loss: 0.9266\n",
      "Epoch 50/60\n",
      "\u001b[1m2522/2522\u001b[0m \u001b[32m━━━━━━━━━━━━━━━━━━━━\u001b[0m\u001b[37m\u001b[0m \u001b[1m2s\u001b[0m 933us/step - accuracy: 0.9497 - loss: 0.1474 - val_accuracy: 0.7185 - val_loss: 0.8745\n",
      "Epoch 51/60\n",
      "\u001b[1m2522/2522\u001b[0m \u001b[32m━━━━━━━━━━━━━━━━━━━━\u001b[0m\u001b[37m\u001b[0m \u001b[1m2s\u001b[0m 977us/step - accuracy: 0.9534 - loss: 0.1454 - val_accuracy: 0.7304 - val_loss: 0.9302\n",
      "Epoch 52/60\n",
      "\u001b[1m2522/2522\u001b[0m \u001b[32m━━━━━━━━━━━━━━━━━━━━\u001b[0m\u001b[37m\u001b[0m \u001b[1m3s\u001b[0m 1ms/step - accuracy: 0.9484 - loss: 0.1518 - val_accuracy: 0.7343 - val_loss: 0.9419\n",
      "Epoch 53/60\n",
      "\u001b[1m2522/2522\u001b[0m \u001b[32m━━━━━━━━━━━━━━━━━━━━\u001b[0m\u001b[37m\u001b[0m \u001b[1m3s\u001b[0m 1ms/step - accuracy: 0.9530 - loss: 0.1408 - val_accuracy: 0.7371 - val_loss: 0.9529\n",
      "Epoch 54/60\n",
      "\u001b[1m2522/2522\u001b[0m \u001b[32m━━━━━━━━━━━━━━━━━━━━\u001b[0m\u001b[37m\u001b[0m \u001b[1m3s\u001b[0m 998us/step - accuracy: 0.9524 - loss: 0.1360 - val_accuracy: 0.7324 - val_loss: 0.9799\n",
      "Epoch 55/60\n",
      "\u001b[1m2522/2522\u001b[0m \u001b[32m━━━━━━━━━━━━━━━━━━━━\u001b[0m\u001b[37m\u001b[0m \u001b[1m2s\u001b[0m 951us/step - accuracy: 0.9539 - loss: 0.1330 - val_accuracy: 0.7149 - val_loss: 0.9558\n",
      "Epoch 56/60\n",
      "\u001b[1m2522/2522\u001b[0m \u001b[32m━━━━━━━━━━━━━━━━━━━━\u001b[0m\u001b[37m\u001b[0m \u001b[1m2s\u001b[0m 964us/step - accuracy: 0.9535 - loss: 0.1343 - val_accuracy: 0.7276 - val_loss: 0.9891\n",
      "Epoch 57/60\n",
      "\u001b[1m2522/2522\u001b[0m \u001b[32m━━━━━━━━━━━━━━━━━━━━\u001b[0m\u001b[37m\u001b[0m \u001b[1m3s\u001b[0m 1ms/step - accuracy: 0.9559 - loss: 0.1354 - val_accuracy: 0.7240 - val_loss: 0.9775\n",
      "Epoch 58/60\n",
      "\u001b[1m2522/2522\u001b[0m \u001b[32m━━━━━━━━━━━━━━━━━━━━\u001b[0m\u001b[37m\u001b[0m \u001b[1m3s\u001b[0m 1ms/step - accuracy: 0.9582 - loss: 0.1297 - val_accuracy: 0.7308 - val_loss: 1.0144\n",
      "Epoch 59/60\n",
      "\u001b[1m2522/2522\u001b[0m \u001b[32m━━━━━━━━━━━━━━━━━━━━\u001b[0m\u001b[37m\u001b[0m \u001b[1m3s\u001b[0m 1ms/step - accuracy: 0.9599 - loss: 0.1232 - val_accuracy: 0.7181 - val_loss: 1.0487\n",
      "Epoch 60/60\n",
      "\u001b[1m2522/2522\u001b[0m \u001b[32m━━━━━━━━━━━━━━━━━━━━\u001b[0m\u001b[37m\u001b[0m \u001b[1m3s\u001b[0m 1ms/step - accuracy: 0.9563 - loss: 0.1309 - val_accuracy: 0.7328 - val_loss: 1.0639\n"
     ]
    }
   ],
   "source": [
    "# Construção do Modelo de Classificação\n",
    "model = tf.keras.Sequential([\n",
    "    # A camada de entrada espera vetores com 1024 dimensões (o tamanho do embedding ELMo)\n",
    "    tf.keras.layers.InputLayer(input_shape=(1024,)),\n",
    "    \n",
    "    # Camada oculta para aprender padrões nos embeddings\n",
    "    tf.keras.layers.Dense(128, activation='relu'),\n",
    "    tf.keras.layers.Dropout(0.5), # Dropout para evitar overfitting\n",
    "    \n",
    "    # Camada de saída para classificação binária\n",
    "    tf.keras.layers.Dense(1, activation='sigmoid')\n",
    "])\n",
    "\n",
    "# Compilação do Modelo\n",
    "model.compile(optimizer='adam',\n",
    "              loss='binary_crossentropy',\n",
    "              metrics=['accuracy'])\n",
    "\n",
    "model.summary()\n",
    "\n",
    "# Treinamento do Modelo\n",
    "print(\"\\nIniciando o treinamento do classificador...\")\n",
    "history = model.fit(\n",
    "    X_train,\n",
    "    y_train,\n",
    "    epochs=60,\n",
    "    batch_size=4,\n",
    "    validation_data=(X_test, y_test),\n",
    "    class_weight=class_weights, #Atribui os pesos de classe\n",
    "    verbose=1\n",
    ")"
   ]
  },
  {
   "cell_type": "code",
   "execution_count": null,
   "id": "b2226ed8",
   "metadata": {},
   "outputs": [],
   "source": [
    "model.save('meu_classificador_com_BGE-M3.keras')"
   ]
  },
  {
   "cell_type": "code",
   "execution_count": 10,
   "id": "67af4918",
   "metadata": {},
   "outputs": [
    {
     "name": "stdout",
     "output_type": "stream",
     "text": [
      "Acurácia (Keras): 73.28%\n",
      "Loss (Keras): 1.0639\n",
      "\n",
      "\u001b[1m79/79\u001b[0m \u001b[32m━━━━━━━━━━━━━━━━━━━━\u001b[0m\u001b[37m\u001b[0m \u001b[1m0s\u001b[0m 3ms/step \n",
      "Relatório de Classificação:\n",
      "                     precision    recall  f1-score   support\n",
      "\n",
      "   Classe 0 (2023+)       0.52      0.42      0.46       694\n",
      "Classe 1 (Pré-2023)       0.79      0.85      0.82      1828\n",
      "\n",
      "           accuracy                           0.73      2522\n",
      "          macro avg       0.66      0.63      0.64      2522\n",
      "       weighted avg       0.72      0.73      0.72      2522\n",
      "\n",
      "Matriz de Confusão:\n",
      "[[ 289  405]\n",
      " [ 269 1559]]\n"
     ]
    },
    {
     "data": {
      "image/png": "[encoded data removed]",
      "text/plain": [
       "<Figure size 800x600 with 2 Axes>"
      ]
     },
     "metadata": {},
     "output_type": "display_data"
    }
   ],
   "source": [
    "# Avaliação\n",
    "\n",
    "# Avaliação básica com Keras\n",
    "loss, accuracy = model.evaluate(X_test, y_test, verbose=0)\n",
    "print(f\"Acurácia (Keras): {accuracy * 100:.2f}%\")\n",
    "print(f\"Loss (Keras): {loss:.4f}\\n\")\n",
    "\n",
    "# 2. Predições do modelo para o conjunto de teste (Probabilidades)\n",
    "y_pred_prob = model.predict(X_test)\n",
    "\n",
    "# 3. Converção em classes (0 ou 1). Se a prob > 0.5, então 1, senão 0.\n",
    "y_pred = (y_pred_prob > 0.5).astype(\"int32\")\n",
    "\n",
    "# 4. Classificação Detalhada\n",
    "print(\"Relatório de Classificação:\")\n",
    "# 0: 2023 ou DEPOIS\n",
    "# 1: ANTES de 2023\n",
    "target_names = ['Classe 0 (2023+)', 'Classe 1 (Pré-2023)']\n",
    "print(classification_report(y_test, y_pred, target_names=target_names))\n",
    "\n",
    "# 5. Matriz de Confusão\n",
    "print(\"Matriz de Confusão:\")\n",
    "cm = confusion_matrix(y_test, y_pred)\n",
    "print(cm)\n",
    "\n",
    "# Visualização da Matriz de Confusão\n",
    "plt.figure(figsize=(8, 6))\n",
    "sns.heatmap(cm, annot=True, fmt='d', cmap='Blues', xticklabels=target_names, yticklabels=target_names)\n",
    "plt.xlabel('Predito')\n",
    "plt.ylabel('Verdadeiro')\n",
    "plt.title('Matriz de Confusão')\n",
    "plt.show()"
   ]
  },
  {
   "cell_type": "markdown",
   "id": "e0a84a93",
   "metadata": {},
   "source": [
    "# TESTE COM DADOS DIFERENTES DO DATASET A PARIR DE UM MODELO GERADO."
   ]
  },
  {
   "cell_type": "code",
   "execution_count": null,
   "id": "0a0fcebb",
   "metadata": {},
   "outputs": [],
   "source": [
    "# 1. Carregar o Modelo de Embedding (BGE-M3)\n",
    "embedding_model = SentenceTransformer(\"BAAI/bge-m3\")\n",
    "\n",
    "# 2. Carregar o seu Classificador Keras treinado\n",
    "classificador = tf.keras.models.load_model('meu_classificador_com_BGE-M3.keras')\n",
    "\n",
    "novos_titulos = [\n",
    "    \"Um estudo sobre o impacto da IA generativa no desenvolvimento de software\",\n",
    "    \"Implementação de algoritmos de parsing para compiladores em Pascal\",\n",
    "    \"Otimização de redes neurais para sistemas embarcados de baixa potência\",\n",
    "    \"Análise de sistemas de informação com metodologia estruturada\",\n",
    "    \"Fine-tuning de LLMs para tarefas de tradução em português\",\n",
    "    \"Knowledge graphs para recomendação de produtos em e-commerce\",\n",
    "    \"Análise de sentimentos em redes sociais utilizando BERT\",\n",
    "    \"Desenvolvimento de chatbots inteligentes com GPT-3\",\n",
    "    \"Avaliação de técnicas de segurança em redes de computadores\",\n",
    "    \"Estudo sobre algoritmos de compressão de dados para grandes volumes\",\n",
    "    \"Aplicações de aprendizado por reforço em jogos digitais\",\n",
    "    \"Técnicas de visualização de dados para análise exploratória\",\n",
    "    \"Desenvolvimento de sistemas distribuídos com microserviços\",\n",
    "    \"Análise de desempenho de bancos de dados NoSQL em aplicações web\",\n",
    "    \"Estudo sobre algoritmos de criptografia para segurança de dados\",\n",
    "    \"Implementação de redes neurais convolucionais para reconhecimento de imagens\",\n",
    "    \"Desenvolvimento de aplicações móveis com Flutter\",\n",
    "    \"Técnicas de mineração de dados para detecção de fraudes financeiras\",\n",
    "    \"Estudo sobre a evolução dos sistemas operacionais ao longo das décadas\",\n",
    "    \"Fine-tuning de LLMs para tarefas de tradução em português\",\n",
    "    \"knowledge distillation em modelos de linguagem grande\",\n",
    "    \"Compact models for edge AI applications\",\n",
    "    \"Analysis of Criminal Patterns in Police Report Narratives using Spectral Clustering with K-means\",\n",
    "    \"Knowledge Distillation in Compact Models: An Approach Applied to Text Processing for Public Security\",\n",
    "    \"Inteligência Artificial e sociedade: avanços e riscos\"\n",
    "]\n",
    "\n",
    "novos_embeddings = embedding_model.encode(novos_titulos)\n",
    "predicoes_prob = classificador.predict(novos_embeddings)\n",
    "\n",
    "# Resultados\n",
    "for i, titulo in enumerate(novos_titulos):\n",
    "    prob = predicoes_prob[i][0]\n",
    "    \n",
    "    if prob > 0.5:\n",
    "        # Classe 1\n",
    "        classificacao = \"ANTES de 2023\"\n",
    "        confianca = prob * 100\n",
    "    else:\n",
    "        # Classe 0\n",
    "        classificacao = \"2023 ou DEPOIS\"\n",
    "        confianca = (1 - prob) * 100\n",
    "        \n",
    "    print(f\"Título: '{titulo}'\")\n",
    "    print(f\"  -> Classificação: {classificacao} (Confiança: {confianca:.2f}%)\\n\")"
   ]
  }
 ],
 "metadata": {
  "kernelspec": {
   "display_name": ".venv",
   "language": "python",
   "name": "python3"
  },
  "language_info": {
   "codemirror_mode": {
    "name": "ipython",
    "version": 3
   },
   "file_extension": ".py",
   "mimetype": "text/x-python",
   "name": "python",
   "nbconvert_exporter": "python",
   "pygments_lexer": "ipython3",
   "version": "3.10.12"
  }
 },
 "nbformat": 4,
 "nbformat_minor": 5
}
